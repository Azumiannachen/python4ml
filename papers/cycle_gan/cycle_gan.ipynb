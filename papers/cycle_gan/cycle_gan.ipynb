{
 "cells": [
  {
   "cell_type": "markdown",
   "metadata": {},
   "source": [
    "# Cycle GAN"
   ]
  },
  {
   "cell_type": "markdown",
   "metadata": {},
   "source": [
    "Based on paper [Unpaired Image-to-Image Translation using Cycle-Consistent Adversarial Networks](https://arxiv.org/abs/1703.10593)"
   ]
  },
  {
   "cell_type": "code",
   "execution_count": 1,
   "metadata": {
    "collapsed": true
   },
   "outputs": [],
   "source": [
    "import torch\n",
    "from torch import nn\n",
    "import math"
   ]
  },
  {
   "cell_type": "code",
   "execution_count": 2,
   "metadata": {
    "collapsed": true
   },
   "outputs": [],
   "source": [
    "from models import generative,discriminative"
   ]
  },
  {
   "cell_type": "code",
   "execution_count": 3,
   "metadata": {},
   "outputs": [],
   "source": [
    "G_1 = generative([3,128,128,256,128])\n",
    "D_1 = discriminative([64,64,64,128,128,256,256])\n",
    "\n",
    "G_2 = generative([3,128,128,256,128]) \n",
    "D_2 = discriminative([64,64,64,128,128,256,256])"
   ]
  },
  {
   "cell_type": "code",
   "execution_count": 4,
   "metadata": {
    "collapsed": true
   },
   "outputs": [],
   "source": [
    "D = discriminative([64,64,64,128,128,256,256])"
   ]
  },
  {
   "cell_type": "code",
   "execution_count": 5,
   "metadata": {
    "collapsed": true
   },
   "outputs": [],
   "source": [
    "class cycle(nn.Module):\n",
    "    def __init__(self,g_fn = [3,128,128,256,128],d_fn = [64,64,64,128,128,256,256]):\n",
    "        super(cycle,self).__init__()\n",
    "        self.g_fn = g_fn\n",
    "        self.d_fn = d_fn\n",
    "        self.G_x = generative(self.g_fn)\n",
    "        self.D_x = discriminative(self.d_fn)\n",
    "        self.G_y = generative(self.g_fn)\n",
    "        self.D_y = discriminative(self.d_fn)\n",
    "        \n",
    "#def L_gan_x(y,_y):"
   ]
  },
  {
   "cell_type": "markdown",
   "metadata": {},
   "source": [
    "### Loss Function"
   ]
  },
  {
   "cell_type": "markdown",
   "metadata": {},
   "source": [
    "#### GAN Loss\n",
    "\n",
    "$\\large L_{GAN}(G,D_{Y},X,Y) = {\\mathbb E}_{y \\tilde{} p_{Data}(y)} [logD_{Y}(y)] +  {\\mathbb E}_{x \\tilde{} p_{Data}(x)} [log(1-D_{Y}(G(x)))]$\n",
    "\n",
    "$\\large L_{GAN}(F,D_{X},Y,X) = {\\mathbb E}_{x \\tilde{} p_{Data}(x)} [logD_{X}(x)] +  {\\mathbb E}_{y \\tilde{} p_{Data}(y)} [log(1-D_{X}(F(y)))]$\n",
    "\n",
    "#### Cycle Consistency Loss\n",
    "\n",
    "$\\large L_{cyc}(G,F) = {\\mathbb E}_{x \\tilde{} p_{Data}(x)}[||F(G(x))-x||_{1}]\n",
    "+ {\\mathbb E}_{y \\tilde{} p_{Data}(y)}[||G(F(y))-y||_{1}]$\n",
    "\n",
    "#### Full Objective\n",
    "\n",
    "$\\large L(G,F,D_{X},D_{Y}) =  L_{GAN}(G,D_{Y},X,Y) + L_{GAN}(F,D_{X},Y,X) + \\lambda L_{cyc}(G,F)$"
   ]
  },
  {
   "cell_type": "markdown",
   "metadata": {},
   "source": [
    "### Data Generator"
   ]
  },
  {
   "cell_type": "code",
   "execution_count": null,
   "metadata": {
    "collapsed": true
   },
   "outputs": [],
   "source": [
    "class "
   ]
  },
  {
   "cell_type": "code",
   "execution_count": null,
   "metadata": {
    "collapsed": true
   },
   "outputs": [],
   "source": []
  }
 ],
 "metadata": {
  "kernelspec": {
   "display_name": "Python 3",
   "language": "python",
   "name": "python3"
  },
  "language_info": {
   "codemirror_mode": {
    "name": "ipython",
    "version": 3
   },
   "file_extension": ".py",
   "mimetype": "text/x-python",
   "name": "python",
   "nbconvert_exporter": "python",
   "pygments_lexer": "ipython3",
   "version": "3.6.1"
  }
 },
 "nbformat": 4,
 "nbformat_minor": 2
}
