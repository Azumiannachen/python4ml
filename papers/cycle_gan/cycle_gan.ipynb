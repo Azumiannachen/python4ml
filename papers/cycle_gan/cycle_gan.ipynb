{
 "cells": [
  {
   "cell_type": "markdown",
   "metadata": {},
   "source": [
    "# Cycle GAN"
   ]
  },
  {
   "cell_type": "markdown",
   "metadata": {},
   "source": [
    "Based on paper [Unpaired Image-to-Image Translation using Cycle-Consistent Adversarial Networks](https://arxiv.org/abs/1703.10593)"
   ]
  },
  {
   "cell_type": "code",
   "execution_count": 1,
   "metadata": {
    "collapsed": true
   },
   "outputs": [],
   "source": [
    "import torch\n",
    "from torch import nn\n",
    "import math\n",
    "import numpy as np"
   ]
  },
  {
   "cell_type": "code",
   "execution_count": 2,
   "metadata": {
    "collapsed": true
   },
   "outputs": [],
   "source": [
    "HEIGHT = 160\n",
    "WIDTH = 160\n",
    "DATA = \"/Users/zhangxiaochen/github/CycleGAN/datasets/summer2winter_yosemite/\""
   ]
  },
  {
   "cell_type": "code",
   "execution_count": 3,
   "metadata": {
    "collapsed": true
   },
   "outputs": [],
   "source": [
    "from models import generative,discriminative"
   ]
  },
  {
   "cell_type": "code",
   "execution_count": 4,
   "metadata": {},
   "outputs": [],
   "source": [
    "G_1 = generative([3,128,128,256,128])\n",
    "D_1 = discriminative([64,64,64,128,128,256,256])\n",
    "\n",
    "G_2 = generative([3,128,128,256,128]) \n",
    "D_2 = discriminative([64,64,64,128,128,256,256])"
   ]
  },
  {
   "cell_type": "code",
   "execution_count": 5,
   "metadata": {
    "collapsed": true
   },
   "outputs": [],
   "source": [
    "D = discriminative([64,64,64,128,128,256,256])"
   ]
  },
  {
   "cell_type": "code",
   "execution_count": 6,
   "metadata": {},
   "outputs": [
    {
     "data": {
      "text/plain": [
       "Adam (\n",
       "Parameter Group 0\n",
       "    amsgrad: False\n",
       "    betas: (0.9, 0.999)\n",
       "    eps: 1e-08\n",
       "    lr: 0.001\n",
       "    weight_decay: 0\n",
       ")"
      ]
     },
     "execution_count": 6,
     "metadata": {},
     "output_type": "execute_result"
    }
   ],
   "source": [
    "from torch.optim import Adam\n",
    "\n",
    "Adam(list(G_1.parameters())+list(G_2.parameters()))"
   ]
  },
  {
   "cell_type": "code",
   "execution_count": 7,
   "metadata": {
    "collapsed": true
   },
   "outputs": [],
   "source": [
    "from torch.optim import Adam\n",
    "class cycle(nn.Module):\n",
    "    def __init__(self,g_fn = [3,128,128,256,128],d_fn = [64,64,64,128,128,256,256]):\n",
    "        super(cycle,self).__init__()\n",
    "        self.g_fn = g_fn\n",
    "        self.d_fn = d_fn\n",
    "        self.G_x = generative(self.g_fn)\n",
    "        self.D_x = discriminative(self.d_fn)\n",
    "        self.G_y = generative(self.g_fn)\n",
    "        self.D_y = discriminative(self.d_fn)\n",
    "        \n",
    "        self.opt_Dx = Adam(self.D_x.parameters())\n",
    "        self.opt_Dy = Adam(self.D_y.parameters())\n",
    "        \n",
    "        self.opt_G = Adam(list(self.G_x.parameters())+list(self.G_x.parameters()))\n",
    "        \n",
    "    def zero_grad(self):\n",
    "        self.opt_Dx.zero_grad()\n",
    "        self.opt_Dy.zero_grad()\n",
    "        self.opt_G.zero_grad()\n",
    "        \n",
    "#def L_gan_x(y,_y):"
   ]
  },
  {
   "cell_type": "code",
   "execution_count": 8,
   "metadata": {
    "collapsed": true
   },
   "outputs": [],
   "source": [
    "c = cycle()"
   ]
  },
  {
   "cell_type": "markdown",
   "metadata": {},
   "source": [
    "### Loss Function"
   ]
  },
  {
   "cell_type": "markdown",
   "metadata": {},
   "source": [
    "#### GAN Loss\n",
    "\n",
    "$\\large L_{GAN}(G,D_{Y},X,Y) = {\\mathbb E}_{y \\tilde{} p_{Data}(y)} [logD_{Y}(y)] +  {\\mathbb E}_{x \\tilde{} p_{Data}(x)} [log(1-D_{Y}(G(x)))]$\n",
    "\n",
    "$\\large L_{GAN}(F,D_{X},Y,X) = {\\mathbb E}_{x \\tilde{} p_{Data}(x)} [logD_{X}(x)] +  {\\mathbb E}_{y \\tilde{} p_{Data}(y)} [log(1-D_{X}(F(y)))]$\n",
    "\n",
    "#### Cycle Consistency Loss\n",
    "\n",
    "$\\large L_{cyc}(G,F) = {\\mathbb E}_{x \\tilde{} p_{Data}(x)}[||F(G(x))-x||_{1}]\n",
    "+ {\\mathbb E}_{y \\tilde{} p_{Data}(y)}[||G(F(y))-y||_{1}]$\n",
    "\n",
    "#### Full Objective\n",
    "\n",
    "$\\large L(G,F,D_{X},D_{Y}) =  L_{GAN}(G,D_{Y},X,Y) + L_{GAN}(F,D_{X},Y,X) + \\lambda L_{cyc}(G,F)$"
   ]
  },
  {
   "cell_type": "markdown",
   "metadata": {},
   "source": [
    "### Data Generator"
   ]
  },
  {
   "cell_type": "code",
   "execution_count": 9,
   "metadata": {
    "collapsed": true
   },
   "outputs": [],
   "source": [
    "from torch.utils.data.dataset import Dataset\n",
    "from torch.utils.data import DataLoader\n",
    "from torchvision import transforms\n",
    "from PIL import Image"
   ]
  },
  {
   "cell_type": "code",
   "execution_count": 10,
   "metadata": {},
   "outputs": [],
   "source": [
    "from glob import glob\n",
    "class data_cg(Dataset):\n",
    "    def __init__(self,dir_X,dir_Y,iters = 5000):\n",
    "        self.iters = iters\n",
    "        self.dir_X = dir_X\n",
    "        self.dir_Y = dir_Y\n",
    "        self.X_list = self.glob_list(self.dir_X)\n",
    "        self.Y_list = self.glob_list(self.dir_Y)\n",
    "        self.X_urls = np.random.choice(self.X_list,self.iters).tolist()\n",
    "        self.Y_urls = np.random.choice(self.Y_list,self.iters).tolist()\n",
    "        self.transform = transforms.Compose([transforms.Resize((HEIGHT,WIDTH)),\n",
    "                                transforms.ToTensor(),\n",
    "                                transforms.Normalize([.5,.5,.5],[.5,.5,.5])\n",
    "                               ])\n",
    "        \n",
    "    def __len__(self):\n",
    "        return self.iters\n",
    "    \n",
    "    def __getitem__(self, idx):\n",
    "        x_url = self.X_urls[idx]\n",
    "        y_url = self.Y_urls[idx]\n",
    "        \n",
    "        X_img = Image.open(x_url).convert(\"RGB\")\n",
    "        Y_img = Image.open(y_url).convert(\"RGB\")\n",
    "        \n",
    "        X = self.transform(X_img)\n",
    "        Y = self.transform(Y_img)\n",
    "        \n",
    "        return X,Y\n",
    "        \n",
    "    def glob_list(self,dir):\n",
    "        if dir[-1]!=\"/\":\n",
    "            dir = dir+\"/\"\n",
    "        dir = dir+\"*\"\n",
    "        return glob(dir)"
   ]
  },
  {
   "cell_type": "markdown",
   "metadata": {},
   "source": [
    "### Dataset Test"
   ]
  },
  {
   "cell_type": "code",
   "execution_count": 11,
   "metadata": {},
   "outputs": [],
   "source": [
    "ds = data_cg(DATA+\"trainA/\",DATA+\"trainB/\")\n",
    "dl = DataLoader(ds,batch_size=2,shuffle=True)\n",
    "\n",
    "gen = iter(dl)\n",
    "\n",
    "a = next(gen)"
   ]
  },
  {
   "cell_type": "markdown",
   "metadata": {},
   "source": [
    "### Trainning"
   ]
  },
  {
   "cell_type": "code",
   "execution_count": 12,
   "metadata": {
    "collapsed": true
   },
   "outputs": [],
   "source": [
    "from torch.nn import MSELoss"
   ]
  },
  {
   "cell_type": "code",
   "execution_count": 13,
   "metadata": {
    "collapsed": true
   },
   "outputs": [],
   "source": [
    "from torch import cuda"
   ]
  },
  {
   "cell_type": "code",
   "execution_count": 14,
   "metadata": {
    "collapsed": true
   },
   "outputs": [],
   "source": [
    "CUDA  = cuda.is_available()"
   ]
  },
  {
   "cell_type": "code",
   "execution_count": 15,
   "metadata": {
    "collapsed": true
   },
   "outputs": [],
   "source": [
    "mse = MSELoss()"
   ]
  },
  {
   "cell_type": "markdown",
   "metadata": {},
   "source": [
    "#### GAN Loss\n",
    "\n",
    "$\\large L_{GAN}(G,D_{Y},X,Y) = {\\mathbb E}_{y \\tilde{} p_{Data}(y)} [logD_{Y}(y)] +  {\\mathbb E}_{x \\tilde{} p_{Data}(x)} [log(1-D_{Y}(G(x)))]$\n",
    "\n",
    "$\\large L_{GAN}(F,D_{X},Y,X) = {\\mathbb E}_{x \\tilde{} p_{Data}(x)} [logD_{X}(x)] +  {\\mathbb E}_{y \\tilde{} p_{Data}(y)} [log(1-D_{X}(F(y)))]$\n",
    "\n",
    "#### Cycle Consistency Loss\n",
    "\n",
    "$\\large L_{cyc}(G,F) = {\\mathbb E}_{x \\tilde{} p_{Data}(x)}[||F(G(x))-x||_{1}]\n",
    "+ {\\mathbb E}_{y \\tilde{} p_{Data}(y)}[||G(F(y))-y||_{1}]$\n",
    "\n",
    "#### Full Objective\n",
    "\n",
    "$\\large L(G,F,D_{X},D_{Y}) =  L_{GAN}(G,D_{Y},X,Y) + L_{GAN}(F,D_{X},Y,X) + \\lambda L_{cyc}(G,F)$"
   ]
  },
  {
   "cell_type": "code",
   "execution_count": 16,
   "metadata": {
    "collapsed": true
   },
   "outputs": [],
   "source": [
    "def loss_D(D,real,fake):\n",
    "    dt = torch.cat([real,fake],dim=0)\n",
    "    y_ = D(dt)\n",
    "    y = torch.cat([torch.zeros(real.size()[0],1),torch.ones(fake.size()[0],1)],dim=0)\n",
    "    if CUDA:\n",
    "        y = y.cuda()\n",
    "    return mse(y_,y)\n",
    "\n",
    "def train_D(X,Y):\n",
    "    Y_ = c.G_x(X)\n",
    "    X_ = c.G_y(Y)\n",
    "    loss_D_x = loss_D(D = c.D_x, real = X, fake = X_)\n",
    "    loss_D_y = loss_D(D = c.D_y, real = Y, fake = Y_)\n",
    "    \n",
    "    loss_D_x.backward()\n",
    "    loss_D_y.backward()\n",
    "    \n",
    "    c.opt_Dx.step()\n",
    "    c.opt_Dy.step()\n",
    "    \n",
    "    return loss_D_x,loss_D_y\n",
    "\n",
    "def train_G(X,Y,lbd = 1e1):\n",
    "    L_gan_y = torch.log(c.D_y(Y)).sum()+torch.log(1-c.D_y(c.G_x(X))).sum()\n",
    "    L_gan_x = torch.log(c.D_x(X)).sum()+torch.log(1-c.D_x(c.G_y(Y))).sum()\n",
    "    L_cycle = torch.abs(c.G_y(c.G_x(X))-X).sum() + torch.abs(c.G_x(c.G_y(Y))-Y).sum()\n",
    "    \n",
    "    Loss = L_gan_y+L_gan_x+lbd*L_cycle\n",
    "    \n",
    "    Loss.backward()\n",
    "    c.opt_G.step()\n",
    "    \n",
    "    return Loss,L_gan_y,L_gan_x,L_cycle\n",
    "    \n",
    "def action(*args,**kwargs):\n",
    "    X,Y = args[0]\n",
    "    if CUDA:\n",
    "        X,Y = X.cuda(),Y.cuda()\n",
    "    \n",
    "    c.zero_grad()\n",
    "    loss_D_x,loss_D_y = train_D(X,Y)\n",
    "    \n",
    "    c.zero_grad()\n",
    "    Loss,L_gan_y,L_gan_x,L_cycle = train_G(X,Y,lbd=1e1)\n",
    "    \n",
    "    return {\"loss_D_x\":loss_D_x.item(),\n",
    "            \"loss_D_y\":loss_D_y.item(),\n",
    "            \"Loss\":Loss.item(),\n",
    "            \"L_gan_y\":L_gan_y.item(),\n",
    "            \"L_gan_x\":L_gan_x.item(),\n",
    "            \"L_cycle\":L_cycle.item(),}\n",
    "    "
   ]
  },
  {
   "cell_type": "code",
   "execution_count": 17,
   "metadata": {
    "collapsed": true
   },
   "outputs": [],
   "source": [
    "from p3self.matchbox import Trainer"
   ]
  },
  {
   "cell_type": "code",
   "execution_count": 18,
   "metadata": {
    "collapsed": true
   },
   "outputs": [],
   "source": [
    "trainer=Trainer(data_cg(DATA+\"trainA/\",DATA+\"trainB/\"),batch_size=2)"
   ]
  },
  {
   "cell_type": "code",
   "execution_count": 19,
   "metadata": {
    "collapsed": true
   },
   "outputs": [],
   "source": [
    "trainer.action = action"
   ]
  },
  {
   "cell_type": "code",
   "execution_count": 21,
   "metadata": {},
   "outputs": [
    {
     "name": "stderr",
     "output_type": "stream",
     "text": [
      "\n",
      "  0%|          | 0/2500 [00:00<?, ?it/s]\u001b[A\n",
      "  0%|          | 1/2500 [04:10<173:41:57, 250.23s/it]\u001b[A\n",
      "  0%|          | 2/2500 [08:02<167:24:11, 241.25s/it]\u001b[A\n",
      "  0%|          | 3/2500 [11:52<164:45:53, 237.55s/it]\u001b[A"
     ]
    },
    {
     "ename": "KeyboardInterrupt",
     "evalue": "",
     "output_type": "error",
     "traceback": [
      "\u001b[0;31m---------------------------------------------------------------------\u001b[0m",
      "\u001b[0;31mKeyboardInterrupt\u001b[0m                   Traceback (most recent call last)",
      "\u001b[0;32m<ipython-input-21-f604ece6c8c8>\u001b[0m in \u001b[0;36m<module>\u001b[0;34m()\u001b[0m\n\u001b[0;32m----> 1\u001b[0;31m \u001b[0mtrainer\u001b[0m\u001b[0;34m.\u001b[0m\u001b[0mtrain\u001b[0m\u001b[0;34m(\u001b[0m\u001b[0;36m1\u001b[0m\u001b[0;34m)\u001b[0m\u001b[0;34m\u001b[0m\u001b[0m\n\u001b[0m",
      "\u001b[0;32m/Users/zhangxiaochen/nbs/p3self/matchbox.py\u001b[0m in \u001b[0;36mtrain\u001b[0;34m(self, epochs, name, log_addr)\u001b[0m\n\u001b[1;32m     89\u001b[0m         \u001b[0;32mfor\u001b[0m \u001b[0mepoch\u001b[0m \u001b[0;32min\u001b[0m \u001b[0mrange\u001b[0m\u001b[0;34m(\u001b[0m\u001b[0mepochs\u001b[0m\u001b[0;34m)\u001b[0m\u001b[0;34m:\u001b[0m\u001b[0;34m\u001b[0m\u001b[0m\n\u001b[1;32m     90\u001b[0m             \u001b[0mself\u001b[0m\u001b[0;34m.\u001b[0m\u001b[0mtrack\u001b[0m\u001b[0;34m[\u001b[0m\u001b[0mepoch\u001b[0m\u001b[0;34m]\u001b[0m\u001b[0;34m=\u001b[0m\u001b[0mlist\u001b[0m\u001b[0;34m(\u001b[0m\u001b[0;34m)\u001b[0m\u001b[0;34m\u001b[0m\u001b[0m\n\u001b[0;32m---> 91\u001b[0;31m             \u001b[0mself\u001b[0m\u001b[0;34m.\u001b[0m\u001b[0mrun\u001b[0m\u001b[0;34m(\u001b[0m\u001b[0mepoch\u001b[0m\u001b[0;34m)\u001b[0m\u001b[0;34m\u001b[0m\u001b[0m\n\u001b[0m\u001b[1;32m     92\u001b[0m         \u001b[0;32mif\u001b[0m \u001b[0mself\u001b[0m\u001b[0;34m.\u001b[0m\u001b[0mis_log\u001b[0m\u001b[0;34m:\u001b[0m\u001b[0;34m\u001b[0m\u001b[0m\n\u001b[1;32m     93\u001b[0m             \u001b[0mos\u001b[0m\u001b[0;34m.\u001b[0m\u001b[0msystem\u001b[0m\u001b[0;34m(\u001b[0m\u001b[0;34m\"mkdir -p %s\"\u001b[0m\u001b[0;34m%\u001b[0m\u001b[0;34m(\u001b[0m\u001b[0mlog_addr\u001b[0m\u001b[0;34m)\u001b[0m\u001b[0;34m)\u001b[0m\u001b[0;34m\u001b[0m\u001b[0m\n",
      "\u001b[0;32m/Users/zhangxiaochen/nbs/p3self/matchbox.py\u001b[0m in \u001b[0;36mrun\u001b[0;34m(self, epoch)\u001b[0m\n\u001b[1;32m    111\u001b[0m         \u001b[0;32mfor\u001b[0m \u001b[0mi\u001b[0m \u001b[0;32min\u001b[0m \u001b[0mt\u001b[0m\u001b[0;34m:\u001b[0m\u001b[0;34m\u001b[0m\u001b[0m\n\u001b[1;32m    112\u001b[0m \u001b[0;34m\u001b[0m\u001b[0m\n\u001b[0;32m--> 113\u001b[0;31m             \u001b[0mret\u001b[0m \u001b[0;34m=\u001b[0m \u001b[0mself\u001b[0m\u001b[0;34m.\u001b[0m\u001b[0maction\u001b[0m\u001b[0;34m(\u001b[0m\u001b[0mnext\u001b[0m\u001b[0;34m(\u001b[0m\u001b[0mself\u001b[0m\u001b[0;34m.\u001b[0m\u001b[0mtrain_gen\u001b[0m\u001b[0;34m)\u001b[0m\u001b[0;34m,\u001b[0m\u001b[0mepoch\u001b[0m\u001b[0;34m=\u001b[0m\u001b[0mepoch\u001b[0m\u001b[0;34m,\u001b[0m\u001b[0mite\u001b[0m\u001b[0;34m=\u001b[0m\u001b[0mi\u001b[0m\u001b[0;34m)\u001b[0m\u001b[0;34m\u001b[0m\u001b[0m\n\u001b[0m\u001b[1;32m    114\u001b[0m             \u001b[0mret\u001b[0m\u001b[0;34m.\u001b[0m\u001b[0mupdate\u001b[0m\u001b[0;34m(\u001b[0m\u001b[0;34m{\u001b[0m\u001b[0;34m\"epoch\"\u001b[0m\u001b[0;34m:\u001b[0m\u001b[0mepoch\u001b[0m\u001b[0;34m,\u001b[0m\u001b[0;34m\"iter\"\u001b[0m\u001b[0;34m:\u001b[0m\u001b[0mi\u001b[0m\u001b[0;34m}\u001b[0m\u001b[0;34m)\u001b[0m\u001b[0;34m\u001b[0m\u001b[0m\n\u001b[1;32m    115\u001b[0m             \u001b[0mself\u001b[0m\u001b[0;34m.\u001b[0m\u001b[0mtrack\u001b[0m\u001b[0;34m[\u001b[0m\u001b[0mepoch\u001b[0m\u001b[0;34m]\u001b[0m\u001b[0;34m.\u001b[0m\u001b[0mappend\u001b[0m\u001b[0;34m(\u001b[0m\u001b[0mret\u001b[0m\u001b[0;34m)\u001b[0m\u001b[0;34m\u001b[0m\u001b[0m\n",
      "\u001b[0;32m<ipython-input-16-622a487160c8>\u001b[0m in \u001b[0;36maction\u001b[0;34m(*args, **kwargs)\u001b[0m\n\u001b[1;32m     42\u001b[0m \u001b[0;34m\u001b[0m\u001b[0m\n\u001b[1;32m     43\u001b[0m     \u001b[0mc\u001b[0m\u001b[0;34m.\u001b[0m\u001b[0mzero_grad\u001b[0m\u001b[0;34m(\u001b[0m\u001b[0;34m)\u001b[0m\u001b[0;34m\u001b[0m\u001b[0m\n\u001b[0;32m---> 44\u001b[0;31m     \u001b[0mLoss\u001b[0m\u001b[0;34m,\u001b[0m\u001b[0mL_gan_y\u001b[0m\u001b[0;34m,\u001b[0m\u001b[0mL_gan_x\u001b[0m\u001b[0;34m,\u001b[0m\u001b[0mL_cycle\u001b[0m \u001b[0;34m=\u001b[0m \u001b[0mtrain_G\u001b[0m\u001b[0;34m(\u001b[0m\u001b[0mX\u001b[0m\u001b[0;34m,\u001b[0m\u001b[0mY\u001b[0m\u001b[0;34m,\u001b[0m\u001b[0mlbd\u001b[0m\u001b[0;34m=\u001b[0m\u001b[0;36m1e1\u001b[0m\u001b[0;34m)\u001b[0m\u001b[0;34m\u001b[0m\u001b[0m\n\u001b[0m\u001b[1;32m     45\u001b[0m \u001b[0;34m\u001b[0m\u001b[0m\n\u001b[1;32m     46\u001b[0m     return {\"loss_D_x\":loss_D_x.item(),\n",
      "\u001b[0;32m<ipython-input-16-622a487160c8>\u001b[0m in \u001b[0;36mtrain_G\u001b[0;34m(X, Y, lbd)\u001b[0m\n\u001b[1;32m     28\u001b[0m     \u001b[0mLoss\u001b[0m \u001b[0;34m=\u001b[0m \u001b[0mL_gan_y\u001b[0m\u001b[0;34m+\u001b[0m\u001b[0mL_gan_x\u001b[0m\u001b[0;34m+\u001b[0m\u001b[0mlbd\u001b[0m\u001b[0;34m*\u001b[0m\u001b[0mL_cycle\u001b[0m\u001b[0;34m\u001b[0m\u001b[0m\n\u001b[1;32m     29\u001b[0m \u001b[0;34m\u001b[0m\u001b[0m\n\u001b[0;32m---> 30\u001b[0;31m     \u001b[0mLoss\u001b[0m\u001b[0;34m.\u001b[0m\u001b[0mbackward\u001b[0m\u001b[0;34m(\u001b[0m\u001b[0;34m)\u001b[0m\u001b[0;34m\u001b[0m\u001b[0m\n\u001b[0m\u001b[1;32m     31\u001b[0m     \u001b[0mc\u001b[0m\u001b[0;34m.\u001b[0m\u001b[0mopt_G\u001b[0m\u001b[0;34m.\u001b[0m\u001b[0mstep\u001b[0m\u001b[0;34m(\u001b[0m\u001b[0;34m)\u001b[0m\u001b[0;34m\u001b[0m\u001b[0m\n\u001b[1;32m     32\u001b[0m \u001b[0;34m\u001b[0m\u001b[0m\n",
      "\u001b[0;32m/Users/zhangxiaochen/anaconda3/lib/python3.6/site-packages/torch/tensor.py\u001b[0m in \u001b[0;36mbackward\u001b[0;34m(self, gradient, retain_graph, create_graph)\u001b[0m\n\u001b[1;32m     91\u001b[0m                 \u001b[0mproducts\u001b[0m\u001b[0;34m.\u001b[0m \u001b[0mDefaults\u001b[0m \u001b[0mto\u001b[0m\u001b[0;31m \u001b[0m\u001b[0;31m`\u001b[0m\u001b[0;31m`\u001b[0m\u001b[0;32mFalse\u001b[0m\u001b[0;31m`\u001b[0m\u001b[0;31m`\u001b[0m\u001b[0;34m.\u001b[0m\u001b[0;34m\u001b[0m\u001b[0m\n\u001b[1;32m     92\u001b[0m         \"\"\"\n\u001b[0;32m---> 93\u001b[0;31m         \u001b[0mtorch\u001b[0m\u001b[0;34m.\u001b[0m\u001b[0mautograd\u001b[0m\u001b[0;34m.\u001b[0m\u001b[0mbackward\u001b[0m\u001b[0;34m(\u001b[0m\u001b[0mself\u001b[0m\u001b[0;34m,\u001b[0m \u001b[0mgradient\u001b[0m\u001b[0;34m,\u001b[0m \u001b[0mretain_graph\u001b[0m\u001b[0;34m,\u001b[0m \u001b[0mcreate_graph\u001b[0m\u001b[0;34m)\u001b[0m\u001b[0;34m\u001b[0m\u001b[0m\n\u001b[0m\u001b[1;32m     94\u001b[0m \u001b[0;34m\u001b[0m\u001b[0m\n\u001b[1;32m     95\u001b[0m     \u001b[0;32mdef\u001b[0m \u001b[0mregister_hook\u001b[0m\u001b[0;34m(\u001b[0m\u001b[0mself\u001b[0m\u001b[0;34m,\u001b[0m \u001b[0mhook\u001b[0m\u001b[0;34m)\u001b[0m\u001b[0;34m:\u001b[0m\u001b[0;34m\u001b[0m\u001b[0m\n",
      "\u001b[0;32m/Users/zhangxiaochen/anaconda3/lib/python3.6/site-packages/torch/autograd/__init__.py\u001b[0m in \u001b[0;36mbackward\u001b[0;34m(tensors, grad_tensors, retain_graph, create_graph, grad_variables)\u001b[0m\n\u001b[1;32m     87\u001b[0m     Variable._execution_engine.run_backward(\n\u001b[1;32m     88\u001b[0m         \u001b[0mtensors\u001b[0m\u001b[0;34m,\u001b[0m \u001b[0mgrad_tensors\u001b[0m\u001b[0;34m,\u001b[0m \u001b[0mretain_graph\u001b[0m\u001b[0;34m,\u001b[0m \u001b[0mcreate_graph\u001b[0m\u001b[0;34m,\u001b[0m\u001b[0;34m\u001b[0m\u001b[0m\n\u001b[0;32m---> 89\u001b[0;31m         allow_unreachable=True)  # allow_unreachable flag\n\u001b[0m\u001b[1;32m     90\u001b[0m \u001b[0;34m\u001b[0m\u001b[0m\n\u001b[1;32m     91\u001b[0m \u001b[0;34m\u001b[0m\u001b[0m\n",
      "\u001b[0;31mKeyboardInterrupt\u001b[0m: "
     ]
    }
   ],
   "source": [
    "trainer.train(1)"
   ]
  },
  {
   "cell_type": "code",
   "execution_count": null,
   "metadata": {
    "collapsed": true
   },
   "outputs": [],
   "source": []
  }
 ],
 "metadata": {
  "kernelspec": {
   "display_name": "Python 3",
   "language": "python",
   "name": "python3"
  },
  "language_info": {
   "codemirror_mode": {
    "name": "ipython",
    "version": 3
   },
   "file_extension": ".py",
   "mimetype": "text/x-python",
   "name": "python",
   "nbconvert_exporter": "python",
   "pygments_lexer": "ipython3",
   "version": "3.6.1"
  }
 },
 "nbformat": 4,
 "nbformat_minor": 2
}
