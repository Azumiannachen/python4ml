{
 "cells": [
  {
   "cell_type": "code",
   "execution_count": 1,
   "metadata": {
    "collapsed": true
   },
   "outputs": [],
   "source": [
    "import pandas as pd"
   ]
  },
  {
   "cell_type": "code",
   "execution_count": 2,
   "metadata": {
    "collapsed": true
   },
   "outputs": [],
   "source": [
    "usvideos=pd.read_csv(\"USvideos.csv\")"
   ]
  },
  {
   "cell_type": "code",
   "execution_count": 26,
   "metadata": {},
   "outputs": [],
   "source": [
    "mp=usvideos[[\"video_id\",\"category_id\"]].drop_duplicates()"
   ]
  },
  {
   "cell_type": "code",
   "execution_count": 31,
   "metadata": {},
   "outputs": [],
   "source": [
    "for k,v in zip(list(mp[\"video_id\"]),list(mp[\"category_id\"])):\n",
    "    try:\n",
    "        os.system(\"mv /data/youtubetn/%s.jpg /data/youtubetn/%s/%s.jpg\"%(k,v,k))\n",
    "    except:\n",
    "        pass"
   ]
  },
  {
   "cell_type": "code",
   "execution_count": 4,
   "metadata": {},
   "outputs": [
    {
     "data": {
      "text/plain": [
       "4547"
      ]
     },
     "execution_count": 4,
     "metadata": {},
     "output_type": "execute_result"
    }
   ],
   "source": [
    "tn_list = usvideos.thumbnail_link.unique().tolist()\n",
    "len(tn_list)"
   ]
  },
  {
   "cell_type": "code",
   "execution_count": 5,
   "metadata": {},
   "outputs": [
    {
     "data": {
      "text/plain": [
       "16"
      ]
     },
     "execution_count": 5,
     "metadata": {},
     "output_type": "execute_result"
    }
   ],
   "source": [
    "cat_list = usvideos.category_id.unique()\n",
    "len(cat_list)"
   ]
  },
  {
   "cell_type": "code",
   "execution_count": 6,
   "metadata": {},
   "outputs": [
    {
     "name": "stdout",
     "output_type": "stream",
     "text": [
      "/data/youtubetn\n"
     ]
    }
   ],
   "source": [
    "%mkdir -p /data/youtubetn\n",
    "%cd /data/youtubetn"
   ]
  },
  {
   "cell_type": "code",
   "execution_count": 7,
   "metadata": {
    "collapsed": true
   },
   "outputs": [],
   "source": [
    "import os\n",
    "def dltn(url):\n",
    "    fname=url.split(\"/\")[-2]+\".\"+url.split(\".\")[-1]\n",
    "    os.system(\"wget -O /data/youtubetn/%s %s\"%(fname,url))"
   ]
  },
  {
   "cell_type": "code",
   "execution_count": 8,
   "metadata": {
    "collapsed": true
   },
   "outputs": [],
   "source": [
    "from multiprocessing import Pool"
   ]
  },
  {
   "cell_type": "code",
   "execution_count": null,
   "metadata": {
    "collapsed": true
   },
   "outputs": [],
   "source": [
    "p=Pool(6)\n",
    "p.map(dltn,tn_list)"
   ]
  },
  {
   "cell_type": "code",
   "execution_count": 52,
   "metadata": {
    "collapsed": true
   },
   "outputs": [],
   "source": [
    "from keras.layers import *\n",
    "from keras.models import *"
   ]
  },
  {
   "cell_type": "code",
   "execution_count": 10,
   "metadata": {
    "collapsed": true
   },
   "outputs": [],
   "source": [
    "from p3self.bcolzer import bcolzer"
   ]
  },
  {
   "cell_type": "code",
   "execution_count": 11,
   "metadata": {},
   "outputs": [
    {
     "name": "stdout",
     "output_type": "stream",
     "text": [
      "[task:bcolzer_task>>start]<2018-03-10_16:04:39|0s,0s>\t\n",
      "[starting]<2018-03-10_16:04:39|0s,0s>\tfor data type [img]\n",
      "[type_set]<2018-03-10_16:04:39|0s,0s>\ttype set to \"img\", use self.img_gen(image_dir) to create the generator\n",
      "[set_roll_process_func]<2018-03-10_16:04:39|0s,0s>\t\n",
      "                    default roll_func\n",
      "                    return the 1st element of the set\n",
      "                    x:input data\n",
      "                    \n"
     ]
    }
   ],
   "source": [
    "bc=bcolzerer(\"img\")"
   ]
  },
  {
   "cell_type": "code",
   "execution_count": 65,
   "metadata": {},
   "outputs": [
    {
     "name": "stdout",
     "output_type": "stream",
     "text": [
      "Found 4449 images belonging to 16 classes.\n"
     ]
    },
    {
     "data": {
      "text/plain": [
       "<keras.preprocessing.image.DirectoryIterator at 0x12805e1d0>"
      ]
     },
     "execution_count": 65,
     "metadata": {},
     "output_type": "execute_result"
    }
   ],
   "source": [
    "bc.img_gen(\"/data/youtubetn/\",with_class=True,img_shape=(120,90))"
   ]
  },
  {
   "cell_type": "code",
   "execution_count": 66,
   "metadata": {
    "collapsed": true
   },
   "outputs": [],
   "source": [
    "from PIL import Image"
   ]
  },
  {
   "cell_type": "code",
   "execution_count": 67,
   "metadata": {
    "collapsed": true
   },
   "outputs": [],
   "source": [
    "preproc = lambda x: (x-np.array([123.68,116.779,103.939],dtype=np.float32))[:,:,:,::-1]*0.017"
   ]
  },
  {
   "cell_type": "code",
   "execution_count": 68,
   "metadata": {},
   "outputs": [],
   "source": [
    "ipt=Input((120,90,3))\n",
    "x=Lambda(preproc)(ipt)\n",
    "x=Conv2D(64,3,padding=\"same\",activation=\"relu\")(x)\n",
    "x=Conv2D(64,3,padding=\"same\",activation=\"relu\")(x)\n",
    "x=Conv2D(64,3,strides=(2,2),padding=\"same\",activation=\"relu\")(x)\n",
    "x=BatchNormalization()(x)\n",
    "x=Conv2D(64,3,padding=\"same\",activation=\"relu\")(x)\n",
    "x=Conv2D(64,3,padding=\"same\",activation=\"relu\")(x)\n",
    "x=Conv2D(64,3,strides=(2,2),padding=\"same\",activation=\"relu\")(x)\n",
    "x=BatchNormalization()(x)\n",
    "x=Conv2D(128,3,padding=\"same\",activation=\"relu\")(x)\n",
    "x=Conv2D(128,3,padding=\"same\",activation=\"relu\")(x)\n",
    "x=Conv2D(128,3,strides=(2,2),padding=\"same\",activation=\"relu\")(x)\n",
    "x=BatchNormalization()(x)\n",
    "x=Conv2D(128,3,padding=\"same\",activation=\"relu\")(x)\n",
    "x=Conv2D(128,3,padding=\"same\",activation=\"relu\")(x)\n",
    "x=Conv2D(128,3,strides=(2,2),padding=\"same\",activation=\"relu\")(x)\n",
    "x=BatchNormalization()(x)\n",
    "x=Conv2D(128,3,padding=\"same\",activation=\"relu\")(x)\n",
    "x=Conv2D(128,3,padding=\"same\",activation=\"relu\")(x)\n",
    "x=Conv2D(128,3,strides=(2,2),padding=\"same\",activation=\"relu\")(x)\n",
    "x=BatchNormalization()(x)\n",
    "x=Flatten()(x)\n",
    "x=Dense(1024,activation=\"relu\")(x)\n",
    "x=Dense(16,activation=\"softmax\")(x)\n",
    "md=Model(ipt,x)"
   ]
  },
  {
   "cell_type": "code",
   "execution_count": 69,
   "metadata": {},
   "outputs": [
    {
     "name": "stdout",
     "output_type": "stream",
     "text": [
      "_________________________________________________________________\n",
      "Layer (type)                 Output Shape              Param #   \n",
      "=================================================================\n",
      "input_11 (InputLayer)        (None, 120, 90, 3)        0         \n",
      "_________________________________________________________________\n",
      "lambda_9 (Lambda)            (None, 120, 90, 3)        0         \n",
      "_________________________________________________________________\n",
      "conv2d_82 (Conv2D)           (None, 120, 90, 64)       1792      \n",
      "_________________________________________________________________\n",
      "conv2d_83 (Conv2D)           (None, 120, 90, 64)       36928     \n",
      "_________________________________________________________________\n",
      "conv2d_84 (Conv2D)           (None, 60, 45, 64)        36928     \n",
      "_________________________________________________________________\n",
      "batch_normalization_28 (Batc (None, 60, 45, 64)        256       \n",
      "_________________________________________________________________\n",
      "conv2d_85 (Conv2D)           (None, 60, 45, 64)        36928     \n",
      "_________________________________________________________________\n",
      "conv2d_86 (Conv2D)           (None, 60, 45, 64)        36928     \n",
      "_________________________________________________________________\n",
      "conv2d_87 (Conv2D)           (None, 30, 23, 64)        36928     \n",
      "_________________________________________________________________\n",
      "batch_normalization_29 (Batc (None, 30, 23, 64)        256       \n",
      "_________________________________________________________________\n",
      "conv2d_88 (Conv2D)           (None, 30, 23, 128)       73856     \n",
      "_________________________________________________________________\n",
      "conv2d_89 (Conv2D)           (None, 30, 23, 128)       147584    \n",
      "_________________________________________________________________\n",
      "conv2d_90 (Conv2D)           (None, 15, 12, 128)       147584    \n",
      "_________________________________________________________________\n",
      "batch_normalization_30 (Batc (None, 15, 12, 128)       512       \n",
      "_________________________________________________________________\n",
      "conv2d_91 (Conv2D)           (None, 15, 12, 128)       147584    \n",
      "_________________________________________________________________\n",
      "conv2d_92 (Conv2D)           (None, 15, 12, 128)       147584    \n",
      "_________________________________________________________________\n",
      "conv2d_93 (Conv2D)           (None, 8, 6, 128)         147584    \n",
      "_________________________________________________________________\n",
      "batch_normalization_31 (Batc (None, 8, 6, 128)         512       \n",
      "_________________________________________________________________\n",
      "conv2d_94 (Conv2D)           (None, 8, 6, 128)         147584    \n",
      "_________________________________________________________________\n",
      "conv2d_95 (Conv2D)           (None, 8, 6, 128)         147584    \n",
      "_________________________________________________________________\n",
      "conv2d_96 (Conv2D)           (None, 4, 3, 128)         147584    \n",
      "_________________________________________________________________\n",
      "batch_normalization_32 (Batc (None, 4, 3, 128)         512       \n",
      "_________________________________________________________________\n",
      "flatten_6 (Flatten)          (None, 1536)              0         \n",
      "_________________________________________________________________\n",
      "dense_11 (Dense)             (None, 1024)              1573888   \n",
      "_________________________________________________________________\n",
      "dense_12 (Dense)             (None, 16)                16400     \n",
      "=================================================================\n",
      "Total params: 3,033,296\n",
      "Trainable params: 3,032,272\n",
      "Non-trainable params: 1,024\n",
      "_________________________________________________________________\n"
     ]
    }
   ],
   "source": [
    "md.summary()"
   ]
  },
  {
   "cell_type": "code",
   "execution_count": 70,
   "metadata": {},
   "outputs": [],
   "source": [
    "md.compile(loss=\"categorical_crossentropy\",optimizer=\"Adam\",metrics=[\"accuracy\"])"
   ]
  },
  {
   "cell_type": "code",
   "execution_count": 71,
   "metadata": {},
   "outputs": [
    {
     "name": "stdout",
     "output_type": "stream",
     "text": [
      "Epoch 1/1\n",
      "139/139 [==============================] - 1236s 9s/step - loss: 2.5001 - acc: 0.2239\n"
     ]
    },
    {
     "data": {
      "text/plain": [
       "<keras.callbacks.History at 0x12805e208>"
      ]
     },
     "execution_count": 71,
     "metadata": {},
     "output_type": "execute_result"
    }
   ],
   "source": [
    "md.fit_generator(bc.gen,steps_per_epoch=int(bc.gen.n/bc.gen.batch_size),epochs=1)"
   ]
  },
  {
   "cell_type": "code",
   "execution_count": 74,
   "metadata": {},
   "outputs": [
    {
     "data": {
      "text/plain": [
       "array([ 9,  9,  9,  9,  9,  1,  9,  1,  9,  9,  9,  9,  9,  1,  1,  9,  9,\n",
       "        9,  9,  9,  9,  9, 11,  9,  9,  9,  9,  9,  9,  9,  1,  9])"
      ]
     },
     "execution_count": 74,
     "metadata": {},
     "output_type": "execute_result"
    }
   ],
   "source": [
    "md.predict(bc.gen.next()[0]).argmax(axis=-1)"
   ]
  },
  {
   "cell_type": "code",
   "execution_count": 75,
   "metadata": {},
   "outputs": [
    {
     "data": {
      "text/plain": [
       "{'1': 0,\n",
       " '10': 1,\n",
       " '15': 2,\n",
       " '17': 3,\n",
       " '19': 4,\n",
       " '2': 5,\n",
       " '20': 6,\n",
       " '22': 7,\n",
       " '23': 8,\n",
       " '24': 9,\n",
       " '25': 10,\n",
       " '26': 11,\n",
       " '27': 12,\n",
       " '28': 13,\n",
       " '29': 14,\n",
       " '43': 15}"
      ]
     },
     "execution_count": 75,
     "metadata": {},
     "output_type": "execute_result"
    }
   ],
   "source": [
    "bc.gen.class_indices"
   ]
  },
  {
   "cell_type": "code",
   "execution_count": null,
   "metadata": {
    "collapsed": true
   },
   "outputs": [],
   "source": []
  }
 ],
 "metadata": {
  "kernelspec": {
   "display_name": "Python 3",
   "language": "python",
   "name": "python3"
  },
  "language_info": {
   "codemirror_mode": {
    "name": "ipython",
    "version": 3
   },
   "file_extension": ".py",
   "mimetype": "text/x-python",
   "name": "python",
   "nbconvert_exporter": "python",
   "pygments_lexer": "ipython3",
   "version": "3.6.1"
  }
 },
 "nbformat": 4,
 "nbformat_minor": 2
}
