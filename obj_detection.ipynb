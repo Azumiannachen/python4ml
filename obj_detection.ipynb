{
 "cells": [
  {
   "cell_type": "markdown",
   "metadata": {},
   "source": [
    "# Object Detection"
   ]
  },
  {
   "cell_type": "markdown",
   "metadata": {},
   "source": [
    "## First let's look at the dataset\n",
    "\n",
    "## And try to visualize the bounding box"
   ]
  },
  {
   "cell_type": "code",
   "execution_count": 1,
   "metadata": {},
   "outputs": [],
   "source": [
    "# my tool box for pytorch\n",
    "from matchbox import *"
   ]
  },
  {
   "cell_type": "code",
   "execution_count": 2,
   "metadata": {},
   "outputs": [
    {
     "name": "stdout",
     "output_type": "stream",
     "text": [
      "    5000\r\n"
     ]
    }
   ],
   "source": [
    "DATA = \"/data/coco/\"\n",
    "\n",
    "IMG = DATA+\"val2017/\"\n",
    "ANN = DATA+\"annotations/instances_val2017.json\"\n",
    "\n",
    "%ls {IMG}|wc -l"
   ]
  },
  {
   "cell_type": "code",
   "execution_count": 3,
   "metadata": {
    "collapsed": true
   },
   "outputs": [],
   "source": [
    "%matplotlib inline\n",
    "from matplotlib import pyplot as plt\n",
    "import matplotlib.patches as patches\n",
    "import matplotlib.text as text\n",
    "import numpy as np\n",
    "import pandas as pd\n",
    "import json\n",
    "from glob import glob\n",
    "from PIL import Image"
   ]
  },
  {
   "cell_type": "code",
   "execution_count": 4,
   "metadata": {},
   "outputs": [
    {
     "data": {
      "text/plain": [
       "dict_keys(['info', 'licenses', 'images', 'annotations', 'categories'])"
      ]
     },
     "execution_count": 4,
     "metadata": {},
     "output_type": "execute_result"
    }
   ],
   "source": [
    "jsfile = open(ANN).read()\n",
    "\n",
    "jsdict = json.loads(jsfile)\n",
    "\n",
    "jsdict.keys()"
   ]
  },
  {
   "cell_type": "markdown",
   "metadata": {},
   "source": [
    "#### Image table, with image url , image id, yup , that's all we need now"
   ]
  },
  {
   "cell_type": "code",
   "execution_count": 5,
   "metadata": {},
   "outputs": [
    {
     "data": {
      "text/html": [
       "<div>\n",
       "<style scoped>\n",
       "    .dataframe tbody tr th:only-of-type {\n",
       "        vertical-align: middle;\n",
       "    }\n",
       "\n",
       "    .dataframe tbody tr th {\n",
       "        vertical-align: top;\n",
       "    }\n",
       "\n",
       "    .dataframe thead th {\n",
       "        text-align: right;\n",
       "    }\n",
       "</style>\n",
       "<table border=\"1\" class=\"dataframe\">\n",
       "  <thead>\n",
       "    <tr style=\"text-align: right;\">\n",
       "      <th></th>\n",
       "      <th>coco_url</th>\n",
       "      <th>date_captured</th>\n",
       "      <th>file_name</th>\n",
       "      <th>flickr_url</th>\n",
       "      <th>height</th>\n",
       "      <th>id</th>\n",
       "      <th>license</th>\n",
       "      <th>width</th>\n",
       "    </tr>\n",
       "  </thead>\n",
       "  <tbody>\n",
       "    <tr>\n",
       "      <th>0</th>\n",
       "      <td>http://images.cocodataset.org/val2017/00000039...</td>\n",
       "      <td>2013-11-14 17:02:52</td>\n",
       "      <td>000000397133.jpg</td>\n",
       "      <td>http://farm7.staticflickr.com/6116/6255196340_...</td>\n",
       "      <td>427</td>\n",
       "      <td>397133</td>\n",
       "      <td>4</td>\n",
       "      <td>640</td>\n",
       "    </tr>\n",
       "    <tr>\n",
       "      <th>1</th>\n",
       "      <td>http://images.cocodataset.org/val2017/00000003...</td>\n",
       "      <td>2013-11-14 20:55:31</td>\n",
       "      <td>000000037777.jpg</td>\n",
       "      <td>http://farm9.staticflickr.com/8429/7839199426_...</td>\n",
       "      <td>230</td>\n",
       "      <td>37777</td>\n",
       "      <td>1</td>\n",
       "      <td>352</td>\n",
       "    </tr>\n",
       "    <tr>\n",
       "      <th>2</th>\n",
       "      <td>http://images.cocodataset.org/val2017/00000025...</td>\n",
       "      <td>2013-11-14 22:32:02</td>\n",
       "      <td>000000252219.jpg</td>\n",
       "      <td>http://farm4.staticflickr.com/3446/3232237447_...</td>\n",
       "      <td>428</td>\n",
       "      <td>252219</td>\n",
       "      <td>4</td>\n",
       "      <td>640</td>\n",
       "    </tr>\n",
       "    <tr>\n",
       "      <th>3</th>\n",
       "      <td>http://images.cocodataset.org/val2017/00000008...</td>\n",
       "      <td>2013-11-14 23:11:37</td>\n",
       "      <td>000000087038.jpg</td>\n",
       "      <td>http://farm8.staticflickr.com/7355/8825114508_...</td>\n",
       "      <td>480</td>\n",
       "      <td>87038</td>\n",
       "      <td>1</td>\n",
       "      <td>640</td>\n",
       "    </tr>\n",
       "    <tr>\n",
       "      <th>4</th>\n",
       "      <td>http://images.cocodataset.org/val2017/00000017...</td>\n",
       "      <td>2013-11-14 23:16:55</td>\n",
       "      <td>000000174482.jpg</td>\n",
       "      <td>http://farm8.staticflickr.com/7020/6478877255_...</td>\n",
       "      <td>388</td>\n",
       "      <td>174482</td>\n",
       "      <td>6</td>\n",
       "      <td>640</td>\n",
       "    </tr>\n",
       "  </tbody>\n",
       "</table>\n",
       "</div>"
      ],
      "text/plain": [
       "                                            coco_url        date_captured  \\\n",
       "0  http://images.cocodataset.org/val2017/00000039...  2013-11-14 17:02:52   \n",
       "1  http://images.cocodataset.org/val2017/00000003...  2013-11-14 20:55:31   \n",
       "2  http://images.cocodataset.org/val2017/00000025...  2013-11-14 22:32:02   \n",
       "3  http://images.cocodataset.org/val2017/00000008...  2013-11-14 23:11:37   \n",
       "4  http://images.cocodataset.org/val2017/00000017...  2013-11-14 23:16:55   \n",
       "\n",
       "          file_name                                         flickr_url  \\\n",
       "0  000000397133.jpg  http://farm7.staticflickr.com/6116/6255196340_...   \n",
       "1  000000037777.jpg  http://farm9.staticflickr.com/8429/7839199426_...   \n",
       "2  000000252219.jpg  http://farm4.staticflickr.com/3446/3232237447_...   \n",
       "3  000000087038.jpg  http://farm8.staticflickr.com/7355/8825114508_...   \n",
       "4  000000174482.jpg  http://farm8.staticflickr.com/7020/6478877255_...   \n",
       "\n",
       "   height      id  license  width  \n",
       "0     427  397133        4    640  \n",
       "1     230   37777        1    352  \n",
       "2     428  252219        4    640  \n",
       "3     480   87038        1    640  \n",
       "4     388  174482        6    640  "
      ]
     },
     "execution_count": 5,
     "metadata": {},
     "output_type": "execute_result"
    }
   ],
   "source": [
    "imgdf=pd.DataFrame(jsdict[\"images\"])\n",
    "imgdf.head()"
   ]
  },
  {
   "cell_type": "markdown",
   "metadata": {},
   "source": [
    "#### An annotation table, in this case, we use \"bbox\""
   ]
  },
  {
   "cell_type": "code",
   "execution_count": 6,
   "metadata": {},
   "outputs": [
    {
     "data": {
      "text/html": [
       "<div>\n",
       "<style scoped>\n",
       "    .dataframe tbody tr th:only-of-type {\n",
       "        vertical-align: middle;\n",
       "    }\n",
       "\n",
       "    .dataframe tbody tr th {\n",
       "        vertical-align: top;\n",
       "    }\n",
       "\n",
       "    .dataframe thead th {\n",
       "        text-align: right;\n",
       "    }\n",
       "</style>\n",
       "<table border=\"1\" class=\"dataframe\">\n",
       "  <thead>\n",
       "    <tr style=\"text-align: right;\">\n",
       "      <th></th>\n",
       "      <th>area</th>\n",
       "      <th>bbox</th>\n",
       "      <th>category_id</th>\n",
       "      <th>id</th>\n",
       "      <th>image_id</th>\n",
       "      <th>iscrowd</th>\n",
       "      <th>segmentation</th>\n",
       "    </tr>\n",
       "  </thead>\n",
       "  <tbody>\n",
       "    <tr>\n",
       "      <th>0</th>\n",
       "      <td>702.10575</td>\n",
       "      <td>[473.07, 395.93, 38.65, 28.67]</td>\n",
       "      <td>18</td>\n",
       "      <td>1768</td>\n",
       "      <td>289343</td>\n",
       "      <td>0</td>\n",
       "      <td>[[510.66, 423.01, 511.72, 420.03, 510.45, 416....</td>\n",
       "    </tr>\n",
       "    <tr>\n",
       "      <th>1</th>\n",
       "      <td>27718.47630</td>\n",
       "      <td>[272.1, 200.23, 151.97, 279.77]</td>\n",
       "      <td>18</td>\n",
       "      <td>1773</td>\n",
       "      <td>61471</td>\n",
       "      <td>0</td>\n",
       "      <td>[[289.74, 443.39, 302.29, 445.32, 308.09, 427....</td>\n",
       "    </tr>\n",
       "    <tr>\n",
       "      <th>2</th>\n",
       "      <td>78969.31690</td>\n",
       "      <td>[124.71, 196.18, 372.85, 356.81]</td>\n",
       "      <td>18</td>\n",
       "      <td>2551</td>\n",
       "      <td>472375</td>\n",
       "      <td>0</td>\n",
       "      <td>[[147.76, 396.11, 158.48, 355.91, 153.12, 347....</td>\n",
       "    </tr>\n",
       "    <tr>\n",
       "      <th>3</th>\n",
       "      <td>108316.66515</td>\n",
       "      <td>[112.71, 154.82, 367.29, 479.35]</td>\n",
       "      <td>18</td>\n",
       "      <td>3186</td>\n",
       "      <td>520301</td>\n",
       "      <td>0</td>\n",
       "      <td>[[260.4, 231.26, 215.06, 274.01, 194.33, 307.6...</td>\n",
       "    </tr>\n",
       "    <tr>\n",
       "      <th>4</th>\n",
       "      <td>75864.53530</td>\n",
       "      <td>[200.61, 89.65, 400.22, 251.02]</td>\n",
       "      <td>18</td>\n",
       "      <td>3419</td>\n",
       "      <td>579321</td>\n",
       "      <td>0</td>\n",
       "      <td>[[200.61, 253.97, 273.19, 318.49, 302.43, 336....</td>\n",
       "    </tr>\n",
       "  </tbody>\n",
       "</table>\n",
       "</div>"
      ],
      "text/plain": [
       "           area                              bbox  category_id    id  \\\n",
       "0     702.10575    [473.07, 395.93, 38.65, 28.67]           18  1768   \n",
       "1   27718.47630   [272.1, 200.23, 151.97, 279.77]           18  1773   \n",
       "2   78969.31690  [124.71, 196.18, 372.85, 356.81]           18  2551   \n",
       "3  108316.66515  [112.71, 154.82, 367.29, 479.35]           18  3186   \n",
       "4   75864.53530   [200.61, 89.65, 400.22, 251.02]           18  3419   \n",
       "\n",
       "   image_id  iscrowd                                       segmentation  \n",
       "0    289343        0  [[510.66, 423.01, 511.72, 420.03, 510.45, 416....  \n",
       "1     61471        0  [[289.74, 443.39, 302.29, 445.32, 308.09, 427....  \n",
       "2    472375        0  [[147.76, 396.11, 158.48, 355.91, 153.12, 347....  \n",
       "3    520301        0  [[260.4, 231.26, 215.06, 274.01, 194.33, 307.6...  \n",
       "4    579321        0  [[200.61, 253.97, 273.19, 318.49, 302.43, 336....  "
      ]
     },
     "execution_count": 6,
     "metadata": {},
     "output_type": "execute_result"
    }
   ],
   "source": [
    "ann_df=pd.DataFrame(jsdict[\"annotations\"])\n",
    "ann_df.head()"
   ]
  },
  {
   "cell_type": "markdown",
   "metadata": {},
   "source": [
    "#### A category table"
   ]
  },
  {
   "cell_type": "code",
   "execution_count": 7,
   "metadata": {},
   "outputs": [],
   "source": [
    "cat_df = pd.DataFrame(jsdict[\"categories\"])\n",
    "idx2name = dict(zip(cat_df[\"id\"],cat_df[\"name\"]))\n",
    "id2idx = dict(enumerate(cat_df[\"id\"]))\n",
    "idx2id = dict((v,k) for k,v in enumerate(cat_df[\"id\"]))"
   ]
  },
  {
   "cell_type": "code",
   "execution_count": 8,
   "metadata": {},
   "outputs": [
    {
     "data": {
      "text/plain": [
       "80"
      ]
     },
     "execution_count": 8,
     "metadata": {},
     "output_type": "execute_result"
    }
   ],
   "source": [
    "len(idx2name)"
   ]
  },
  {
   "cell_type": "code",
   "execution_count": 9,
   "metadata": {
    "collapsed": true
   },
   "outputs": [],
   "source": [
    "urls = glob(IMG+\"/*\")"
   ]
  },
  {
   "cell_type": "code",
   "execution_count": 10,
   "metadata": {},
   "outputs": [
    {
     "data": {
      "text/plain": [
       "['/data/coco/val2017/000000000139.jpg',\n",
       " '/data/coco/val2017/000000000285.jpg',\n",
       " '/data/coco/val2017/000000000632.jpg',\n",
       " '/data/coco/val2017/000000000724.jpg',\n",
       " '/data/coco/val2017/000000000776.jpg']"
      ]
     },
     "execution_count": 10,
     "metadata": {},
     "output_type": "execute_result"
    }
   ],
   "source": [
    "urls[:5]"
   ]
  },
  {
   "cell_type": "markdown",
   "metadata": {},
   "source": [
    "#### Get the image id from image url"
   ]
  },
  {
   "cell_type": "code",
   "execution_count": 11,
   "metadata": {},
   "outputs": [],
   "source": [
    "rdimg = np.random.choice(urls)\n",
    "def get_id(url):\n",
    "    return int(url.split(\"/\")[-1].split(\".\")[0])"
   ]
  },
  {
   "cell_type": "markdown",
   "metadata": {},
   "source": [
    "#### Get the bounding box data from annotation"
   ]
  },
  {
   "cell_type": "code",
   "execution_count": 12,
   "metadata": {},
   "outputs": [],
   "source": [
    "def get_bb(rdimg):\n",
    "    match = ann_df[ann_df[\"image_id\"]==get_id(rdimg)][[\"bbox\",\"category_id\"]]\n",
    "    return list(match[\"bbox\"]),list(match[\"category_id\"])"
   ]
  },
  {
   "cell_type": "code",
   "execution_count": 13,
   "metadata": {},
   "outputs": [
    {
     "data": {
      "text/plain": [
       "([[37.33, 46.74, 59.73, 73.17],\n",
       "  [71.41, 26.87, 182.66, 116.52],\n",
       "  [348.21, 0.76, 151.29, 72.23],\n",
       "  [246.68, 37.38, 55.57, 44.58],\n",
       "  [209.88, 28.09, 61.94, 31.86],\n",
       "  [18.71, 50.92, 46.66, 59.08],\n",
       "  [274.63, 5.24, 133.95, 324.02],\n",
       "  [0.17, 67.93, 19.39, 34.17],\n",
       "  [0.0, 64.28, 19.33, 10.81]],\n",
       " [3, 3, 3, 3, 3, 3, 11, 3, 3])"
      ]
     },
     "execution_count": 13,
     "metadata": {},
     "output_type": "execute_result"
    }
   ],
   "source": [
    "get_bb(rdimg)"
   ]
  },
  {
   "cell_type": "markdown",
   "metadata": {},
   "source": [
    "#### Picture boxes by loops into the picture"
   ]
  },
  {
   "cell_type": "code",
   "execution_count": 14,
   "metadata": {},
   "outputs": [
    {
     "data": {
      "image/png": "[encoded data removed]",
      "text/plain": [
       "<matplotlib.figure.Figure at 0x114ff75c0>"
      ]
     },
     "metadata": {},
     "output_type": "display_data"
    }
   ],
   "source": [
    "fig,ax = plt.subplots(1)\n",
    "ax.imshow(Image.open(rdimg))\n",
    "bbs,cids = get_bb(rdimg)\n",
    "for i in range(len(bbs)):\n",
    "    bb=bbs[i]\n",
    "    # format of the bb: x, y, width, height\n",
    "    rect = patches.Rectangle((bb[0],bb[1]),bb[2],bb[3],linewidth=1,edgecolor='r',facecolor='none')\n",
    "\n",
    "    ax.add_patch(rect)\n",
    "    # format of bb \n",
    "    ax.text(bb[0],bb[1],idx2name[cids[i]],dict({\"color\":\"#ff0000\"}))\n"
   ]
  },
  {
   "cell_type": "markdown",
   "metadata": {},
   "source": [
    "## You Only Look Once"
   ]
  },
  {
   "cell_type": "markdown",
   "metadata": {},
   "source": [
    "### Introduction\n",
    "\n",
    "From the paper [You Only Look Once: Unified, Real-Time Object Detection](http://arxiv.org/abs/1506.02640)\n",
    "\n",
    "We divid the image to the grid boxes of size $S*S$\n",
    "\n",
    "In each grid cell, we predict $B$ bounding boxes \n",
    "\n",
    "Each $B$ we have 5 predictions $x, y, w, h$ and confidence, \n",
    "\n",
    "$x,y$ relative to the grid box.$w, h$ relative to the entire picture.\n",
    "\n",
    "Each grid cell, we predict class probability $Pr(Class_{i}|Object)$.\n",
    "\n",
    "Then **class specified** confidence scores, when at test time we shall calculate, are:\n",
    "\n",
    "$Pr(Class_{i}|Object)*Pr(Object)* IOU^{truth}_{pred}=Pr(Class_{i})* IOU^{truth}_{pred}$\n",
    "\n",
    "IOU: **Intersection Over Union**\n",
    "\n",
    "So the prediction are encoded in a tensor of size $S*S*(B*5+C)$"
   ]
  },
  {
   "cell_type": "markdown",
   "metadata": {},
   "source": [
    "### YOLO style with anchor box"
   ]
  },
  {
   "cell_type": "code",
   "execution_count": 15,
   "metadata": {},
   "outputs": [
    {
     "data": {
      "text/plain": [
       "array([[ 10,  13],\n",
       "       [ 16,  30],\n",
       "       [ 33,  23],\n",
       "       [ 30,  61],\n",
       "       [ 62,  45],\n",
       "       [ 59, 119],\n",
       "       [116,  90],\n",
       "       [156, 198],\n",
       "       [373, 326]])"
      ]
     },
     "execution_count": 15,
     "metadata": {},
     "output_type": "execute_result"
    }
   ],
   "source": [
    "anc_cluster = np.array([[10,13],[16,30],[33,23],[30,61],[62,45],[59,119],[116,90],[156,198],[373,326]])\n",
    "anc_cluster"
   ]
  },
  {
   "cell_type": "markdown",
   "metadata": {},
   "source": [
    "#### Get resized bb"
   ]
  },
  {
   "cell_type": "code",
   "execution_count": 111,
   "metadata": {},
   "outputs": [],
   "source": [
    "SIZE = 416 # 13 * 32\n",
    "HEIGHT = 416\n",
    "WIDTH = 416\n",
    "FEAT_W = int(416/32)\n",
    "FEAT_H = int(416/32)\n",
    "\n",
    "BOX              = 5\n",
    "ANCHORS          = [0.57273, 0.677385, 1.87446, 2.06253, 3.33843, 5.47434, 7.88282, 3.52778, 9.77052, 9.16828]\n",
    "\n",
    "VEC_LEN = 85\n",
    "\n",
    "anchor = torch.from_numpy(np.array(ANCHORS,dtype=np.float)).view(1,1,1,5,2).type(torch.FloatTensor)\n",
    "\n",
    "ANC_ARR = np.array(ANCHORS).reshape(5,2)"
   ]
  },
  {
   "cell_type": "code",
   "execution_count": 18,
   "metadata": {
    "collapsed": true
   },
   "outputs": [],
   "source": [
    "ratio_df = imgdf[[\"id\"]]"
   ]
  },
  {
   "cell_type": "code",
   "execution_count": 19,
   "metadata": {},
   "outputs": [
    {
     "name": "stderr",
     "output_type": "stream",
     "text": [
      "/Users/zhangxiaochen/anaconda3/lib/python3.6/site-packages/ipykernel_launcher.py:1: SettingWithCopyWarning: \n",
      "A value is trying to be set on a copy of a slice from a DataFrame.\n",
      "Try using .loc[row_indexer,col_indexer] = value instead\n",
      "\n",
      "See the caveats in the documentation: http://pandas.pydata.org/pandas-docs/stable/indexing.html#indexing-view-versus-copy\n",
      "  \"\"\"Entry point for launching an IPython kernel.\n",
      "/Users/zhangxiaochen/anaconda3/lib/python3.6/site-packages/ipykernel_launcher.py:2: SettingWithCopyWarning: \n",
      "A value is trying to be set on a copy of a slice from a DataFrame.\n",
      "Try using .loc[row_indexer,col_indexer] = value instead\n",
      "\n",
      "See the caveats in the documentation: http://pandas.pydata.org/pandas-docs/stable/indexing.html#indexing-view-versus-copy\n",
      "  \n"
     ]
    }
   ],
   "source": [
    "ratio_df[\"width\"] = SIZE/imgdf[\"width\"].values\n",
    "ratio_df[\"height\"] = SIZE/imgdf[\"height\"].values"
   ]
  },
  {
   "cell_type": "code",
   "execution_count": 20,
   "metadata": {
    "collapsed": true
   },
   "outputs": [],
   "source": [
    "def iou(cor1,cor2):\n",
    "    \"\"\"Intersection over union\"\"\"\n",
    "    x1,y1,w1,h1 = cor1\n",
    "    x2,y2,w2,h2 = cor2\n",
    "    inter = max(min(x1+w1,x2+w2)-max(x1,x2),0)*max(min(y1+h1,y2+h2)-max(y1,y2),0)\n",
    "    union = (w1*h1+w2*h2)-inter\n",
    "    return inter/union"
   ]
  },
  {
   "cell_type": "code",
   "execution_count": 21,
   "metadata": {},
   "outputs": [
    {
     "data": {
      "text/plain": [
       "array([[0.57273 , 0.677385],\n",
       "       [1.87446 , 2.06253 ],\n",
       "       [3.33843 , 5.47434 ],\n",
       "       [7.88282 , 3.52778 ],\n",
       "       [9.77052 , 9.16828 ]])"
      ]
     },
     "execution_count": 21,
     "metadata": {},
     "output_type": "execute_result"
    }
   ],
   "source": [
    "np.reshape(ANCHORS, [BOX,2])"
   ]
  },
  {
   "cell_type": "code",
   "execution_count": 22,
   "metadata": {
    "collapsed": true
   },
   "outputs": [],
   "source": [
    "import torch\n",
    "from torch import nn\n",
    "from torch.autograd import Variable\n",
    "from torch.nn import functional as F"
   ]
  },
  {
   "cell_type": "code",
   "execution_count": 23,
   "metadata": {},
   "outputs": [],
   "source": [
    "def p_structure(md):\n",
    "    \"\"\"Print out the model structure\"\"\"\n",
    "    for par in md.parameters():\n",
    "        print(par.size())\n",
    "\n",
    "def p_count(md):\n",
    "    \"\"\"count the parameters in side a pytorch module\"\"\"\n",
    "    allp=0\n",
    "    for p in md.parameters():allp+=np.product(p.data.numpy().shape)\n",
    "    return allp"
   ]
  },
  {
   "cell_type": "markdown",
   "metadata": {},
   "source": [
    "##### Random Try"
   ]
  },
  {
   "cell_type": "code",
   "execution_count": 24,
   "metadata": {},
   "outputs": [],
   "source": [
    "cell_y=torch.arange(0,FEAT_W)\n",
    "\n",
    "cell_y=cell_y.repeat(FEAT_H).view(1,FEAT_H,FEAT_W,1,1)\n",
    "\n",
    "cell_x=cell_y.transpose(1,2)\n",
    "#cell_x,cell_y\n",
    "cell_grid=torch.cat([cell_x,cell_y],dim=-1)"
   ]
  },
  {
   "cell_type": "markdown",
   "metadata": {},
   "source": [
    "#### Prepare bb data"
   ]
  },
  {
   "cell_type": "code",
   "execution_count": 25,
   "metadata": {},
   "outputs": [
    {
     "name": "stdout",
     "output_type": "stream",
     "text": [
      "total data rows 36781\n"
     ]
    },
    {
     "data": {
      "text/html": [
       "<div>\n",
       "<style scoped>\n",
       "    .dataframe tbody tr th:only-of-type {\n",
       "        vertical-align: middle;\n",
       "    }\n",
       "\n",
       "    .dataframe tbody tr th {\n",
       "        vertical-align: top;\n",
       "    }\n",
       "\n",
       "    .dataframe thead th {\n",
       "        text-align: right;\n",
       "    }\n",
       "</style>\n",
       "<table border=\"1\" class=\"dataframe\">\n",
       "  <thead>\n",
       "    <tr style=\"text-align: right;\">\n",
       "      <th></th>\n",
       "      <th>bbox</th>\n",
       "      <th>category_id</th>\n",
       "      <th>image_id</th>\n",
       "      <th>id</th>\n",
       "      <th>file_name</th>\n",
       "      <th>height</th>\n",
       "      <th>width</th>\n",
       "      <th>cate_id_oh</th>\n",
       "    </tr>\n",
       "  </thead>\n",
       "  <tbody>\n",
       "    <tr>\n",
       "      <th>0</th>\n",
       "      <td>[473.07, 395.93, 38.65, 28.67]</td>\n",
       "      <td>18</td>\n",
       "      <td>289343</td>\n",
       "      <td>289343</td>\n",
       "      <td>000000289343.jpg</td>\n",
       "      <td>640</td>\n",
       "      <td>529</td>\n",
       "      <td>16</td>\n",
       "    </tr>\n",
       "    <tr>\n",
       "      <th>1</th>\n",
       "      <td>[204.01, 235.08, 60.84, 177.36]</td>\n",
       "      <td>1</td>\n",
       "      <td>289343</td>\n",
       "      <td>289343</td>\n",
       "      <td>000000289343.jpg</td>\n",
       "      <td>640</td>\n",
       "      <td>529</td>\n",
       "      <td>0</td>\n",
       "    </tr>\n",
       "    <tr>\n",
       "      <th>2</th>\n",
       "      <td>[0.43, 499.79, 339.79, 106.45]</td>\n",
       "      <td>15</td>\n",
       "      <td>289343</td>\n",
       "      <td>289343</td>\n",
       "      <td>000000289343.jpg</td>\n",
       "      <td>640</td>\n",
       "      <td>529</td>\n",
       "      <td>13</td>\n",
       "    </tr>\n",
       "    <tr>\n",
       "      <th>3</th>\n",
       "      <td>[204.42, 304.1, 52.51, 152.76]</td>\n",
       "      <td>2</td>\n",
       "      <td>289343</td>\n",
       "      <td>289343</td>\n",
       "      <td>000000289343.jpg</td>\n",
       "      <td>640</td>\n",
       "      <td>529</td>\n",
       "      <td>1</td>\n",
       "    </tr>\n",
       "    <tr>\n",
       "      <th>4</th>\n",
       "      <td>[272.1, 200.23, 151.97, 279.77]</td>\n",
       "      <td>18</td>\n",
       "      <td>61471</td>\n",
       "      <td>61471</td>\n",
       "      <td>000000061471.jpg</td>\n",
       "      <td>480</td>\n",
       "      <td>640</td>\n",
       "      <td>16</td>\n",
       "    </tr>\n",
       "  </tbody>\n",
       "</table>\n",
       "</div>"
      ],
      "text/plain": [
       "                              bbox  category_id  image_id      id  \\\n",
       "0   [473.07, 395.93, 38.65, 28.67]           18    289343  289343   \n",
       "1  [204.01, 235.08, 60.84, 177.36]            1    289343  289343   \n",
       "2   [0.43, 499.79, 339.79, 106.45]           15    289343  289343   \n",
       "3   [204.42, 304.1, 52.51, 152.76]            2    289343  289343   \n",
       "4  [272.1, 200.23, 151.97, 279.77]           18     61471   61471   \n",
       "\n",
       "          file_name  height  width  cate_id_oh  \n",
       "0  000000289343.jpg     640    529          16  \n",
       "1  000000289343.jpg     640    529           0  \n",
       "2  000000289343.jpg     640    529          13  \n",
       "3  000000289343.jpg     640    529           1  \n",
       "4  000000061471.jpg     480    640          16  "
      ]
     },
     "execution_count": 25,
     "metadata": {},
     "output_type": "execute_result"
    }
   ],
   "source": [
    "def df_data(imgdf,ann_df):\n",
    "    \"\"\"\n",
    "    imgdf:\n",
    "    A dataframe about images, fields: \"id\",\"file_name\",\"height\",\"width\"\n",
    "    ann_df:\n",
    "    A dataframe about annotation, fields: \"image_id\",\"category_id\",\"bbox\",\n",
    "    The field \"bbox\" is a list of 4 values: x,y,height, width of the bounding box\n",
    "    \"\"\"\n",
    "    data_df=pd.merge(ann_df[[\"bbox\",\"category_id\",\"image_id\"]],\n",
    "                     imgdf[[\"id\",\"file_name\",\"height\",\"width\"]],\n",
    "                     left_on=\"image_id\",right_on=\"id\")\n",
    "    \n",
    "    data_df[\"cate_id_oh\"] = data_df[\"category_id\"].apply(lambda x:idx2id[x])\n",
    "    \n",
    "    print(\"total data rows\",len(data_df))\n",
    "    return data_df\n",
    "\n",
    "data_df = df_data(imgdf,ann_df)\n",
    "data_df.head()"
   ]
  },
  {
   "cell_type": "markdown",
   "metadata": {},
   "source": [
    "##### Resize the bounding box"
   ]
  },
  {
   "cell_type": "code",
   "execution_count": 26,
   "metadata": {},
   "outputs": [],
   "source": [
    "bbox_array = np.array(data_df.bbox.tolist())\n",
    "wh_array = data_df[[\"width\",\"height\"]].as_matrix()\n",
    "\n",
    "def re_calibrate(bbox_array,wh_array):\n",
    "    \"\"\"return the resized bbox array\"\"\"\n",
    "    bb_resized = (bbox_array/np.concatenate([wh_array,wh_array],axis=-1)) *SIZE\n",
    "    \n",
    "    true_bb = bb_resized/32\n",
    "    # swith xy as left top conner to center point\n",
    "    true_bb[...,:2]=true_bb[...,:2]+true_bb[...,2:]/2\n",
    "    # Labels' Anchor positions on the grid map\n",
    "    grid_bbxy = np.floor(true_bb[...,:2])\n",
    "    return bb_resized,true_bb,grid_bbxy\n",
    "\n",
    "bb_resized,true_bb,grid_bbxy = re_calibrate(bbox_array,wh_array)\n",
    "true_bbxy,true_bbwh = true_bb[...,:2],true_bb[...,2:]"
   ]
  },
  {
   "cell_type": "code",
   "execution_count": 27,
   "metadata": {},
   "outputs": [
    {
     "data": {
      "text/plain": [
       "array([[3.72017240e+02, 2.57354500e+02, 3.03939509e+01, 1.86355000e+01],\n",
       "       [1.60431304e+02, 1.52802000e+02, 4.78439319e+01, 1.15284000e+02],\n",
       "       [3.38147448e-01, 3.24863500e+02, 2.67207259e+02, 6.91925000e+01],\n",
       "       ...,\n",
       "       [1.62207500e+02, 4.21395816e+01, 1.08140500e+02, 3.10111464e+02],\n",
       "       [5.95660000e+01, 1.67414000e+02, 1.17754000e+02, 1.34446000e+02],\n",
       "       [5.33561600e+01, 1.14868468e+02, 3.61886720e+02, 2.95822222e+02]])"
      ]
     },
     "execution_count": 27,
     "metadata": {},
     "output_type": "execute_result"
    }
   ],
   "source": [
    "bb_resized"
   ]
  },
  {
   "cell_type": "code",
   "execution_count": 28,
   "metadata": {},
   "outputs": [],
   "source": [
    "def find_best_anchors(true_bbwh):\n",
    "    iou_score = []\n",
    "    for b in range(BOX):\n",
    "        wh_anc = np.tile(ANC_ARR[b],[true_bbwh.shape[0],1])\n",
    "        true_area = true_bbwh.prod(axis=-1)\n",
    "        anc_area = wh_anc.prod(axis=-1)\n",
    "    \n",
    "        inter_area = np.min([wh_anc,true_bbwh],axis=0).prod(axis=-1)\n",
    "    \n",
    "        union_area = true_area + anc_area - inter_area\n",
    "        iou_score.append(inter_area/union_area)\n",
    "    best_anchor_idx = np.array(iou_score).T.argmax(axis=-1)\n",
    "    return best_anchor_idx\n",
    "\n",
    "best_anchor_idx = find_best_anchors(true_bbwh)"
   ]
  },
  {
   "cell_type": "markdown",
   "metadata": {},
   "source": [
    "##### Index to onehot"
   ]
  },
  {
   "cell_type": "code",
   "execution_count": 59,
   "metadata": {},
   "outputs": [],
   "source": [
    "cate_idx = data_df[\"cate_id_oh\"].as_matrix()\n",
    "\n",
    "cate_oh = np.eye(cate_idx.max()+1)[cate_idx]"
   ]
  },
  {
   "cell_type": "code",
   "execution_count": 60,
   "metadata": {
    "collapsed": true
   },
   "outputs": [],
   "source": [
    "true_vec = np.concatenate([true_bb,np.ones((true_bb.shape[0],1)),cate_oh],axis=-1)"
   ]
  },
  {
   "cell_type": "code",
   "execution_count": 61,
   "metadata": {},
   "outputs": [],
   "source": [
    "true_adj = b2t(true_vec)"
   ]
  },
  {
   "cell_type": "code",
   "execution_count": 62,
   "metadata": {},
   "outputs": [],
   "source": [
    "true_adj = np.tile(true_adj[:,np.newaxis,np.newaxis,np.newaxis,:],[1,FEAT_W,FEAT_H,BOX,1])\n",
    "\n",
    "vec_loc = np.concatenate([grid_bbxy,np.expand_dims(best_anchor_idx,axis=-1)],axis=-1).astype(np.int)"
   ]
  },
  {
   "cell_type": "markdown",
   "metadata": {},
   "source": [
    "#### Reverse adjust funtion to get train labels\n",
    "\n",
    "* adj function\n",
    "\n",
    "$\\large b_{x}=\\sigma(t_{x})+c_{x}$\n",
    "\n",
    "$\\large b_{y}=\\sigma(t_{y})+c_{y}$\n",
    "\n",
    "$\\large b_{w}=p_{w}e^{w}$\n",
    "\n",
    "$\\large b_{h}=p_{h}e^{h}$\n",
    "\n",
    "* reversed\n",
    "\n",
    "$\\large t_{x}=-ln(\\frac{b_{x}-c_{x}}{1-b_{x}+c_{x}})$\n",
    "\n",
    "$\\large t_{y}=-ln(\\frac{b_{y}-c_{y}}{1-b_{y}+c_{y}})$\n",
    "\n",
    "$\\large t_{w}=ln(\\frac{b_{w}}{p_{w}})$\n",
    "\n",
    "$\\large t_{h}=ln(\\frac{b_{h}}{p_{h}})$"
   ]
  },
  {
   "cell_type": "code",
   "execution_count": 64,
   "metadata": {},
   "outputs": [],
   "source": [
    "def mask_from_loca(vec_loc):\n",
    "    \"\"\"\n",
    "    return mask tensor [batch_size,grid_w,grid_h,box] according to grid location\n",
    "    \"\"\"\n",
    "    mask=np.eye(BOX)[vec_loc[:,2:].reshape(-1)][:,np.newaxis,np.newaxis,:]\n",
    "    mask_w=np.eye(FEAT_W)[vec_loc[:,:1].reshape(-1)][:,:,np.newaxis,np.newaxis]\n",
    "    mask_h=np.eye(FEAT_H)[vec_loc[:,1:2].reshape(-1)][:,np.newaxis,:,np.newaxis]\n",
    "\n",
    "    mask = np.tile(mask,[1,FEAT_W,FEAT_H,1])\n",
    "    mask *= np.tile(mask_w,[1,1,FEAT_H,BOX])\n",
    "    mask *= np.tile(mask_h,[1,FEAT_W,1,BOX])\n",
    "    \n",
    "    return mask\n",
    "\n",
    "def true_label(true_adj,vec_loc):\n",
    "    true_adj = b2t_wh(true_adj)\n",
    "    mask = mask_from_loca(vec_loc)\n",
    "    true_adj *= np.tile(mask[:,:,:,:,np.newaxis],[1,1,1,1,true_adj.shape[-1]])\n",
    "    return true_adj, mask\n",
    "\n",
    "def b2t(x):\n",
    "    x[...,:2] = -np.log(x[...,:2]-np.floor(x[...,:2]))/(1-x[...,:2]+np.floor(x[...,:2]))\n",
    "    return x\n",
    "\n",
    "def b2t_wh(x):\n",
    "    x[...,2:4] = np.log(x[...,2:4]/np.tile(ANC_ARR,[len(x),FEAT_W,FEAT_H,1,1]))\n",
    "    return x"
   ]
  },
  {
   "cell_type": "code",
   "execution_count": 65,
   "metadata": {},
   "outputs": [
    {
     "data": {
      "text/plain": [
       "(array([12,  8,  0]),\n",
       " array([ 2.55476389,  1.64756468,  0.50584858, -0.15115206,  1.        ,\n",
       "         0.        ,  0.        ,  0.        ,  0.        ,  0.        ,\n",
       "         0.        ,  0.        ,  0.        ,  0.        ,  0.        ,\n",
       "         0.        ,  0.        ,  0.        ,  0.        ,  0.        ,\n",
       "         0.        ,  1.        ,  0.        ,  0.        ,  0.        ,\n",
       "         0.        ,  0.        ,  0.        ,  0.        ,  0.        ,\n",
       "         0.        ,  0.        ,  0.        ,  0.        ,  0.        ,\n",
       "         0.        ,  0.        ,  0.        ,  0.        ,  0.        ,\n",
       "         0.        ,  0.        ,  0.        ,  0.        ,  0.        ,\n",
       "         0.        ,  0.        ,  0.        ,  0.        ,  0.        ,\n",
       "         0.        ,  0.        ,  0.        ,  0.        ,  0.        ,\n",
       "         0.        ,  0.        ,  0.        ,  0.        ,  0.        ,\n",
       "         0.        ,  0.        ,  0.        ,  0.        ,  0.        ,\n",
       "         0.        ,  0.        ,  0.        ,  0.        ,  0.        ,\n",
       "         0.        ,  0.        ,  0.        ,  0.        ,  0.        ,\n",
       "         0.        ,  0.        ,  0.        ,  0.        ,  0.        ,\n",
       "         0.        ,  0.        ,  0.        ,  0.        ,  0.        ]))"
      ]
     },
     "execution_count": 65,
     "metadata": {},
     "output_type": "execute_result"
    }
   ],
   "source": [
    "true_y,mask_ = true_label(true_adj[:16],vec_loc[:16])\n",
    "\n",
    "vec_loc[0],true_y[0][tuple(vec_loc[0])]"
   ]
  },
  {
   "cell_type": "code",
   "execution_count": 176,
   "metadata": {},
   "outputs": [
    {
     "data": {
      "text/plain": [
       "(\n",
       " -0.5568 -0.3906\n",
       " [torch.FloatTensor of size 1x2], \n",
       "  1  3\n",
       " [torch.LongTensor of size 1x2])"
      ]
     },
     "execution_count": 176,
     "metadata": {},
     "output_type": "execute_result"
    }
   ],
   "source": [
    "torch.max(torch.rand(5,2)-1,0)"
   ]
  },
  {
   "cell_type": "code",
   "execution_count": 186,
   "metadata": {},
   "outputs": [],
   "source": [
    "rd=torch.rand(5,2)-1\n",
    "rd2=torch.rand(5,2)-1"
   ]
  },
  {
   "cell_type": "code",
   "execution_count": 187,
   "metadata": {},
   "outputs": [
    {
     "data": {
      "text/plain": [
       "(\n",
       " -0.6265 -0.5653\n",
       " -0.5602 -0.6669\n",
       " -0.7574 -0.3723\n",
       " -0.7993 -0.6348\n",
       " -0.4341 -0.0166\n",
       " [torch.FloatTensor of size 5x2], \n",
       " -0.3194 -0.5838\n",
       " -0.8079 -0.9925\n",
       " -0.9020 -0.8007\n",
       " -0.1619 -0.8673\n",
       " -0.1271 -0.2970\n",
       " [torch.FloatTensor of size 5x2])"
      ]
     },
     "execution_count": 187,
     "metadata": {},
     "output_type": "execute_result"
    }
   ],
   "source": [
    "rd,rd2"
   ]
  },
  {
   "cell_type": "markdown",
   "metadata": {},
   "source": [
    "#### Feature Extractor"
   ]
  },
  {
   "cell_type": "code",
   "execution_count": 87,
   "metadata": {
    "collapsed": true
   },
   "outputs": [],
   "source": [
    "from collections import OrderedDict\n",
    "from torchvision.models.densenet import  _DenseBlock,_DenseLayer,_Transition\n",
    "\n",
    "class DenseNet(nn.Module):\n",
    "    r\"\"\"Densenet-BC model class, based on\n",
    "    `\"Densely Connected Convolutional Networks\" <https://arxiv.org/pdf/1608.06993.pdf>`_\n",
    "    Args:\n",
    "        growth_rate (int) - how many filters to add each layer (`k` in paper)\n",
    "        block_config (list of 4 ints) - how many layers in each pooling block\n",
    "        num_init_features (int) - the number of filters to learn in the first convolution layer\n",
    "        bn_size (int) - multiplicative factor for number of bottle neck layers\n",
    "          (i.e. bn_size * k features in the bottleneck layer)\n",
    "        drop_rate (float) - dropout rate after each dense layer\n",
    "        num_classes (int) - number of classification classes\n",
    "    \"\"\"\n",
    "    def __init__(self, growth_rate=32, block_config=(6, 12, 24, 16),\n",
    "                 num_init_features=64, bn_size=4, drop_rate=0, num_classes=1000):\n",
    "\n",
    "        super(DenseNet, self).__init__()\n",
    "\n",
    "        # First convolution\n",
    "        self.features = nn.Sequential(OrderedDict([\n",
    "            ('conv0', nn.Conv2d(3, num_init_features, kernel_size=7, stride=2, padding=3, bias=False)),\n",
    "            ('norm0', nn.BatchNorm2d(num_init_features)),\n",
    "            ('relu0', nn.ReLU(inplace=True)),\n",
    "            ('pool0', nn.MaxPool2d(kernel_size=3, stride=2, padding=1)),\n",
    "        ]))\n",
    "\n",
    "        # Each denseblock\n",
    "        num_features = num_init_features\n",
    "        for i, num_layers in enumerate(block_config):\n",
    "            block = _DenseBlock(num_layers=num_layers, num_input_features=num_features,\n",
    "                                bn_size=bn_size, growth_rate=growth_rate, drop_rate=drop_rate)\n",
    "            self.features.add_module('denseblock%d' % (i + 1), block)\n",
    "            num_features = num_features + num_layers * growth_rate\n",
    "            if i != len(block_config) - 1:\n",
    "                trans = _Transition(num_input_features=num_features, num_output_features=num_features // 2)\n",
    "                self.features.add_module('transition%d' % (i + 1), trans)\n",
    "                num_features = num_features // 2\n",
    "\n",
    "        # Final batch norm\n",
    "        self.features.add_module('norm5', nn.BatchNorm2d(num_features))\n",
    "\n",
    "\n",
    "    def forward(self, x):\n",
    "        features = self.features(x)\n",
    "        return features"
   ]
  },
  {
   "cell_type": "code",
   "execution_count": 88,
   "metadata": {
    "collapsed": true
   },
   "outputs": [],
   "source": [
    "DN121 = \"/Users/zhangxiaochen/.torch/models/dn121.pkl\"\n",
    "def dn121_conv(pkl_path):\n",
    "    r\"\"\"Densenet-121 model from\n",
    "    `\"Densely Connected Convolutional Networks\" <https://arxiv.org/pdf/1608.06993.pdf>`_\n",
    "    Args:\n",
    "        pretrained (bool): If True, returns a model pre-trained on ImageNet\n",
    "    \"\"\"\n",
    "    model = DenseNet(num_init_features=64, growth_rate=32, block_config=(6, 12, 24, 16),\n",
    "                     )\n",
    "    model.features.load_state_dict(torch.load(pkl_path))\n",
    "    return model"
   ]
  },
  {
   "cell_type": "code",
   "execution_count": 97,
   "metadata": {},
   "outputs": [],
   "source": [
    "dn121=dn121_conv(DN121)"
   ]
  },
  {
   "cell_type": "code",
   "execution_count": 90,
   "metadata": {},
   "outputs": [
    {
     "data": {
      "text/plain": [
       "DenseNet (\n",
       "  (features): Sequential (\n",
       "    (conv0): Conv2d(3, 64, kernel_size=(7, 7), stride=(2, 2), padding=(3, 3), bias=False)\n",
       "    (norm0): BatchNorm2d(64, eps=1e-05, momentum=0.1, affine=True)\n",
       "    (relu0): ReLU (inplace)\n",
       "    (pool0): MaxPool2d (size=(3, 3), stride=(2, 2), padding=(1, 1), dilation=(1, 1))\n",
       "    (denseblock1): _DenseBlock (\n",
       "      (denselayer1): _DenseLayer (\n",
       "        (norm.1): BatchNorm2d(64, eps=1e-05, momentum=0.1, affine=True)\n",
       "        (relu.1): ReLU (inplace)\n",
       "        (conv.1): Conv2d(64, 128, kernel_size=(1, 1), stride=(1, 1), bias=False)\n",
       "        (norm.2): BatchNorm2d(128, eps=1e-05, momentum=0.1, affine=True)\n",
       "        (relu.2): ReLU (inplace)\n",
       "        (conv.2): Conv2d(128, 32, kernel_size=(3, 3), stride=(1, 1), padding=(1, 1), bias=False)\n",
       "      )\n",
       "      (denselayer2): _DenseLayer (\n",
       "        (norm.1): BatchNorm2d(96, eps=1e-05, momentum=0.1, affine=True)\n",
       "        (relu.1): ReLU (inplace)\n",
       "        (conv.1): Conv2d(96, 128, kernel_size=(1, 1), stride=(1, 1), bias=False)\n",
       "        (norm.2): BatchNorm2d(128, eps=1e-05, momentum=0.1, affine=True)\n",
       "        (relu.2): ReLU (inplace)\n",
       "        (conv.2): Conv2d(128, 32, kernel_size=(3, 3), stride=(1, 1), padding=(1, 1), bias=False)\n",
       "      )\n",
       "      (denselayer3): _DenseLayer (\n",
       "        (norm.1): BatchNorm2d(128, eps=1e-05, momentum=0.1, affine=True)\n",
       "        (relu.1): ReLU (inplace)\n",
       "        (conv.1): Conv2d(128, 128, kernel_size=(1, 1), stride=(1, 1), bias=False)\n",
       "        (norm.2): BatchNorm2d(128, eps=1e-05, momentum=0.1, affine=True)\n",
       "        (relu.2): ReLU (inplace)\n",
       "        (conv.2): Conv2d(128, 32, kernel_size=(3, 3), stride=(1, 1), padding=(1, 1), bias=False)\n",
       "      )\n",
       "      (denselayer4): _DenseLayer (\n",
       "        (norm.1): BatchNorm2d(160, eps=1e-05, momentum=0.1, affine=True)\n",
       "        (relu.1): ReLU (inplace)\n",
       "        (conv.1): Conv2d(160, 128, kernel_size=(1, 1), stride=(1, 1), bias=False)\n",
       "        (norm.2): BatchNorm2d(128, eps=1e-05, momentum=0.1, affine=True)\n",
       "        (relu.2): ReLU (inplace)\n",
       "        (conv.2): Conv2d(128, 32, kernel_size=(3, 3), stride=(1, 1), padding=(1, 1), bias=False)\n",
       "      )\n",
       "      (denselayer5): _DenseLayer (\n",
       "        (norm.1): BatchNorm2d(192, eps=1e-05, momentum=0.1, affine=True)\n",
       "        (relu.1): ReLU (inplace)\n",
       "        (conv.1): Conv2d(192, 128, kernel_size=(1, 1), stride=(1, 1), bias=False)\n",
       "        (norm.2): BatchNorm2d(128, eps=1e-05, momentum=0.1, affine=True)\n",
       "        (relu.2): ReLU (inplace)\n",
       "        (conv.2): Conv2d(128, 32, kernel_size=(3, 3), stride=(1, 1), padding=(1, 1), bias=False)\n",
       "      )\n",
       "      (denselayer6): _DenseLayer (\n",
       "        (norm.1): BatchNorm2d(224, eps=1e-05, momentum=0.1, affine=True)\n",
       "        (relu.1): ReLU (inplace)\n",
       "        (conv.1): Conv2d(224, 128, kernel_size=(1, 1), stride=(1, 1), bias=False)\n",
       "        (norm.2): BatchNorm2d(128, eps=1e-05, momentum=0.1, affine=True)\n",
       "        (relu.2): ReLU (inplace)\n",
       "        (conv.2): Conv2d(128, 32, kernel_size=(3, 3), stride=(1, 1), padding=(1, 1), bias=False)\n",
       "      )\n",
       "    )\n",
       "    (transition1): _Transition (\n",
       "      (norm): BatchNorm2d(256, eps=1e-05, momentum=0.1, affine=True)\n",
       "      (relu): ReLU (inplace)\n",
       "      (conv): Conv2d(256, 128, kernel_size=(1, 1), stride=(1, 1), bias=False)\n",
       "      (pool): AvgPool2d (\n",
       "      )\n",
       "    )\n",
       "    (denseblock2): _DenseBlock (\n",
       "      (denselayer1): _DenseLayer (\n",
       "        (norm.1): BatchNorm2d(128, eps=1e-05, momentum=0.1, affine=True)\n",
       "        (relu.1): ReLU (inplace)\n",
       "        (conv.1): Conv2d(128, 128, kernel_size=(1, 1), stride=(1, 1), bias=False)\n",
       "        (norm.2): BatchNorm2d(128, eps=1e-05, momentum=0.1, affine=True)\n",
       "        (relu.2): ReLU (inplace)\n",
       "        (conv.2): Conv2d(128, 32, kernel_size=(3, 3), stride=(1, 1), padding=(1, 1), bias=False)\n",
       "      )\n",
       "      (denselayer2): _DenseLayer (\n",
       "        (norm.1): BatchNorm2d(160, eps=1e-05, momentum=0.1, affine=True)\n",
       "        (relu.1): ReLU (inplace)\n",
       "        (conv.1): Conv2d(160, 128, kernel_size=(1, 1), stride=(1, 1), bias=False)\n",
       "        (norm.2): BatchNorm2d(128, eps=1e-05, momentum=0.1, affine=True)\n",
       "        (relu.2): ReLU (inplace)\n",
       "        (conv.2): Conv2d(128, 32, kernel_size=(3, 3), stride=(1, 1), padding=(1, 1), bias=False)\n",
       "      )\n",
       "      (denselayer3): _DenseLayer (\n",
       "        (norm.1): BatchNorm2d(192, eps=1e-05, momentum=0.1, affine=True)\n",
       "        (relu.1): ReLU (inplace)\n",
       "        (conv.1): Conv2d(192, 128, kernel_size=(1, 1), stride=(1, 1), bias=False)\n",
       "        (norm.2): BatchNorm2d(128, eps=1e-05, momentum=0.1, affine=True)\n",
       "        (relu.2): ReLU (inplace)\n",
       "        (conv.2): Conv2d(128, 32, kernel_size=(3, 3), stride=(1, 1), padding=(1, 1), bias=False)\n",
       "      )\n",
       "      (denselayer4): _DenseLayer (\n",
       "        (norm.1): BatchNorm2d(224, eps=1e-05, momentum=0.1, affine=True)\n",
       "        (relu.1): ReLU (inplace)\n",
       "        (conv.1): Conv2d(224, 128, kernel_size=(1, 1), stride=(1, 1), bias=False)\n",
       "        (norm.2): BatchNorm2d(128, eps=1e-05, momentum=0.1, affine=True)\n",
       "        (relu.2): ReLU (inplace)\n",
       "        (conv.2): Conv2d(128, 32, kernel_size=(3, 3), stride=(1, 1), padding=(1, 1), bias=False)\n",
       "      )\n",
       "      (denselayer5): _DenseLayer (\n",
       "        (norm.1): BatchNorm2d(256, eps=1e-05, momentum=0.1, affine=True)\n",
       "        (relu.1): ReLU (inplace)\n",
       "        (conv.1): Conv2d(256, 128, kernel_size=(1, 1), stride=(1, 1), bias=False)\n",
       "        (norm.2): BatchNorm2d(128, eps=1e-05, momentum=0.1, affine=True)\n",
       "        (relu.2): ReLU (inplace)\n",
       "        (conv.2): Conv2d(128, 32, kernel_size=(3, 3), stride=(1, 1), padding=(1, 1), bias=False)\n",
       "      )\n",
       "      (denselayer6): _DenseLayer (\n",
       "        (norm.1): BatchNorm2d(288, eps=1e-05, momentum=0.1, affine=True)\n",
       "        (relu.1): ReLU (inplace)\n",
       "        (conv.1): Conv2d(288, 128, kernel_size=(1, 1), stride=(1, 1), bias=False)\n",
       "        (norm.2): BatchNorm2d(128, eps=1e-05, momentum=0.1, affine=True)\n",
       "        (relu.2): ReLU (inplace)\n",
       "        (conv.2): Conv2d(128, 32, kernel_size=(3, 3), stride=(1, 1), padding=(1, 1), bias=False)\n",
       "      )\n",
       "      (denselayer7): _DenseLayer (\n",
       "        (norm.1): BatchNorm2d(320, eps=1e-05, momentum=0.1, affine=True)\n",
       "        (relu.1): ReLU (inplace)\n",
       "        (conv.1): Conv2d(320, 128, kernel_size=(1, 1), stride=(1, 1), bias=False)\n",
       "        (norm.2): BatchNorm2d(128, eps=1e-05, momentum=0.1, affine=True)\n",
       "        (relu.2): ReLU (inplace)\n",
       "        (conv.2): Conv2d(128, 32, kernel_size=(3, 3), stride=(1, 1), padding=(1, 1), bias=False)\n",
       "      )\n",
       "      (denselayer8): _DenseLayer (\n",
       "        (norm.1): BatchNorm2d(352, eps=1e-05, momentum=0.1, affine=True)\n",
       "        (relu.1): ReLU (inplace)\n",
       "        (conv.1): Conv2d(352, 128, kernel_size=(1, 1), stride=(1, 1), bias=False)\n",
       "        (norm.2): BatchNorm2d(128, eps=1e-05, momentum=0.1, affine=True)\n",
       "        (relu.2): ReLU (inplace)\n",
       "        (conv.2): Conv2d(128, 32, kernel_size=(3, 3), stride=(1, 1), padding=(1, 1), bias=False)\n",
       "      )\n",
       "      (denselayer9): _DenseLayer (\n",
       "        (norm.1): BatchNorm2d(384, eps=1e-05, momentum=0.1, affine=True)\n",
       "        (relu.1): ReLU (inplace)\n",
       "        (conv.1): Conv2d(384, 128, kernel_size=(1, 1), stride=(1, 1), bias=False)\n",
       "        (norm.2): BatchNorm2d(128, eps=1e-05, momentum=0.1, affine=True)\n",
       "        (relu.2): ReLU (inplace)\n",
       "        (conv.2): Conv2d(128, 32, kernel_size=(3, 3), stride=(1, 1), padding=(1, 1), bias=False)\n",
       "      )\n",
       "      (denselayer10): _DenseLayer (\n",
       "        (norm.1): BatchNorm2d(416, eps=1e-05, momentum=0.1, affine=True)\n",
       "        (relu.1): ReLU (inplace)\n",
       "        (conv.1): Conv2d(416, 128, kernel_size=(1, 1), stride=(1, 1), bias=False)\n",
       "        (norm.2): BatchNorm2d(128, eps=1e-05, momentum=0.1, affine=True)\n",
       "        (relu.2): ReLU (inplace)\n",
       "        (conv.2): Conv2d(128, 32, kernel_size=(3, 3), stride=(1, 1), padding=(1, 1), bias=False)\n",
       "      )\n",
       "      (denselayer11): _DenseLayer (\n",
       "        (norm.1): BatchNorm2d(448, eps=1e-05, momentum=0.1, affine=True)\n",
       "        (relu.1): ReLU (inplace)\n",
       "        (conv.1): Conv2d(448, 128, kernel_size=(1, 1), stride=(1, 1), bias=False)\n",
       "        (norm.2): BatchNorm2d(128, eps=1e-05, momentum=0.1, affine=True)\n",
       "        (relu.2): ReLU (inplace)\n",
       "        (conv.2): Conv2d(128, 32, kernel_size=(3, 3), stride=(1, 1), padding=(1, 1), bias=False)\n",
       "      )\n",
       "      (denselayer12): _DenseLayer (\n",
       "        (norm.1): BatchNorm2d(480, eps=1e-05, momentum=0.1, affine=True)\n",
       "        (relu.1): ReLU (inplace)\n",
       "        (conv.1): Conv2d(480, 128, kernel_size=(1, 1), stride=(1, 1), bias=False)\n",
       "        (norm.2): BatchNorm2d(128, eps=1e-05, momentum=0.1, affine=True)\n",
       "        (relu.2): ReLU (inplace)\n",
       "        (conv.2): Conv2d(128, 32, kernel_size=(3, 3), stride=(1, 1), padding=(1, 1), bias=False)\n",
       "      )\n",
       "    )\n",
       "    (transition2): _Transition (\n",
       "      (norm): BatchNorm2d(512, eps=1e-05, momentum=0.1, affine=True)\n",
       "      (relu): ReLU (inplace)\n",
       "      (conv): Conv2d(512, 256, kernel_size=(1, 1), stride=(1, 1), bias=False)\n",
       "      (pool): AvgPool2d (\n",
       "      )\n",
       "    )\n",
       "    (denseblock3): _DenseBlock (\n",
       "      (denselayer1): _DenseLayer (\n",
       "        (norm.1): BatchNorm2d(256, eps=1e-05, momentum=0.1, affine=True)\n",
       "        (relu.1): ReLU (inplace)\n",
       "        (conv.1): Conv2d(256, 128, kernel_size=(1, 1), stride=(1, 1), bias=False)\n",
       "        (norm.2): BatchNorm2d(128, eps=1e-05, momentum=0.1, affine=True)\n",
       "        (relu.2): ReLU (inplace)\n",
       "        (conv.2): Conv2d(128, 32, kernel_size=(3, 3), stride=(1, 1), padding=(1, 1), bias=False)\n",
       "      )\n",
       "      (denselayer2): _DenseLayer (\n",
       "        (norm.1): BatchNorm2d(288, eps=1e-05, momentum=0.1, affine=True)\n",
       "        (relu.1): ReLU (inplace)\n",
       "        (conv.1): Conv2d(288, 128, kernel_size=(1, 1), stride=(1, 1), bias=False)\n",
       "        (norm.2): BatchNorm2d(128, eps=1e-05, momentum=0.1, affine=True)\n",
       "        (relu.2): ReLU (inplace)\n",
       "        (conv.2): Conv2d(128, 32, kernel_size=(3, 3), stride=(1, 1), padding=(1, 1), bias=False)\n",
       "      )\n",
       "      (denselayer3): _DenseLayer (\n",
       "        (norm.1): BatchNorm2d(320, eps=1e-05, momentum=0.1, affine=True)\n",
       "        (relu.1): ReLU (inplace)\n",
       "        (conv.1): Conv2d(320, 128, kernel_size=(1, 1), stride=(1, 1), bias=False)\n",
       "        (norm.2): BatchNorm2d(128, eps=1e-05, momentum=0.1, affine=True)\n",
       "        (relu.2): ReLU (inplace)\n",
       "        (conv.2): Conv2d(128, 32, kernel_size=(3, 3), stride=(1, 1), padding=(1, 1), bias=False)\n",
       "      )\n",
       "      (denselayer4): _DenseLayer (\n",
       "        (norm.1): BatchNorm2d(352, eps=1e-05, momentum=0.1, affine=True)\n",
       "        (relu.1): ReLU (inplace)\n",
       "        (conv.1): Conv2d(352, 128, kernel_size=(1, 1), stride=(1, 1), bias=False)\n",
       "        (norm.2): BatchNorm2d(128, eps=1e-05, momentum=0.1, affine=True)\n",
       "        (relu.2): ReLU (inplace)\n",
       "        (conv.2): Conv2d(128, 32, kernel_size=(3, 3), stride=(1, 1), padding=(1, 1), bias=False)\n",
       "      )\n",
       "      (denselayer5): _DenseLayer (\n",
       "        (norm.1): BatchNorm2d(384, eps=1e-05, momentum=0.1, affine=True)\n",
       "        (relu.1): ReLU (inplace)\n",
       "        (conv.1): Conv2d(384, 128, kernel_size=(1, 1), stride=(1, 1), bias=False)\n",
       "        (norm.2): BatchNorm2d(128, eps=1e-05, momentum=0.1, affine=True)\n",
       "        (relu.2): ReLU (inplace)\n",
       "        (conv.2): Conv2d(128, 32, kernel_size=(3, 3), stride=(1, 1), padding=(1, 1), bias=False)\n",
       "      )\n",
       "      (denselayer6): _DenseLayer (\n",
       "        (norm.1): BatchNorm2d(416, eps=1e-05, momentum=0.1, affine=True)\n",
       "        (relu.1): ReLU (inplace)\n",
       "        (conv.1): Conv2d(416, 128, kernel_size=(1, 1), stride=(1, 1), bias=False)\n",
       "        (norm.2): BatchNorm2d(128, eps=1e-05, momentum=0.1, affine=True)\n",
       "        (relu.2): ReLU (inplace)\n",
       "        (conv.2): Conv2d(128, 32, kernel_size=(3, 3), stride=(1, 1), padding=(1, 1), bias=False)\n",
       "      )\n",
       "      (denselayer7): _DenseLayer (\n",
       "        (norm.1): BatchNorm2d(448, eps=1e-05, momentum=0.1, affine=True)\n",
       "        (relu.1): ReLU (inplace)\n",
       "        (conv.1): Conv2d(448, 128, kernel_size=(1, 1), stride=(1, 1), bias=False)\n",
       "        (norm.2): BatchNorm2d(128, eps=1e-05, momentum=0.1, affine=True)\n",
       "        (relu.2): ReLU (inplace)\n",
       "        (conv.2): Conv2d(128, 32, kernel_size=(3, 3), stride=(1, 1), padding=(1, 1), bias=False)\n",
       "      )\n",
       "      (denselayer8): _DenseLayer (\n",
       "        (norm.1): BatchNorm2d(480, eps=1e-05, momentum=0.1, affine=True)\n",
       "        (relu.1): ReLU (inplace)\n",
       "        (conv.1): Conv2d(480, 128, kernel_size=(1, 1), stride=(1, 1), bias=False)\n",
       "        (norm.2): BatchNorm2d(128, eps=1e-05, momentum=0.1, affine=True)\n",
       "        (relu.2): ReLU (inplace)\n",
       "        (conv.2): Conv2d(128, 32, kernel_size=(3, 3), stride=(1, 1), padding=(1, 1), bias=False)\n",
       "      )\n",
       "      (denselayer9): _DenseLayer (\n",
       "        (norm.1): BatchNorm2d(512, eps=1e-05, momentum=0.1, affine=True)\n",
       "        (relu.1): ReLU (inplace)\n",
       "        (conv.1): Conv2d(512, 128, kernel_size=(1, 1), stride=(1, 1), bias=False)\n",
       "        (norm.2): BatchNorm2d(128, eps=1e-05, momentum=0.1, affine=True)\n",
       "        (relu.2): ReLU (inplace)\n",
       "        (conv.2): Conv2d(128, 32, kernel_size=(3, 3), stride=(1, 1), padding=(1, 1), bias=False)\n",
       "      )\n",
       "      (denselayer10): _DenseLayer (\n",
       "        (norm.1): BatchNorm2d(544, eps=1e-05, momentum=0.1, affine=True)\n",
       "        (relu.1): ReLU (inplace)\n",
       "        (conv.1): Conv2d(544, 128, kernel_size=(1, 1), stride=(1, 1), bias=False)\n",
       "        (norm.2): BatchNorm2d(128, eps=1e-05, momentum=0.1, affine=True)\n",
       "        (relu.2): ReLU (inplace)\n",
       "        (conv.2): Conv2d(128, 32, kernel_size=(3, 3), stride=(1, 1), padding=(1, 1), bias=False)\n",
       "      )\n",
       "      (denselayer11): _DenseLayer (\n",
       "        (norm.1): BatchNorm2d(576, eps=1e-05, momentum=0.1, affine=True)\n",
       "        (relu.1): ReLU (inplace)\n",
       "        (conv.1): Conv2d(576, 128, kernel_size=(1, 1), stride=(1, 1), bias=False)\n",
       "        (norm.2): BatchNorm2d(128, eps=1e-05, momentum=0.1, affine=True)\n",
       "        (relu.2): ReLU (inplace)\n",
       "        (conv.2): Conv2d(128, 32, kernel_size=(3, 3), stride=(1, 1), padding=(1, 1), bias=False)\n",
       "      )\n",
       "      (denselayer12): _DenseLayer (\n",
       "        (norm.1): BatchNorm2d(608, eps=1e-05, momentum=0.1, affine=True)\n",
       "        (relu.1): ReLU (inplace)\n",
       "        (conv.1): Conv2d(608, 128, kernel_size=(1, 1), stride=(1, 1), bias=False)\n",
       "        (norm.2): BatchNorm2d(128, eps=1e-05, momentum=0.1, affine=True)\n",
       "        (relu.2): ReLU (inplace)\n",
       "        (conv.2): Conv2d(128, 32, kernel_size=(3, 3), stride=(1, 1), padding=(1, 1), bias=False)\n",
       "      )\n",
       "      (denselayer13): _DenseLayer (\n",
       "        (norm.1): BatchNorm2d(640, eps=1e-05, momentum=0.1, affine=True)\n",
       "        (relu.1): ReLU (inplace)\n",
       "        (conv.1): Conv2d(640, 128, kernel_size=(1, 1), stride=(1, 1), bias=False)\n",
       "        (norm.2): BatchNorm2d(128, eps=1e-05, momentum=0.1, affine=True)\n",
       "        (relu.2): ReLU (inplace)\n",
       "        (conv.2): Conv2d(128, 32, kernel_size=(3, 3), stride=(1, 1), padding=(1, 1), bias=False)\n",
       "      )\n",
       "      (denselayer14): _DenseLayer (\n",
       "        (norm.1): BatchNorm2d(672, eps=1e-05, momentum=0.1, affine=True)\n",
       "        (relu.1): ReLU (inplace)\n",
       "        (conv.1): Conv2d(672, 128, kernel_size=(1, 1), stride=(1, 1), bias=False)\n",
       "        (norm.2): BatchNorm2d(128, eps=1e-05, momentum=0.1, affine=True)\n",
       "        (relu.2): ReLU (inplace)\n",
       "        (conv.2): Conv2d(128, 32, kernel_size=(3, 3), stride=(1, 1), padding=(1, 1), bias=False)\n",
       "      )\n",
       "      (denselayer15): _DenseLayer (\n",
       "        (norm.1): BatchNorm2d(704, eps=1e-05, momentum=0.1, affine=True)\n",
       "        (relu.1): ReLU (inplace)\n",
       "        (conv.1): Conv2d(704, 128, kernel_size=(1, 1), stride=(1, 1), bias=False)\n",
       "        (norm.2): BatchNorm2d(128, eps=1e-05, momentum=0.1, affine=True)\n",
       "        (relu.2): ReLU (inplace)\n",
       "        (conv.2): Conv2d(128, 32, kernel_size=(3, 3), stride=(1, 1), padding=(1, 1), bias=False)\n",
       "      )\n",
       "      (denselayer16): _DenseLayer (\n",
       "        (norm.1): BatchNorm2d(736, eps=1e-05, momentum=0.1, affine=True)\n",
       "        (relu.1): ReLU (inplace)\n",
       "        (conv.1): Conv2d(736, 128, kernel_size=(1, 1), stride=(1, 1), bias=False)\n",
       "        (norm.2): BatchNorm2d(128, eps=1e-05, momentum=0.1, affine=True)\n",
       "        (relu.2): ReLU (inplace)\n",
       "        (conv.2): Conv2d(128, 32, kernel_size=(3, 3), stride=(1, 1), padding=(1, 1), bias=False)\n",
       "      )\n",
       "      (denselayer17): _DenseLayer (\n",
       "        (norm.1): BatchNorm2d(768, eps=1e-05, momentum=0.1, affine=True)\n",
       "        (relu.1): ReLU (inplace)\n",
       "        (conv.1): Conv2d(768, 128, kernel_size=(1, 1), stride=(1, 1), bias=False)\n",
       "        (norm.2): BatchNorm2d(128, eps=1e-05, momentum=0.1, affine=True)\n",
       "        (relu.2): ReLU (inplace)\n",
       "        (conv.2): Conv2d(128, 32, kernel_size=(3, 3), stride=(1, 1), padding=(1, 1), bias=False)\n",
       "      )\n",
       "      (denselayer18): _DenseLayer (\n",
       "        (norm.1): BatchNorm2d(800, eps=1e-05, momentum=0.1, affine=True)\n",
       "        (relu.1): ReLU (inplace)\n",
       "        (conv.1): Conv2d(800, 128, kernel_size=(1, 1), stride=(1, 1), bias=False)\n",
       "        (norm.2): BatchNorm2d(128, eps=1e-05, momentum=0.1, affine=True)\n",
       "        (relu.2): ReLU (inplace)\n",
       "        (conv.2): Conv2d(128, 32, kernel_size=(3, 3), stride=(1, 1), padding=(1, 1), bias=False)\n",
       "      )\n",
       "      (denselayer19): _DenseLayer (\n",
       "        (norm.1): BatchNorm2d(832, eps=1e-05, momentum=0.1, affine=True)\n",
       "        (relu.1): ReLU (inplace)\n",
       "        (conv.1): Conv2d(832, 128, kernel_size=(1, 1), stride=(1, 1), bias=False)\n",
       "        (norm.2): BatchNorm2d(128, eps=1e-05, momentum=0.1, affine=True)\n",
       "        (relu.2): ReLU (inplace)\n",
       "        (conv.2): Conv2d(128, 32, kernel_size=(3, 3), stride=(1, 1), padding=(1, 1), bias=False)\n",
       "      )\n",
       "      (denselayer20): _DenseLayer (\n",
       "        (norm.1): BatchNorm2d(864, eps=1e-05, momentum=0.1, affine=True)\n",
       "        (relu.1): ReLU (inplace)\n",
       "        (conv.1): Conv2d(864, 128, kernel_size=(1, 1), stride=(1, 1), bias=False)\n",
       "        (norm.2): BatchNorm2d(128, eps=1e-05, momentum=0.1, affine=True)\n",
       "        (relu.2): ReLU (inplace)\n",
       "        (conv.2): Conv2d(128, 32, kernel_size=(3, 3), stride=(1, 1), padding=(1, 1), bias=False)\n",
       "      )\n",
       "      (denselayer21): _DenseLayer (\n",
       "        (norm.1): BatchNorm2d(896, eps=1e-05, momentum=0.1, affine=True)\n",
       "        (relu.1): ReLU (inplace)\n",
       "        (conv.1): Conv2d(896, 128, kernel_size=(1, 1), stride=(1, 1), bias=False)\n",
       "        (norm.2): BatchNorm2d(128, eps=1e-05, momentum=0.1, affine=True)\n",
       "        (relu.2): ReLU (inplace)\n",
       "        (conv.2): Conv2d(128, 32, kernel_size=(3, 3), stride=(1, 1), padding=(1, 1), bias=False)\n",
       "      )\n",
       "      (denselayer22): _DenseLayer (\n",
       "        (norm.1): BatchNorm2d(928, eps=1e-05, momentum=0.1, affine=True)\n",
       "        (relu.1): ReLU (inplace)\n",
       "        (conv.1): Conv2d(928, 128, kernel_size=(1, 1), stride=(1, 1), bias=False)\n",
       "        (norm.2): BatchNorm2d(128, eps=1e-05, momentum=0.1, affine=True)\n",
       "        (relu.2): ReLU (inplace)\n",
       "        (conv.2): Conv2d(128, 32, kernel_size=(3, 3), stride=(1, 1), padding=(1, 1), bias=False)\n",
       "      )\n",
       "      (denselayer23): _DenseLayer (\n",
       "        (norm.1): BatchNorm2d(960, eps=1e-05, momentum=0.1, affine=True)\n",
       "        (relu.1): ReLU (inplace)\n",
       "        (conv.1): Conv2d(960, 128, kernel_size=(1, 1), stride=(1, 1), bias=False)\n",
       "        (norm.2): BatchNorm2d(128, eps=1e-05, momentum=0.1, affine=True)\n",
       "        (relu.2): ReLU (inplace)\n",
       "        (conv.2): Conv2d(128, 32, kernel_size=(3, 3), stride=(1, 1), padding=(1, 1), bias=False)\n",
       "      )\n",
       "      (denselayer24): _DenseLayer (\n",
       "        (norm.1): BatchNorm2d(992, eps=1e-05, momentum=0.1, affine=True)\n",
       "        (relu.1): ReLU (inplace)\n",
       "        (conv.1): Conv2d(992, 128, kernel_size=(1, 1), stride=(1, 1), bias=False)\n",
       "        (norm.2): BatchNorm2d(128, eps=1e-05, momentum=0.1, affine=True)\n",
       "        (relu.2): ReLU (inplace)\n",
       "        (conv.2): Conv2d(128, 32, kernel_size=(3, 3), stride=(1, 1), padding=(1, 1), bias=False)\n",
       "      )\n",
       "    )\n",
       "    (transition3): _Transition (\n",
       "      (norm): BatchNorm2d(1024, eps=1e-05, momentum=0.1, affine=True)\n",
       "      (relu): ReLU (inplace)\n",
       "      (conv): Conv2d(1024, 512, kernel_size=(1, 1), stride=(1, 1), bias=False)\n",
       "      (pool): AvgPool2d (\n",
       "      )\n",
       "    )\n",
       "    (denseblock4): _DenseBlock (\n",
       "      (denselayer1): _DenseLayer (\n",
       "        (norm.1): BatchNorm2d(512, eps=1e-05, momentum=0.1, affine=True)\n",
       "        (relu.1): ReLU (inplace)\n",
       "        (conv.1): Conv2d(512, 128, kernel_size=(1, 1), stride=(1, 1), bias=False)\n",
       "        (norm.2): BatchNorm2d(128, eps=1e-05, momentum=0.1, affine=True)\n",
       "        (relu.2): ReLU (inplace)\n",
       "        (conv.2): Conv2d(128, 32, kernel_size=(3, 3), stride=(1, 1), padding=(1, 1), bias=False)\n",
       "      )\n",
       "      (denselayer2): _DenseLayer (\n",
       "        (norm.1): BatchNorm2d(544, eps=1e-05, momentum=0.1, affine=True)\n",
       "        (relu.1): ReLU (inplace)\n",
       "        (conv.1): Conv2d(544, 128, kernel_size=(1, 1), stride=(1, 1), bias=False)\n",
       "        (norm.2): BatchNorm2d(128, eps=1e-05, momentum=0.1, affine=True)\n",
       "        (relu.2): ReLU (inplace)\n",
       "        (conv.2): Conv2d(128, 32, kernel_size=(3, 3), stride=(1, 1), padding=(1, 1), bias=False)\n",
       "      )\n",
       "      (denselayer3): _DenseLayer (\n",
       "        (norm.1): BatchNorm2d(576, eps=1e-05, momentum=0.1, affine=True)\n",
       "        (relu.1): ReLU (inplace)\n",
       "        (conv.1): Conv2d(576, 128, kernel_size=(1, 1), stride=(1, 1), bias=False)\n",
       "        (norm.2): BatchNorm2d(128, eps=1e-05, momentum=0.1, affine=True)\n",
       "        (relu.2): ReLU (inplace)\n",
       "        (conv.2): Conv2d(128, 32, kernel_size=(3, 3), stride=(1, 1), padding=(1, 1), bias=False)\n",
       "      )\n",
       "      (denselayer4): _DenseLayer (\n",
       "        (norm.1): BatchNorm2d(608, eps=1e-05, momentum=0.1, affine=True)\n",
       "        (relu.1): ReLU (inplace)\n",
       "        (conv.1): Conv2d(608, 128, kernel_size=(1, 1), stride=(1, 1), bias=False)\n",
       "        (norm.2): BatchNorm2d(128, eps=1e-05, momentum=0.1, affine=True)\n",
       "        (relu.2): ReLU (inplace)\n",
       "        (conv.2): Conv2d(128, 32, kernel_size=(3, 3), stride=(1, 1), padding=(1, 1), bias=False)\n",
       "      )\n",
       "      (denselayer5): _DenseLayer (\n",
       "        (norm.1): BatchNorm2d(640, eps=1e-05, momentum=0.1, affine=True)\n",
       "        (relu.1): ReLU (inplace)\n",
       "        (conv.1): Conv2d(640, 128, kernel_size=(1, 1), stride=(1, 1), bias=False)\n",
       "        (norm.2): BatchNorm2d(128, eps=1e-05, momentum=0.1, affine=True)\n",
       "        (relu.2): ReLU (inplace)\n",
       "        (conv.2): Conv2d(128, 32, kernel_size=(3, 3), stride=(1, 1), padding=(1, 1), bias=False)\n",
       "      )\n",
       "      (denselayer6): _DenseLayer (\n",
       "        (norm.1): BatchNorm2d(672, eps=1e-05, momentum=0.1, affine=True)\n",
       "        (relu.1): ReLU (inplace)\n",
       "        (conv.1): Conv2d(672, 128, kernel_size=(1, 1), stride=(1, 1), bias=False)\n",
       "        (norm.2): BatchNorm2d(128, eps=1e-05, momentum=0.1, affine=True)\n",
       "        (relu.2): ReLU (inplace)\n",
       "        (conv.2): Conv2d(128, 32, kernel_size=(3, 3), stride=(1, 1), padding=(1, 1), bias=False)\n",
       "      )\n",
       "      (denselayer7): _DenseLayer (\n",
       "        (norm.1): BatchNorm2d(704, eps=1e-05, momentum=0.1, affine=True)\n",
       "        (relu.1): ReLU (inplace)\n",
       "        (conv.1): Conv2d(704, 128, kernel_size=(1, 1), stride=(1, 1), bias=False)\n",
       "        (norm.2): BatchNorm2d(128, eps=1e-05, momentum=0.1, affine=True)\n",
       "        (relu.2): ReLU (inplace)\n",
       "        (conv.2): Conv2d(128, 32, kernel_size=(3, 3), stride=(1, 1), padding=(1, 1), bias=False)\n",
       "      )\n",
       "      (denselayer8): _DenseLayer (\n",
       "        (norm.1): BatchNorm2d(736, eps=1e-05, momentum=0.1, affine=True)\n",
       "        (relu.1): ReLU (inplace)\n",
       "        (conv.1): Conv2d(736, 128, kernel_size=(1, 1), stride=(1, 1), bias=False)\n",
       "        (norm.2): BatchNorm2d(128, eps=1e-05, momentum=0.1, affine=True)\n",
       "        (relu.2): ReLU (inplace)\n",
       "        (conv.2): Conv2d(128, 32, kernel_size=(3, 3), stride=(1, 1), padding=(1, 1), bias=False)\n",
       "      )\n",
       "      (denselayer9): _DenseLayer (\n",
       "        (norm.1): BatchNorm2d(768, eps=1e-05, momentum=0.1, affine=True)\n",
       "        (relu.1): ReLU (inplace)\n",
       "        (conv.1): Conv2d(768, 128, kernel_size=(1, 1), stride=(1, 1), bias=False)\n",
       "        (norm.2): BatchNorm2d(128, eps=1e-05, momentum=0.1, affine=True)\n",
       "        (relu.2): ReLU (inplace)\n",
       "        (conv.2): Conv2d(128, 32, kernel_size=(3, 3), stride=(1, 1), padding=(1, 1), bias=False)\n",
       "      )\n",
       "      (denselayer10): _DenseLayer (\n",
       "        (norm.1): BatchNorm2d(800, eps=1e-05, momentum=0.1, affine=True)\n",
       "        (relu.1): ReLU (inplace)\n",
       "        (conv.1): Conv2d(800, 128, kernel_size=(1, 1), stride=(1, 1), bias=False)\n",
       "        (norm.2): BatchNorm2d(128, eps=1e-05, momentum=0.1, affine=True)\n",
       "        (relu.2): ReLU (inplace)\n",
       "        (conv.2): Conv2d(128, 32, kernel_size=(3, 3), stride=(1, 1), padding=(1, 1), bias=False)\n",
       "      )\n",
       "      (denselayer11): _DenseLayer (\n",
       "        (norm.1): BatchNorm2d(832, eps=1e-05, momentum=0.1, affine=True)\n",
       "        (relu.1): ReLU (inplace)\n",
       "        (conv.1): Conv2d(832, 128, kernel_size=(1, 1), stride=(1, 1), bias=False)\n",
       "        (norm.2): BatchNorm2d(128, eps=1e-05, momentum=0.1, affine=True)\n",
       "        (relu.2): ReLU (inplace)\n",
       "        (conv.2): Conv2d(128, 32, kernel_size=(3, 3), stride=(1, 1), padding=(1, 1), bias=False)\n",
       "      )\n",
       "      (denselayer12): _DenseLayer (\n",
       "        (norm.1): BatchNorm2d(864, eps=1e-05, momentum=0.1, affine=True)\n",
       "        (relu.1): ReLU (inplace)\n",
       "        (conv.1): Conv2d(864, 128, kernel_size=(1, 1), stride=(1, 1), bias=False)\n",
       "        (norm.2): BatchNorm2d(128, eps=1e-05, momentum=0.1, affine=True)\n",
       "        (relu.2): ReLU (inplace)\n",
       "        (conv.2): Conv2d(128, 32, kernel_size=(3, 3), stride=(1, 1), padding=(1, 1), bias=False)\n",
       "      )\n",
       "      (denselayer13): _DenseLayer (\n",
       "        (norm.1): BatchNorm2d(896, eps=1e-05, momentum=0.1, affine=True)\n",
       "        (relu.1): ReLU (inplace)\n",
       "        (conv.1): Conv2d(896, 128, kernel_size=(1, 1), stride=(1, 1), bias=False)\n",
       "        (norm.2): BatchNorm2d(128, eps=1e-05, momentum=0.1, affine=True)\n",
       "        (relu.2): ReLU (inplace)\n",
       "        (conv.2): Conv2d(128, 32, kernel_size=(3, 3), stride=(1, 1), padding=(1, 1), bias=False)\n",
       "      )\n",
       "      (denselayer14): _DenseLayer (\n",
       "        (norm.1): BatchNorm2d(928, eps=1e-05, momentum=0.1, affine=True)\n",
       "        (relu.1): ReLU (inplace)\n",
       "        (conv.1): Conv2d(928, 128, kernel_size=(1, 1), stride=(1, 1), bias=False)\n",
       "        (norm.2): BatchNorm2d(128, eps=1e-05, momentum=0.1, affine=True)\n",
       "        (relu.2): ReLU (inplace)\n",
       "        (conv.2): Conv2d(128, 32, kernel_size=(3, 3), stride=(1, 1), padding=(1, 1), bias=False)\n",
       "      )\n",
       "      (denselayer15): _DenseLayer (\n",
       "        (norm.1): BatchNorm2d(960, eps=1e-05, momentum=0.1, affine=True)\n",
       "        (relu.1): ReLU (inplace)\n",
       "        (conv.1): Conv2d(960, 128, kernel_size=(1, 1), stride=(1, 1), bias=False)\n",
       "        (norm.2): BatchNorm2d(128, eps=1e-05, momentum=0.1, affine=True)\n",
       "        (relu.2): ReLU (inplace)\n",
       "        (conv.2): Conv2d(128, 32, kernel_size=(3, 3), stride=(1, 1), padding=(1, 1), bias=False)\n",
       "      )\n",
       "      (denselayer16): _DenseLayer (\n",
       "        (norm.1): BatchNorm2d(992, eps=1e-05, momentum=0.1, affine=True)\n",
       "        (relu.1): ReLU (inplace)\n",
       "        (conv.1): Conv2d(992, 128, kernel_size=(1, 1), stride=(1, 1), bias=False)\n",
       "        (norm.2): BatchNorm2d(128, eps=1e-05, momentum=0.1, affine=True)\n",
       "        (relu.2): ReLU (inplace)\n",
       "        (conv.2): Conv2d(128, 32, kernel_size=(3, 3), stride=(1, 1), padding=(1, 1), bias=False)\n",
       "      )\n",
       "    )\n",
       "    (norm5): BatchNorm2d(1024, eps=1e-05, momentum=0.1, affine=True)\n",
       "  )\n",
       ")"
      ]
     },
     "execution_count": 90,
     "metadata": {},
     "output_type": "execute_result"
    }
   ],
   "source": [
    "dn121"
   ]
  },
  {
   "cell_type": "code",
   "execution_count": 141,
   "metadata": {},
   "outputs": [],
   "source": [
    "GRID_MAP=np.concatenate([\n",
    "    np.tile(np.arange(FEAT_W).reshape(1,-1,1,1,1),[1,1,FEAT_H,5,1]),\n",
    "    np.tile(np.arange(FEAT_H).reshape(1,1,-1,1,1),[1,FEAT_W,1,5,1]),]\n",
    "    ,axis=-1)"
   ]
  },
  {
   "cell_type": "code",
   "execution_count": 94,
   "metadata": {
    "collapsed": true
   },
   "outputs": [],
   "source": [
    "y_true=Variable(torch.rand(4,FEAT_W,FEAT_H,BOX,VEC_LEN))\n",
    "y_pred=Variable(torch.rand(4,FEAT_W,FEAT_H,BOX,VEC_LEN))"
   ]
  },
  {
   "cell_type": "code",
   "execution_count": 114,
   "metadata": {},
   "outputs": [],
   "source": [
    "class dn_yolo(nn.Module):\n",
    "    def __init__(self,feat_extra,feat_in):\n",
    "        super(dn_yolo,self).__init__()\n",
    "        self.feat_in = feat_in\n",
    "        self.feat_extra=feat_extra\n",
    "        self.conv_out = nn.Conv2d(self.feat_in,VEC_LEN*BOX,kernel_size=(1,1),stride=(1,1),padding=0,bias=False)\n",
    "    \n",
    "    def forward(self,x):\n",
    "        \n",
    "        x = self.feat_extra(x)\n",
    "        x = self.conv_out(x)\n",
    "        x = x.view(-1,FEAT_W,FEAT_H,BOX,VEC_LEN)\n",
    "        \n",
    "        return x\n",
    "    \n",
    "class t2b(nn.Module):\n",
    "    def __init__(self):\n",
    "        super(t2b,self).__init__()\n",
    "        self.grid=Variable(torch.from_numpy(GRID_MAP))\n",
    "        self.anc=Variable(troch.from_numpy(ANC_ARR))\n",
    "        \n",
    "    def forward(self,x):\n",
    "        bs=x.size[0]\n",
    "        x[...,:2]=F.sigmoid(x[...,:2])+self.grid.repeat(bs,1,1,1,1)\n",
    "        x[...,2:4]=torch.exp(x[...,2:4])*self.anc.repeat(bs,FEAT_W,FEAT_H,1,1)\n",
    "        x[...,5]=F.sigmoid(x[...,5])\n",
    "        return x\n",
    "    \n",
    "class yolo3_loss(nn.Module):\n",
    "    def __init__(self,lbd_coord=5,lbd_noobj=.5):\n",
    "        \"\"\"\n",
    "        lbd_coord: lambda_coordinate\n",
    "        lbd_noobj: lambda_no_object\n",
    "        \"\"\"\n",
    "        super(yolo3_loss,self).__init__()\n",
    "        self.t2b=t2b()\n",
    "        self.lbd_coord = lbd_coord\n",
    "        self.lbd_noobj = lbd_noobj\n",
    "    \n",
    "    def forward(self,y_true,y_pred):\n",
    "        y_ture[...,4:] = F.sigmoid(y_ture[...,4:]) * self.lbd_coord\n",
    "        y_pred[...,4:] = F.sigmoid(y_pred[...,4:]) * self.lbd_coord\n",
    "        mask = self.loss_mask(self.t2b(y_true),self.t2b(y_pred))\n",
    "        return torch.pow((y_true-y_pred)*mask,2).sum()\n",
    "\n",
    "    def calc_iou(self,y_true,y_pred):\n",
    "        left_up = torch.max(y_true[...,:2]-y_true[...,2:4]/2,y_pred[...,:2]-y_pred[...,2:4]/2)\n",
    "        right_down = torch.min(y_true[...,:2]+y_true[...,2:4]/2,y_pred[...,:2]+y_pred[...,2:4]/2)\n",
    "    \n",
    "        inter = torch.clamp(right_down-left_up,0,None).prod(dim=-1)\n",
    "        union = y_true[...,2:4].prod(dim=-1) + y_pred[...,2:4].prod(dim=-1)-inter\n",
    "    \n",
    "        return inter/union\n",
    "    \n",
    "    def loss_mask(self,y_true,y_pred):\n",
    "        ioumap = self.calc_iou(y_true,y_pred)\n",
    "    \n",
    "        mask = ioumap.eq(torch.max(ioumap,dim=-2)[0].repeat(1,1,1,BOX,1)).repeat(1,1,1,1,VEC_LEN)\n",
    "    \n",
    "        mask2 = (ioumap<0.5).repeat(1,1,1,1,VEC_LEN) *lbd_noobj\n",
    "        mask2[...,:4]=0\n",
    "        mask2[...,5:]=0\n",
    "    \n",
    "        return torch.clamp(mask+mask2,0,1)"
   ]
  },
  {
   "cell_type": "code",
   "execution_count": 107,
   "metadata": {},
   "outputs": [],
   "source": [
    "objyl = dn_yolo(dn121,1024)"
   ]
  },
  {
   "cell_type": "code",
   "execution_count": 108,
   "metadata": {},
   "outputs": [],
   "source": [
    "test_x=Variable(torch.rand(4,3,416,416))"
   ]
  },
  {
   "cell_type": "code",
   "execution_count": null,
   "metadata": {
    "collapsed": true
   },
   "outputs": [],
   "source": [
    "objyl(test_x)"
   ]
  },
  {
   "cell_type": "code",
   "execution_count": null,
   "metadata": {
    "collapsed": true
   },
   "outputs": [],
   "source": []
  }
 ],
 "metadata": {
  "kernelspec": {
   "display_name": "Python 3",
   "language": "python",
   "name": "python3"
  },
  "language_info": {
   "codemirror_mode": {
    "name": "ipython",
    "version": 3
   },
   "file_extension": ".py",
   "mimetype": "text/x-python",
   "name": "python",
   "nbconvert_exporter": "python",
   "pygments_lexer": "ipython3",
   "version": "3.6.1"
  }
 },
 "nbformat": 4,
 "nbformat_minor": 2
}
