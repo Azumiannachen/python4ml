{
 "cells": [
  {
   "cell_type": "markdown",
   "metadata": {},
   "source": [
    "# Center Loss In Pytorch"
   ]
  },
  {
   "cell_type": "markdown",
   "metadata": {},
   "source": [
    "### Center Loss With Pytorch"
   ]
  },
  {
   "cell_type": "markdown",
   "metadata": {},
   "source": [
    "### A deployment on [the centerloss paper](https://ydwen.github.io/papers/WenECCV16.pdf) with pytorch"
   ]
  },
  {
   "cell_type": "markdown",
   "metadata": {},
   "source": [
    "Gradient on center:\n",
    "\n",
    "$\\large \\Delta c_{j} = \\frac{\\sum_{i-1}^m \\delta(y_{i}=j).(c_{j}-x_{i})}{1+\\sum_{i-1}^m \\delta(y_{i}=j)}$\n",
    "\n",
    "### Algorithm: The discriminative feature learning algorithm\n",
    "\n",
    "**Input:** Traning data $\\{x_{i}\\}$. Initialized parameters $\\theta_{C}$ in convolution layers(but in my experiment I only used linear). Parameters $W$ and $\\{c_{j}|j=1,2,...,n\\}$ in loss layers, respectively. Hyperparameter $\\lambda$,$\\alpha$ and learning rate $\\mu_{t}$. The number of iteration $t\\leftarrow0$.\n",
    "\n",
    "**Output** The parameters $\\theta_{C}$\n",
    "\n",
    "* **While** not converge **do**\n",
    "    * $t\\leftarrow t+1$\n",
    "    * Compute the joint loss by $\\large L^t = L_{S}^t+L_{C}^t$\n",
    "    * Compute the backpropagation error $\\large \\frac{\\partial L^t}{\\partial x_{i}^t}$ for each $i$ by $\\large \\frac{\\partial L^t}{\\partial x_{i}^t}=\\frac{\\partial L^t_{S}}{\\partial x_{i}^t}+\\lambda . \\frac{\\partial L^t_{C}}{\\partial x_{i}^t}$\n",
    "    * Update the parameters $W$ by $\\large W^{t+1}=W^{t}-\\mu_{t}.\\frac{\\partial L^t}{\\partial W^t}=W^{t}-\\mu^t.\\frac{\\partial L^t_{S}}{\\partial W^t}$\n",
    "    * Update the parameters $c_{j}$ for each $j$ by $\\large c^{t+1}_{j}=c^{t}_{j}-\\alpha . \\Delta c^t_{j}$\n",
    "    * Update the parameters $\\theta_{C}$ by $\\large \\theta^{t+1}_{C}=\\theta^{t}_{C} - \\mu^t\\sum^m_{i} \\frac{\\partial L^t}{\\partial x^t_{i}}.\\frac{\\partial x^t_{i}}{\\partial \\theta^t_{C}}$\n",
    "* end while"
   ]
  },
  {
   "cell_type": "code",
   "execution_count": 1,
   "metadata": {
    "collapsed": true
   },
   "outputs": [],
   "source": [
    "import numpy as np\n",
    "import torch\n",
    "from torch import nn\n",
    "from torch import Tensor\n",
    "from torch.autograd import Variable\n",
    "from torchvision.datasets import MNIST\n",
    "from torchvision import transforms\n",
    "from torch.utils.data.dataloader import DataLoader\n",
    "from torch.nn import functional as F\n",
    "from tqdm import trange # to make a pretty progress bar\n",
    "from torch.optim import Adam,SGD "
   ]
  },
  {
   "cell_type": "markdown",
   "metadata": {},
   "source": [
    "### Data transformation pipe"
   ]
  },
  {
   "cell_type": "code",
   "execution_count": 2,
   "metadata": {
    "collapsed": true
   },
   "outputs": [],
   "source": [
    "transform = transforms.Compose([transforms.ToTensor(),transforms.Normalize([.5,.5,.5],[.5,.5,.5])])"
   ]
  },
  {
   "cell_type": "code",
   "execution_count": 3,
   "metadata": {
    "collapsed": true
   },
   "outputs": [],
   "source": [
    "DL = False # Set this to True first time you run this\n",
    "train_raw = MNIST(\"/data\",train=True,transform=transform,download=DL)\n",
    "val_raw = MNIST(\"/data\",train=False,transform=transform,download=DL)"
   ]
  },
  {
   "cell_type": "code",
   "execution_count": 4,
   "metadata": {
    "collapsed": true
   },
   "outputs": [],
   "source": [
    "train_loader = DataLoader(train_raw,batch_size=16,shuffle=True,num_workers=2)\n",
    "val_loader = DataLoader(val_raw,batch_size=16,shuffle=True,num_workers=2)"
   ]
  },
  {
   "cell_type": "code",
   "execution_count": 5,
   "metadata": {
    "collapsed": true
   },
   "outputs": [],
   "source": [
    "class dnn_mnist(nn.Module):\n",
    "    def __init__(self,nb_feat):\n",
    "        super(dnn_mnist,self).__init__()\n",
    "        self.nb_feat = nb_feat\n",
    "        self.fc1 = nn.Linear(784,self.nb_feat)\n",
    "        self.fc2 = nn.Linear(self.nb_feat,10)\n",
    "        \n",
    "    def forward(self,x):\n",
    "        # Reshape\n",
    "        x = x.view(-1,784)\n",
    "        # 1st layer & activation\n",
    "        h = F.relu(self.fc1(x))\n",
    "        # 2nd layer & activation\n",
    "        x = F.softmax(self.fc2(h))\n",
    "        return x,h\n",
    "        "
   ]
  },
  {
   "cell_type": "code",
   "execution_count": 6,
   "metadata": {
    "collapsed": true
   },
   "outputs": [],
   "source": [
    "class center_loss(nn.Module):\n",
    "    def __init__(self,nb_feat,nb_cls):\n",
    "        super(center_loss,self).__init__()\n",
    "        self.nb_feat = nb_feat\n",
    "        self.nb_cls = nb_cls\n",
    "        # self.centers dimension self.nb_feat * self.nb_cls\n",
    "        self.centers = nn.Parameter(torch.randn(self.nb_feat,self.nb_cls))\n",
    "    \n",
    "    def forward(self,x,lbl):\n",
    "        \"\"\"\n",
    "        In this calculation, lbl means the one hot encoding label\n",
    "        x: bs * self.nb_feat\n",
    "        lbl: bs * self.nb_cls\n",
    "        \"\"\"\n",
    "        # print(x.t().size(),lbl.mm(self.centers.t()).size())\n",
    "        return torch.mean(torch.pow(x-lbl.mm(self.centers.t()),2))"
   ]
  },
  {
   "cell_type": "code",
   "execution_count": 43,
   "metadata": {
    "collapsed": true
   },
   "outputs": [],
   "source": [
    "dnn = dnn_mnist(500)\n",
    "clmd = center_loss(500,10)"
   ]
  },
  {
   "cell_type": "code",
   "execution_count": 44,
   "metadata": {},
   "outputs": [
    {
     "name": "stdout",
     "output_type": "stream",
     "text": [
      "torch.Size([10, 500])\n",
      "torch.Size([10])\n",
      "============================================================\n",
      "torch.Size([500, 10])\n",
      "============================================================\n",
      "torch.Size([500, 784])\n",
      "torch.Size([500])\n",
      "============================================================\n"
     ]
    }
   ],
   "source": [
    "params_dnn = list(dnn.parameters())\n",
    "params_theta = params_dnn[:2]\n",
    "params_w = params_dnn[2:]\n",
    "params_closs = list(clmd.parameters())\n",
    "len(params_w),len(params_closs),len(params_theta)\n",
    "for param in [params_w,params_closs,params_theta,]:\n",
    "    for mx in param:\n",
    "        print(mx.size())\n",
    "    print(\"=\"*60)"
   ]
  },
  {
   "cell_type": "markdown",
   "metadata": {},
   "source": [
    "#### Check if using GPU"
   ]
  },
  {
   "cell_type": "code",
   "execution_count": 45,
   "metadata": {
    "collapsed": true
   },
   "outputs": [],
   "source": [
    "# torch.cuda.is_available() will return True or False on if this machine possess GPU/ is its CUDA ready\n",
    "CUDA = torch.cuda.is_available()\n",
    "if CUDA: \n",
    "    dnn.cuda()\n",
    "    clmd.cuda()"
   ]
  },
  {
   "cell_type": "markdown",
   "metadata": {},
   "source": [
    "#### Set Cross Entropy Loss Function"
   ]
  },
  {
   "cell_type": "code",
   "execution_count": 46,
   "metadata": {
    "collapsed": true
   },
   "outputs": [],
   "source": [
    "celoss=nn.CrossEntropyLoss()"
   ]
  },
  {
   "cell_type": "markdown",
   "metadata": {},
   "source": [
    "#### Set Hyper-parameters: $\\large \\lambda$ , learning rate $\\large \\mu_{t}$ and $\\large \\alpha$"
   ]
  },
  {
   "cell_type": "code",
   "execution_count": 47,
   "metadata": {
    "collapsed": true
   },
   "outputs": [],
   "source": [
    "Lambda = 1e-2\n",
    "\n",
    "mu_t = 1e-3    # learning rate for dnn\n",
    "alpha = 5e-1    # learning rate for centers"
   ]
  },
  {
   "cell_type": "code",
   "execution_count": 48,
   "metadata": {
    "collapsed": true
   },
   "outputs": [],
   "source": [
    "# Use 3 optimizer on 3 parts of the parameters\n",
    "opt_W = Adam(params_w, lr = mu_t)\n",
    "opt_c = Adam(params_closs, lr = alpha)\n",
    "opt_X = Adam(params_theta, lr = mu_t)\n",
    "\n",
    "# Number of iterations to refresh messege\n",
    "window=20"
   ]
  },
  {
   "cell_type": "code",
   "execution_count": 49,
   "metadata": {},
   "outputs": [
    {
     "name": "stderr",
     "output_type": "stream",
     "text": [
      "ep0_bt3739\t Lt:\t1.57\\[tLc,Ls]:\t[1.39,1.56]\tacc:\t0.906: 100%|██████████| 3750/3750 [01:29<00:00, 42.09it/s]\n"
     ]
    },
    {
     "name": "stdout",
     "output_type": "stream",
     "text": [
      "Validation [acc,loss]\t[0.895,\t1.57]\n"
     ]
    }
   ],
   "source": [
    "# A list for register scores\n",
    "acc_stat1 = []\n",
    "\n",
    "for epoch in range(1):\n",
    "    train_gen,val_gen = iter(train_loader),iter(val_loader)\n",
    "    r_loss_t,r_loss_s,r_loss_c,r_acc=0,0,0,0\n",
    "    \n",
    "    t=trange(len(train_loader))\n",
    "    for i in t:\n",
    "        x,y=train_gen.__next__()\n",
    "        x,y=Variable(x),Variable(y)\n",
    "        if CUDA:\n",
    "            x.cuda()\n",
    "            y.cuda()\n",
    "            \n",
    "        y_oh = torch.FloatTensor(y.size()[0],10)\n",
    "        y_oh.zero_()\n",
    "        y_oh = Variable(y_oh.scatter_(1,y.data.view(y.size()[0],1),1))\n",
    "        \n",
    "        y_,h = dnn(x)\n",
    "        \n",
    "        # Cross entropy loss\n",
    "        Ls = celoss(y_,y)\n",
    "        # Center loss\n",
    "        Lc = clmd(h,y_oh)\n",
    "        Lt = Ls + Lambda * Lc\n",
    "        y_max,y_idx = torch.max(y_,1)\n",
    "        acc = torch.mean(torch.eq(y_idx,y).type(torch.FloatTensor))\n",
    "\n",
    "        # update W\n",
    "        opt_W.zero_grad()\n",
    "        Ls.backward(retain_variables=True)\n",
    "        opt_W.step()\n",
    "        \n",
    "        # update center\n",
    "        opt_c.zero_grad()\n",
    "        Lc.backward(retain_variables=True)\n",
    "        opt_c.step()\n",
    "        \n",
    "        # update theta\n",
    "        opt_X.zero_grad()\n",
    "        Lt.backward(retain_variables=True)\n",
    "        opt_X.step()\n",
    "        \n",
    "        # Accumulate running loss\n",
    "        r_loss_t += Lt.data[0]\n",
    "        r_loss_s += Ls.data[0]\n",
    "        r_loss_c += Lc.data[0]\n",
    "        r_acc += acc.data[0]\n",
    "        \n",
    "        if i%window==(window-1): # refresh messege on progress bar every {window} of batch\n",
    "            t.set_description(\"ep%s_bt%s\\t Lt:\\t%.2f\\[tLc,Ls]:\\t[%.2f,%.2f]\\tacc:\\t%.3f\"%(epoch,\n",
    "                                             i,\n",
    "                                             r_loss_t/window,\n",
    "                                             r_loss_c/window,\n",
    "                                             r_loss_s/window,\n",
    "                                             r_acc/window,\n",
    "                                             ))\n",
    "            \n",
    "            # This list is for plotting charts\n",
    "            acc_stat1.append(r_acc/window)\n",
    "            r_loss_t,r_loss_s,r_loss_c,r_acc=0,0,0,0\n",
    "    val_acc,val_l=0,0\n",
    "    for i in range(len(val_loader)):\n",
    "        x,y=val_gen.__next__()\n",
    "        x,y=Variable(x),Variable(y)\n",
    "        if CUDA:\n",
    "            x.cuda()\n",
    "            y.cuda()\n",
    "        \n",
    "        y_,h = dnn(x)\n",
    "        Ls = celoss(y_,y)\n",
    "        y_max,y_idx = torch.max(y_,1)\n",
    "        acc = torch.mean(torch.eq(y_idx,y).type(torch.FloatTensor))\n",
    "        val_acc += acc.data[0]\n",
    "        val_l += Ls.data[0]\n",
    "    val_acc /= len(val_loader)\n",
    "    val_l /= len(val_loader)\n",
    "    print(\"Validation [acc,loss]\\t[%.3f,\\t%.2f]\"%(val_acc,val_l))"
   ]
  },
  {
   "cell_type": "markdown",
   "metadata": {},
   "source": [
    "### Now test on if we don't use Center Loss"
   ]
  },
  {
   "cell_type": "code",
   "execution_count": 44,
   "metadata": {},
   "outputs": [
    {
     "name": "stderr",
     "output_type": "stream",
     "text": [
      "ep0_bt3739\t[Ls]:\t[1.56]\tacc:\t0.903: 100%|██████████| 3750/3750 [01:17<00:00, 48.65it/s]\n"
     ]
    },
    {
     "name": "stdout",
     "output_type": "stream",
     "text": [
      "Validation [acc,loss]\t[0.934,\t1.53]\n"
     ]
    }
   ],
   "source": [
    "CUDA = torch.cuda.is_available()\n",
    "celoss=nn.CrossEntropyLoss()\n",
    "\n",
    "Lambda = 1e-2\n",
    "\n",
    "mu_t = 1e-3    # learning rate for dnn\n",
    "alpha = 5e-1    # learning rate for centers\n",
    "\n",
    "opt_X = Adam(params_dnn, lr = mu_t)\n",
    "\n",
    "window=20\n",
    "\n",
    "if CUDA: \n",
    "    dnn.cuda()\n",
    "    clmd.cuda()\n",
    "for epoch in range(1):\n",
    "    train_gen,val_gen = iter(train_loader),iter(val_loader)\n",
    "    r_loss_s,r_acc=0,0\n",
    "    acc_stat2 = []\n",
    "    t=trange(len(train_loader))\n",
    "    for i in t:\n",
    "        x,y=train_gen.__next__()\n",
    "        x,y=Variable(x),Variable(y)\n",
    "        if CUDA:\n",
    "            x.cuda()\n",
    "            y.cuda()\n",
    "            \n",
    "        y_oh = torch.FloatTensor(y.size()[0],10)\n",
    "        y_oh.zero_()\n",
    "        y_oh = Variable(y_oh.scatter_(1,y.data.view(y.size()[0],1),1))\n",
    "\n",
    "        y_,h = dnn(x)\n",
    "        \n",
    "        # Cross entropy loss\n",
    "        Ls = celoss(y_,y)\n",
    "\n",
    "        y_max,y_idx = torch.max(y_,1)\n",
    "        acc = torch.mean(torch.eq(y_idx,y).type(torch.FloatTensor))\n",
    "\n",
    "        # update theta\n",
    "        opt_X.zero_grad()\n",
    "        Ls.backward()\n",
    "        opt_X.step()\n",
    "        \n",
    "        r_loss_s += Ls.data[0]\n",
    "        r_acc += acc.data[0]\n",
    "        \n",
    "        if i%window==(window-1):\n",
    "            t.set_description(\"ep%s_bt%s\\t[Ls]:\\t[%.2f]\\tacc:\\t%.3f\"%(epoch,i,\n",
    "                                             r_loss_s/window,\n",
    "                                             r_acc/window,))\n",
    "            acc_stat2.append(r_acc/window)\n",
    "            r_acc,r_loss_s=0,0\n",
    "    val_acc,val_l=0,0\n",
    "    for i in range(len(val_loader)):\n",
    "        x,y=val_gen.__next__()\n",
    "        x,y=Variable(x),Variable(y)\n",
    "        if CUDA:\n",
    "            x.cuda()\n",
    "            y.cuda()\n",
    "        \n",
    "        y_,h = dnn(x)\n",
    "        Ls = celoss(y_,y)\n",
    "        y_max,y_idx = torch.max(y_,1)\n",
    "        acc = torch.mean(torch.eq(y_idx,y).type(torch.FloatTensor))\n",
    "        val_acc += acc.data[0]\n",
    "        val_l += Ls.data[0]\n",
    "    val_acc /= len(val_loader)\n",
    "    val_l /= len(val_loader)\n",
    "    print(\"Validation [acc,loss]\\t[%.3f,\\t%.2f]\"%(val_acc,val_l))"
   ]
  },
  {
   "cell_type": "code",
   "execution_count": 18,
   "metadata": {
    "collapsed": true
   },
   "outputs": [],
   "source": [
    "from matplotlib import pyplot as plt\n",
    "%matplotlib inline"
   ]
  },
  {
   "cell_type": "code",
   "execution_count": 46,
   "metadata": {},
   "outputs": [
    {
     "data": {
      "text/plain": [
       "[<matplotlib.lines.Line2D at 0x118bf4b38>,\n",
       " <matplotlib.lines.Line2D at 0x118bf4cf8>]"
      ]
     },
     "execution_count": 46,
     "metadata": {},
     "output_type": "execute_result"
    },
    {
     "name": "stderr",
     "output_type": "stream",
     "text": [
      "/Users/zhangxiaochen/anaconda3/lib/python3.6/site-packages/matplotlib/font_manager.py:1297: UserWarning: findfont: Font family ['msyh'] not found. Falling back to DejaVu Sans\n",
      "  (prop.get_family(), self.defaultFamily[fontext]))\n"
     ]
    },
    {
     "data": {
      "image/png": "[encoded data removed]",
      "text/plain": [
       "<matplotlib.figure.Figure at 0x119fe0240>"
      ]
     },
     "metadata": {},
     "output_type": "display_data"
    }
   ],
   "source": [
    "plt.plot(range(len(acc_stat1)),acc_stat1,range(len(acc_stat2)),acc_stat2)"
   ]
  },
  {
   "cell_type": "markdown",
   "metadata": {},
   "source": [
    "### With Convolutions"
   ]
  },
  {
   "cell_type": "code",
   "execution_count": 7,
   "metadata": {
    "collapsed": true
   },
   "outputs": [],
   "source": [
    "class cnn_mnist(nn.Module):\n",
    "    def __init__(self,nb_cls,fn_1=2**4,fn_2=2**5,fn_3=2**6,fn_out = 2**6,fc_h = 512):\n",
    "        super(cnn_mnist,self).__init__()\n",
    "        self.nb_cls = nb_cls\n",
    "        self.fn_out = fn_out\n",
    "        self.fn_1=fn_1\n",
    "        self.fn_2=fn_2\n",
    "        self.fn_3=fn_3\n",
    "        self.fc_h = 512\n",
    "        \n",
    "        self.conv1 = nn.Conv2d(1,self.fn_1,(3,3),stride=(1,1), padding=1)\n",
    "        self.conv2 = nn.Conv2d(self.fn_1,self.fn_1,(3,3),stride=(1,1), padding=1)\n",
    "        self.bn1= nn.BatchNorm2d(self.fn_1)\n",
    "        \n",
    "        self.conv3 = nn.Conv2d(self.fn_1,self.fn_1,(3,3),stride=1, padding=1)\n",
    "        self.conv4 = nn.Conv2d(self.fn_1,self.fn_2,(3,3),stride=1, padding=1)\n",
    "        self.bn2= nn.BatchNorm2d(self.fn_2)\n",
    "        \n",
    "        self.conv5 = nn.Conv2d(self.fn_2,self.fn_3,(3,3),stride=1, padding=1)\n",
    "        self.conv6 = nn.Conv2d(self.fn_3,self.fn_out,(3,3),stride=1, padding=1)\n",
    "        self.bn3= nn.BatchNorm2d(self.fn_out)\n",
    "        \n",
    "        self.pool = nn.MaxPool2d((2,2))\n",
    "        \n",
    "        self.fc1 = nn.Linear(3*3*self.fn_out,self.fc_h)\n",
    "        self.bn_fc = nn.BatchNorm1d(self.fc_h)\n",
    "        self.dropout = nn.Dropout(.3)\n",
    "        self.fc2 = nn.Linear(self.fc_h,10)\n",
    "        \n",
    "    def forward(self,x):\n",
    "        x = F.relu(self.conv1(x))\n",
    "        x = F.relu(self.conv2(x))\n",
    "        x = self.pool(self.bn1(x))\n",
    "        \n",
    "        x = F.relu(self.conv3(x))\n",
    "        x = F.relu(self.conv4(x))\n",
    "        x = self.pool(self.bn2(x))\n",
    "        \n",
    "        x = F.relu(self.conv5(x))\n",
    "        x = F.relu(self.conv6(x))\n",
    "        x = self.pool(self.bn3(x))\n",
    "        \n",
    "        x = x.view(-1,3*3*self.fn_out)\n",
    "        h = self.dropout(self.bn_fc(F.relu(self.fc1(x))))\n",
    "        x = F.softmax(self.fc2(h))\n",
    "        return x,h"
   ]
  },
  {
   "cell_type": "code",
   "execution_count": 13,
   "metadata": {
    "collapsed": true
   },
   "outputs": [],
   "source": [
    "dnn = cnn_mnist(10)\n",
    "clmd = center_loss(512,10)"
   ]
  },
  {
   "cell_type": "code",
   "execution_count": 14,
   "metadata": {},
   "outputs": [
    {
     "data": {
      "text/plain": [
       "cnn_mnist (\n",
       "  (conv1): Conv2d(1, 16, kernel_size=(3, 3), stride=(1, 1), padding=(1, 1))\n",
       "  (conv2): Conv2d(16, 16, kernel_size=(3, 3), stride=(1, 1), padding=(1, 1))\n",
       "  (bn1): BatchNorm2d(16, eps=1e-05, momentum=0.1, affine=True)\n",
       "  (conv3): Conv2d(16, 16, kernel_size=(3, 3), stride=(1, 1), padding=(1, 1))\n",
       "  (conv4): Conv2d(16, 32, kernel_size=(3, 3), stride=(1, 1), padding=(1, 1))\n",
       "  (bn2): BatchNorm2d(32, eps=1e-05, momentum=0.1, affine=True)\n",
       "  (conv5): Conv2d(32, 64, kernel_size=(3, 3), stride=(1, 1), padding=(1, 1))\n",
       "  (conv6): Conv2d(64, 64, kernel_size=(3, 3), stride=(1, 1), padding=(1, 1))\n",
       "  (bn3): BatchNorm2d(64, eps=1e-05, momentum=0.1, affine=True)\n",
       "  (pool): MaxPool2d (size=(2, 2), stride=(2, 2), dilation=(1, 1))\n",
       "  (fc1): Linear (576 -> 512)\n",
       "  (bn_fc): BatchNorm1d(512, eps=1e-05, momentum=0.1, affine=True)\n",
       "  (dropout): Dropout (p = 0.3)\n",
       "  (fc2): Linear (512 -> 10)\n",
       ")"
      ]
     },
     "execution_count": 14,
     "metadata": {},
     "output_type": "execute_result"
    }
   ],
   "source": [
    "dnn"
   ]
  },
  {
   "cell_type": "code",
   "execution_count": 15,
   "metadata": {},
   "outputs": [
    {
     "name": "stdout",
     "output_type": "stream",
     "text": [
      "torch.Size([10, 512])\n",
      "torch.Size([10])\n",
      "============================================================\n",
      "torch.Size([512, 10])\n",
      "============================================================\n",
      "torch.Size([16, 1, 3, 3])\n",
      "torch.Size([16])\n",
      "torch.Size([16, 16, 3, 3])\n",
      "torch.Size([16])\n",
      "torch.Size([16])\n",
      "torch.Size([16])\n",
      "torch.Size([16, 16, 3, 3])\n",
      "torch.Size([16])\n",
      "torch.Size([32, 16, 3, 3])\n",
      "torch.Size([32])\n",
      "torch.Size([32])\n",
      "torch.Size([32])\n",
      "torch.Size([64, 32, 3, 3])\n",
      "torch.Size([64])\n",
      "torch.Size([64, 64, 3, 3])\n",
      "torch.Size([64])\n",
      "torch.Size([64])\n",
      "torch.Size([64])\n",
      "torch.Size([512, 576])\n",
      "torch.Size([512])\n",
      "torch.Size([512])\n",
      "torch.Size([512])\n",
      "============================================================\n"
     ]
    }
   ],
   "source": [
    "params_dnn = list(dnn.parameters())\n",
    "params_theta = params_dnn[:-2]\n",
    "params_w = params_dnn[-2:]\n",
    "params_closs = list(clmd.parameters())\n",
    "len(params_w),len(params_closs),len(params_theta)\n",
    "for param in [params_w,params_closs,params_theta,]:\n",
    "    for mx in param:\n",
    "        print(mx.size())\n",
    "    print(\"=\"*60)"
   ]
  },
  {
   "cell_type": "code",
   "execution_count": 11,
   "metadata": {},
   "outputs": [],
   "source": [
    "# torch.cuda.is_available() will return True or False on if this machine possess GPU/ is its CUDA ready\n",
    "CUDA = torch.cuda.is_available()\n",
    "if CUDA: \n",
    "    dnn.cuda()\n",
    "    clmd.cuda()\n",
    "    \n",
    "celoss=nn.CrossEntropyLoss()\n",
    "\n",
    "Lambda = 1e-2\n",
    "\n",
    "mu_t = 1e-3    # learning rate for dnn\n",
    "alpha = 5e-1    # learning rate for centers\n",
    "\n",
    "# Use 3 optimizer on 3 parts of the parameters\n",
    "opt_W = Adam(params_w, lr = mu_t)\n",
    "opt_c = Adam(params_closs, lr = alpha)\n",
    "opt_X = Adam(params_theta, lr = mu_t)\n",
    "\n",
    "# Number of iterations to refresh messege\n",
    "window=20"
   ]
  },
  {
   "cell_type": "code",
   "execution_count": 12,
   "metadata": {},
   "outputs": [
    {
     "name": "stderr",
     "output_type": "stream",
     "text": [
      "ep0_bt3739\t Lt:\t1.48\t[Lc,Ls]:\t[0.38,1.48]\tacc:\t0.984: 100%|██████████| 3750/3750 [09:47<00:00,  6.39it/s]\n"
     ]
    },
    {
     "name": "stdout",
     "output_type": "stream",
     "text": [
      "Validation [acc,loss]\t[0.979,\t1.48]\n"
     ]
    }
   ],
   "source": [
    "# A list for register scores\n",
    "acc_stat1 = []\n",
    "\n",
    "for epoch in range(1):\n",
    "    train_gen,val_gen = iter(train_loader),iter(val_loader)\n",
    "    r_loss_t,r_loss_s,r_loss_c,r_acc=0,0,0,0\n",
    "    \n",
    "    t=trange(len(train_loader))\n",
    "    for i in t:\n",
    "        x,y=train_gen.__next__()\n",
    "        x,y=Variable(x),Variable(y)\n",
    "        if CUDA:\n",
    "            x.cuda()\n",
    "            y.cuda()\n",
    "            \n",
    "        y_oh = torch.FloatTensor(y.size()[0],10)\n",
    "        y_oh.zero_()\n",
    "        y_oh = Variable(y_oh.scatter_(1,y.data.view(y.size()[0],1),1))\n",
    "        \n",
    "        y_,h = dnn(x)\n",
    "        \n",
    "        # Cross entropy loss\n",
    "        Ls = celoss(y_,y)\n",
    "        # Center loss\n",
    "        Lc = clmd(h,y_oh)\n",
    "        Lt = Ls + Lambda * Lc\n",
    "        y_max,y_idx = torch.max(y_,1)\n",
    "        acc = torch.mean(torch.eq(y_idx,y).type(torch.FloatTensor))\n",
    "\n",
    "        # update W\n",
    "        opt_W.zero_grad()\n",
    "        Ls.backward(retain_variables=True)\n",
    "        opt_W.step()\n",
    "        \n",
    "        # update center\n",
    "        opt_c.zero_grad()\n",
    "        Lc.backward(retain_variables=True)\n",
    "        opt_c.step()\n",
    "        \n",
    "        # update theta\n",
    "        opt_X.zero_grad()\n",
    "        Lt.backward(retain_variables=True)\n",
    "        opt_X.step()\n",
    "        \n",
    "        # Accumulate running loss\n",
    "        r_loss_t += Lt.data[0]\n",
    "        r_loss_s += Ls.data[0]\n",
    "        r_loss_c += Lc.data[0]\n",
    "        r_acc += acc.data[0]\n",
    "        \n",
    "        if i%window==(window-1): # refresh messege on progress bar every {window} of batch\n",
    "            t.set_description(\"ep%s_bt%s\\t Lt:\\t%.2f\\t[Lc,Ls]:\\t[%.2f,%.2f]\\tacc:\\t%.3f\"%(epoch,\n",
    "                                             i,\n",
    "                                             r_loss_t/window,\n",
    "                                             r_loss_c/window,\n",
    "                                             r_loss_s/window,\n",
    "                                             r_acc/window,\n",
    "                                             ))\n",
    "            \n",
    "            # This list is for plotting charts\n",
    "            acc_stat1.append(r_acc/window)\n",
    "            r_loss_t,r_loss_s,r_loss_c,r_acc=0,0,0,0\n",
    "    val_acc,val_l=0,0\n",
    "    for i in range(len(val_loader)):\n",
    "        x,y=val_gen.__next__()\n",
    "        x,y=Variable(x),Variable(y)\n",
    "        if CUDA:\n",
    "            x.cuda()\n",
    "            y.cuda()\n",
    "        \n",
    "        y_,h = dnn(x)\n",
    "        Ls = celoss(y_,y)\n",
    "        y_max,y_idx = torch.max(y_,1)\n",
    "        acc = torch.mean(torch.eq(y_idx,y).type(torch.FloatTensor))\n",
    "        val_acc += acc.data[0]\n",
    "        val_l += Ls.data[0]\n",
    "    val_acc /= len(val_loader)\n",
    "    val_l /= len(val_loader)\n",
    "    print(\"Validation [acc,loss]\\t[%.3f,\\t%.2f]\"%(val_acc,val_l))"
   ]
  },
  {
   "cell_type": "markdown",
   "metadata": {},
   "source": [
    "### CNN with out center loss"
   ]
  },
  {
   "cell_type": "markdown",
   "metadata": {},
   "source": [
    "Well, at this part I start to blame myself not wrapping up the iteration into functions... For this is a short experiment let's just bear with it..."
   ]
  },
  {
   "cell_type": "code",
   "execution_count": 16,
   "metadata": {},
   "outputs": [
    {
     "name": "stderr",
     "output_type": "stream",
     "text": [
      "ep0_bt3739\t[Ls]:\t[1.50]\tacc:\t0.959: 100%|██████████| 3750/3750 [05:10<00:00, 12.09it/s]\n"
     ]
    },
    {
     "name": "stdout",
     "output_type": "stream",
     "text": [
      "Validation [acc,loss]\t[0.978,\t1.48]\n"
     ]
    }
   ],
   "source": [
    "CUDA = torch.cuda.is_available()\n",
    "celoss=nn.CrossEntropyLoss()\n",
    "\n",
    "Lambda = 1e-2\n",
    "\n",
    "mu_t = 1e-3    # learning rate for dnn\n",
    "alpha = 5e-1    # learning rate for centers\n",
    "\n",
    "opt_X = Adam(params_dnn, lr = mu_t)\n",
    "\n",
    "window=20\n",
    "\n",
    "if CUDA: \n",
    "    dnn.cuda()\n",
    "    clmd.cuda()\n",
    "for epoch in range(1):\n",
    "    train_gen,val_gen = iter(train_loader),iter(val_loader)\n",
    "    r_loss_s,r_acc=0,0\n",
    "    acc_stat2 = []\n",
    "    t=trange(len(train_loader))\n",
    "    for i in t:\n",
    "        x,y=train_gen.__next__()\n",
    "        x,y=Variable(x),Variable(y)\n",
    "        if CUDA:\n",
    "            x.cuda()\n",
    "            y.cuda()\n",
    "            \n",
    "        y_oh = torch.FloatTensor(y.size()[0],10)\n",
    "        y_oh.zero_()\n",
    "        y_oh = Variable(y_oh.scatter_(1,y.data.view(y.size()[0],1),1))\n",
    "\n",
    "        y_,h = dnn(x)\n",
    "        \n",
    "        # Cross entropy loss\n",
    "        Ls = celoss(y_,y)\n",
    "\n",
    "        y_max,y_idx = torch.max(y_,1)\n",
    "        acc = torch.mean(torch.eq(y_idx,y).type(torch.FloatTensor))\n",
    "\n",
    "        # update theta\n",
    "        opt_X.zero_grad()\n",
    "        Ls.backward()\n",
    "        opt_X.step()\n",
    "        \n",
    "        r_loss_s += Ls.data[0]\n",
    "        r_acc += acc.data[0]\n",
    "        \n",
    "        if i%window==(window-1):\n",
    "            t.set_description(\"ep%s_bt%s\\t[Ls]:\\t[%.2f]\\tacc:\\t%.3f\"%(epoch,i,\n",
    "                                             r_loss_s/window,\n",
    "                                             r_acc/window,))\n",
    "            acc_stat2.append(r_acc/window)\n",
    "            r_acc,r_loss_s=0,0\n",
    "    val_acc,val_l=0,0\n",
    "    for i in range(len(val_loader)):\n",
    "        x,y=val_gen.__next__()\n",
    "        x,y=Variable(x),Variable(y)\n",
    "        if CUDA:\n",
    "            x.cuda()\n",
    "            y.cuda()\n",
    "        \n",
    "        y_,h = dnn(x)\n",
    "        Ls = celoss(y_,y)\n",
    "        y_max,y_idx = torch.max(y_,1)\n",
    "        acc = torch.mean(torch.eq(y_idx,y).type(torch.FloatTensor))\n",
    "        val_acc += acc.data[0]\n",
    "        val_l += Ls.data[0]\n",
    "    val_acc /= len(val_loader)\n",
    "    val_l /= len(val_loader)\n",
    "    print(\"Validation [acc,loss]\\t[%.3f,\\t%.2f]\"%(val_acc,val_l))"
   ]
  },
  {
   "cell_type": "code",
   "execution_count": 19,
   "metadata": {},
   "outputs": [
    {
     "data": {
      "text/plain": [
       "[<matplotlib.lines.Line2D at 0x11b31c2b0>,\n",
       " <matplotlib.lines.Line2D at 0x11b31c470>]"
      ]
     },
     "execution_count": 19,
     "metadata": {},
     "output_type": "execute_result"
    },
    {
     "name": "stderr",
     "output_type": "stream",
     "text": [
      "/Users/zhangxiaochen/anaconda3/lib/python3.6/site-packages/matplotlib/font_manager.py:1297: UserWarning: findfont: Font family ['msyh'] not found. Falling back to DejaVu Sans\n",
      "  (prop.get_family(), self.defaultFamily[fontext]))\n"
     ]
    },
    {
     "data": {
      "image/png": "[encoded data removed]",
      "text/plain": [
       "<matplotlib.figure.Figure at 0x1076ff080>"
      ]
     },
     "metadata": {},
     "output_type": "display_data"
    }
   ],
   "source": [
    "plt.plot(range(len(acc_stat1)),acc_stat1,range(len(acc_stat2)),acc_stat2)"
   ]
  },
  {
   "cell_type": "markdown",
   "metadata": {},
   "source": [
    "### Plot out features"
   ]
  },
  {
   "cell_type": "code",
   "execution_count": 80,
   "metadata": {
    "collapsed": true
   },
   "outputs": [],
   "source": [
    "class cnn_mnist2(nn.Module):\n",
    "    def __init__(self,nb_cls,fn_1=2**4,fn_2=2**5,fn_3=2**6,fn_out = 2**6,fc_h = 512):\n",
    "        super(cnn_mnist2,self).__init__()\n",
    "        self.nb_cls = nb_cls\n",
    "        self.fn_out = fn_out\n",
    "        self.fn_1=fn_1\n",
    "        self.fn_2=fn_2\n",
    "        self.fn_3=fn_3\n",
    "        self.fc_h = fc_h\n",
    "        \n",
    "        self.conv1 = nn.Conv2d(1,self.fn_1,(3,3),stride=(1,1), padding=1)\n",
    "        self.conv2 = nn.Conv2d(self.fn_1,self.fn_1,(3,3),stride=(1,1), padding=1)\n",
    "        self.bn1= nn.BatchNorm2d(self.fn_1)\n",
    "        \n",
    "        self.conv3 = nn.Conv2d(self.fn_1,self.fn_1,(3,3),stride=1, padding=1)\n",
    "        self.conv4 = nn.Conv2d(self.fn_1,self.fn_2,(3,3),stride=1, padding=1)\n",
    "        self.bn2= nn.BatchNorm2d(self.fn_2)\n",
    "        \n",
    "        self.conv5 = nn.Conv2d(self.fn_2,self.fn_3,(3,3),stride=1, padding=1)\n",
    "        self.conv6 = nn.Conv2d(self.fn_3,self.fn_out,(3,3),stride=1, padding=1)\n",
    "        self.bn3= nn.BatchNorm2d(self.fn_out)\n",
    "        \n",
    "        self.pool = nn.MaxPool2d((2,2))\n",
    "        \n",
    "        self.fc1 = nn.Linear(3*3*self.fn_out,self.fc_h)\n",
    "        self.bn_fc = nn.BatchNorm1d(self.fc_h)\n",
    "        self.dropout = nn.Dropout(.3)\n",
    "        self.fc2 = nn.Linear(self.fc_h,2)\n",
    "        self.fc_l = nn.Linear(2,self.nb_cls)\n",
    "        \n",
    "    def forward(self,x):\n",
    "        x = F.relu(self.conv1(x))\n",
    "        x = F.relu(self.conv2(x))\n",
    "        x = self.pool(self.bn1(x))\n",
    "        \n",
    "        x = F.relu(self.conv3(x))\n",
    "        x = F.relu(self.conv4(x))\n",
    "        x = self.pool(self.bn2(x))\n",
    "        \n",
    "        x = F.relu(self.conv5(x))\n",
    "        x = F.relu(self.conv6(x))\n",
    "        x = self.pool(self.bn3(x))\n",
    "        \n",
    "        x = x.view(-1,3*3*self.fn_out)\n",
    "        x = self.dropout(self.bn_fc(F.relu(self.fc1(x))))\n",
    "        h = F.relu(self.fc2(x))\n",
    "        x = F.softmax(self.fc_l(h))\n",
    "        return x,h"
   ]
  },
  {
   "cell_type": "code",
   "execution_count": 81,
   "metadata": {},
   "outputs": [
    {
     "name": "stdout",
     "output_type": "stream",
     "text": [
      "torch.Size([10, 2])\n",
      "torch.Size([10])\n",
      "============================================================\n",
      "torch.Size([2, 10])\n",
      "============================================================\n",
      "torch.Size([16, 1, 3, 3])\n",
      "torch.Size([16])\n",
      "torch.Size([16, 16, 3, 3])\n",
      "torch.Size([16])\n",
      "torch.Size([16])\n",
      "torch.Size([16])\n",
      "torch.Size([16, 16, 3, 3])\n",
      "torch.Size([16])\n",
      "torch.Size([32, 16, 3, 3])\n",
      "torch.Size([32])\n",
      "torch.Size([32])\n",
      "torch.Size([32])\n",
      "torch.Size([64, 32, 3, 3])\n",
      "torch.Size([64])\n",
      "torch.Size([64, 64, 3, 3])\n",
      "torch.Size([64])\n",
      "torch.Size([64])\n",
      "torch.Size([64])\n",
      "torch.Size([256, 576])\n",
      "torch.Size([256])\n",
      "torch.Size([256])\n",
      "torch.Size([256])\n",
      "torch.Size([2, 256])\n",
      "torch.Size([2])\n",
      "============================================================\n"
     ]
    }
   ],
   "source": [
    "FEATURE_NB = 2\n",
    "dnn = cnn_mnist2(10,fc_h=256)\n",
    "clmd = center_loss(FEATURE_NB,10)\n",
    "\n",
    "params_dnn = list(dnn.parameters())\n",
    "params_theta = params_dnn[:-2]\n",
    "params_w = params_dnn[-2:]\n",
    "params_closs = list(clmd.parameters())\n",
    "len(params_w),len(params_closs),len(params_theta)\n",
    "for param in [params_w,params_closs,params_theta,]:\n",
    "    for mx in param:\n",
    "        print(mx.size())\n",
    "    print(\"=\"*60)\n",
    "\n",
    "# torch.cuda.is_available() will return True or False on if this machine possess GPU/ is its CUDA ready\n",
    "CUDA = torch.cuda.is_available()\n",
    "if CUDA: \n",
    "    dnn.cuda()\n",
    "    clmd.cuda()\n",
    "\n",
    "celoss=nn.CrossEntropyLoss()\n",
    "\n",
    "Lambda = 1e-2\n",
    "\n",
    "mu_t = 1e-3    # learning rate for dnn\n",
    "alpha = 5e-1    # learning rate for centers\n",
    "\n",
    "# Use 3 optimizer on 3 parts of the parameters\n",
    "opt_W = Adam(params_w, lr = mu_t)\n",
    "opt_c = SGD(params_closs, lr = alpha)\n",
    "opt_X = Adam(params_theta, lr = mu_t)\n",
    "\n",
    "# Number of iterations to refresh messege\n",
    "window=20"
   ]
  },
  {
   "cell_type": "code",
   "execution_count": 82,
   "metadata": {},
   "outputs": [
    {
     "name": "stderr",
     "output_type": "stream",
     "text": [
      "ep0_bt3739\t Lt:\t1.97\\[tLc,Ls]:\t[1.60,1.95]\tacc:\t0.578: 100%|██████████| 3750/3750 [08:44<00:00,  7.16it/s]\n"
     ]
    },
    {
     "name": "stdout",
     "output_type": "stream",
     "text": [
      "Validation [acc,loss]\t[0.589,\t1.94]\n"
     ]
    }
   ],
   "source": [
    "# A list for register scores\n",
    "acc_stat1 = []\n",
    "\n",
    "for epoch in range(1):\n",
    "    train_gen,val_gen = iter(train_loader),iter(val_loader)\n",
    "    r_loss_t,r_loss_s,r_loss_c,r_acc=0,0,0,0\n",
    "    \n",
    "    t=trange(len(train_loader))\n",
    "    for i in t:\n",
    "        x,y=train_gen.__next__()\n",
    "        x,y=Variable(x),Variable(y)\n",
    "        if CUDA:\n",
    "            x.cuda()\n",
    "            y.cuda()\n",
    "            \n",
    "        y_oh = torch.FloatTensor(y.size()[0],10)\n",
    "        y_oh.zero_()\n",
    "        y_oh = Variable(y_oh.scatter_(1,y.data.view(y.size()[0],1),1))\n",
    "        \n",
    "        y_,h = dnn(x)\n",
    "        \n",
    "        # Cross entropy loss\n",
    "        Ls = celoss(y_,y)\n",
    "        # Center loss\n",
    "        Lc = clmd(h,y_oh)\n",
    "        Lt = Ls + Lambda * Lc\n",
    "        y_max,y_idx = torch.max(y_,1)\n",
    "        acc = torch.mean(torch.eq(y_idx,y).type(torch.FloatTensor))\n",
    "\n",
    "        # update W\n",
    "        opt_W.zero_grad()\n",
    "        Ls.backward(retain_variables=True)\n",
    "        opt_W.step()\n",
    "        \n",
    "        # update center\n",
    "        opt_c.zero_grad()\n",
    "        Lc.backward(retain_variables=True)\n",
    "        opt_c.step()\n",
    "        \n",
    "        # update theta\n",
    "        opt_X.zero_grad()\n",
    "        Lt.backward(retain_variables=True)\n",
    "        opt_X.step()\n",
    "        \n",
    "        # Accumulate running loss\n",
    "        r_loss_t += Lt.data[0]\n",
    "        r_loss_s += Ls.data[0]\n",
    "        r_loss_c += Lc.data[0]\n",
    "        r_acc += acc.data[0]\n",
    "        \n",
    "        if i%window==(window-1): # refresh messege on progress bar every {window} of batch\n",
    "            t.set_description(\"ep%s_bt%s\\t Lt:\\t%.2f\\[tLc,Ls]:\\t[%.2f,%.2f]\\tacc:\\t%.3f\"%(epoch,\n",
    "                                             i,\n",
    "                                             r_loss_t/window,\n",
    "                                             r_loss_c/window,\n",
    "                                             r_loss_s/window,\n",
    "                                             r_acc/window,\n",
    "                                             ))\n",
    "            \n",
    "            # This list is for plotting charts\n",
    "            acc_stat1.append(r_acc/window)\n",
    "            r_loss_t,r_loss_s,r_loss_c,r_acc=0,0,0,0\n",
    "    val_acc,val_l=0,0\n",
    "    for i in range(len(val_loader)):\n",
    "        x,y=val_gen.__next__()\n",
    "        x,y=Variable(x),Variable(y)\n",
    "        if CUDA:\n",
    "            x.cuda()\n",
    "            y.cuda()\n",
    "        \n",
    "        y_,h = dnn(x)\n",
    "        Ls = celoss(y_,y)\n",
    "        y_max,y_idx = torch.max(y_,1)\n",
    "        acc = torch.mean(torch.eq(y_idx,y).type(torch.FloatTensor))\n",
    "        val_acc += acc.data[0]\n",
    "        val_l += Ls.data[0]\n",
    "    val_acc /= len(val_loader)\n",
    "    val_l /= len(val_loader)\n",
    "    print(\"Validation [acc,loss]\\t[%.3f,\\t%.2f]\"%(val_acc,val_l))"
   ]
  },
  {
   "cell_type": "code",
   "execution_count": 83,
   "metadata": {},
   "outputs": [],
   "source": [
    "centers = list(clmd.parameters())[0].data.numpy()"
   ]
  },
  {
   "cell_type": "code",
   "execution_count": 84,
   "metadata": {},
   "outputs": [
    {
     "data": {
      "text/plain": [
       "<matplotlib.image.AxesImage at 0x116029a20>"
      ]
     },
     "execution_count": 84,
     "metadata": {},
     "output_type": "execute_result"
    },
    {
     "name": "stderr",
     "output_type": "stream",
     "text": [
      "/Users/zhangxiaochen/anaconda3/lib/python3.6/site-packages/matplotlib/font_manager.py:1297: UserWarning: findfont: Font family ['msyh'] not found. Falling back to DejaVu Sans\n",
      "  (prop.get_family(), self.defaultFamily[fontext]))\n"
     ]
    },
    {
     "data": {
      "image/png": "[encoded data removed]",
      "text/plain": [
       "<matplotlib.figure.Figure at 0x115ee8b38>"
      ]
     },
     "metadata": {},
     "output_type": "display_data"
    }
   ],
   "source": [
    "plt.imshow(centers)"
   ]
  },
  {
   "cell_type": "code",
   "execution_count": 85,
   "metadata": {},
   "outputs": [],
   "source": [
    "plot_loader = DataLoader(train_raw,batch_size=256,shuffle=True,num_workers=2)\n",
    "tg = iter(plot_loader)"
   ]
  },
  {
   "cell_type": "code",
   "execution_count": 86,
   "metadata": {
    "collapsed": true
   },
   "outputs": [],
   "source": [
    "x_sct,y_sct=tg.next()"
   ]
  },
  {
   "cell_type": "code",
   "execution_count": 87,
   "metadata": {},
   "outputs": [],
   "source": [
    "pred,ft=dnn(Variable(x_sct))"
   ]
  },
  {
   "cell_type": "code",
   "execution_count": null,
   "metadata": {
    "collapsed": true
   },
   "outputs": [],
   "source": []
  },
  {
   "cell_type": "code",
   "execution_count": 105,
   "metadata": {},
   "outputs": [],
   "source": [
    "# colors = [\"#00f0\",\"#f000\",\"#0f00\",\"#ff00\",\"#0ff0\",\"#f0f0\",\"#0000\",\"#77f0\",\"#f770\",\"#7f70\"]\n",
    "colors = list(['tab:blue', 'tab:orange', 'tab:green', 'tab:red', 'tab:purple', 'tab:brown', 'tab:pink', 'tab:gray', 'tab:olive', 'tab:cyan'])\n",
    "y_sct_c = np.vectorize(lambda x:colors[x])(y_sct.numpy())"
   ]
  },
  {
   "cell_type": "code",
   "execution_count": 106,
   "metadata": {},
   "outputs": [
    {
     "data": {
      "text/plain": [
       "<matplotlib.collections.PathCollection at 0x133505fd0>"
      ]
     },
     "execution_count": 106,
     "metadata": {},
     "output_type": "execute_result"
    },
    {
     "name": "stderr",
     "output_type": "stream",
     "text": [
      "/Users/zhangxiaochen/anaconda3/lib/python3.6/site-packages/matplotlib/font_manager.py:1297: UserWarning: findfont: Font family ['msyh'] not found. Falling back to DejaVu Sans\n",
      "  (prop.get_family(), self.defaultFamily[fontext]))\n"
     ]
    },
    {
     "data": {
      "image/png": "[encoded data removed]",
      "text/plain": [
       "<matplotlib.figure.Figure at 0x11e492da0>"
      ]
     },
     "metadata": {},
     "output_type": "display_data"
    }
   ],
   "source": [
    "feature = ft.data.numpy()\n",
    "sx,sy = feature[:,0],feature[:,1]\n",
    "plt.scatter(sx,sy,c=y_sct_c)"
   ]
  },
  {
   "cell_type": "code",
   "execution_count": null,
   "metadata": {
    "collapsed": true
   },
   "outputs": [],
   "source": []
  }
 ],
 "metadata": {
  "kernelspec": {
   "display_name": "Python 3",
   "language": "python",
   "name": "python3"
  },
  "language_info": {
   "codemirror_mode": {
    "name": "ipython",
    "version": 3
   },
   "file_extension": ".py",
   "mimetype": "text/x-python",
   "name": "python",
   "nbconvert_exporter": "python",
   "pygments_lexer": "ipython3",
   "version": "3.6.1"
  }
 },
 "nbformat": 4,
 "nbformat_minor": 2
}
