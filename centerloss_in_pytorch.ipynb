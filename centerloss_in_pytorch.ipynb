{
 "cells": [
  {
   "cell_type": "markdown",
   "metadata": {},
   "source": [
    "# Center Loss In Pytorch"
   ]
  },
  {
   "cell_type": "markdown",
   "metadata": {},
   "source": [
    "### Center Loss With Pytorch"
   ]
  },
  {
   "cell_type": "markdown",
   "metadata": {},
   "source": [
    "### A deployment on [the centerloss paper](https://ydwen.github.io/papers/WenECCV16.pdf) with pytorch"
   ]
  },
  {
   "cell_type": "markdown",
   "metadata": {},
   "source": [
    "Gradient on center:\n",
    "\n",
    "$\\large \\Delta c_{j} = \\frac{\\sum_{i-1}^m \\delta(y_{i}=j).(c_{j}-x_{i})}{1+\\sum_{i-1}^m \\delta(y_{i}=j)}$\n",
    "\n",
    "### Algorithm: The discriminative feature learning algorithm\n",
    "\n",
    "**Input:** Traning data $\\{x_{i}\\}$. Initialized parameters $\\theta_{C}$ in convolution layers(but in my experiment I only used linear). Parameters $W$ and $\\{c_{j}|j=1,2,...,n\\}$ in loss layers, respectively. Hyperparameter $\\lambda$,$\\alpha$ and learning rate $\\mu_{t}$. The number of iteration $t\\leftarrow0$.\n",
    "\n",
    "**Output** The parameters $\\theta_{C}$\n",
    "\n",
    "* **While** not converge **do**\n",
    "    * $t\\leftarrow t+1$\n",
    "    * Compute the joint loss by $\\large L^t = L_{S}^t+L_{C}^t$\n",
    "    * Compute the backpropagation error $\\large \\frac{\\partial L^t}{\\partial x_{i}^t}$ for each $i$ by $\\large \\frac{\\partial L^t}{\\partial x_{i}^t}=\\frac{\\partial L^t_{S}}{\\partial x_{i}^t}+\\lambda . \\frac{\\partial L^t_{C}}{\\partial x_{i}^t}$\n",
    "    * Update the parameters $W$ by $\\large W^{t+1}=W^{t}-\\mu_{t}.\\frac{\\partial L^t}{\\partial W^t}=W^{t}-\\mu^t.\\frac{\\partial L^t_{S}}{\\partial W^t}$\n",
    "    * Update the parameters $c_{j}$ for each $j$ by $\\large c^{t+1}_{j}=c^{t}_{j}-\\alpha . \\Delta c^t_{j}$\n",
    "    * Update the parameters $\\theta_{C}$ by $\\large \\theta^{t+1}_{C}=\\theta^{t}_{C} - \\mu^t\\sum^m_{i} \\frac{\\partial L^t}{\\partial x^t_{i}}.\\frac{\\partial x^t_{i}}{\\partial \\theta^t_{C}}$\n",
    "* end while"
   ]
  },
  {
   "cell_type": "code",
   "execution_count": null,
   "metadata": {
    "collapsed": true
   },
   "outputs": [],
   "source": [
    "import numpy as np\n",
    "import torch\n",
    "from torch import nn\n",
    "from torch import Tensor\n",
    "from torch.autograd import Variable\n",
    "from torchvision.datasets import MNIST\n",
    "from torchvision import transforms\n",
    "from torch.utils.data.dataloader import DataLoader\n",
    "from torch.nn import functional as F\n",
    "from tqdm import trange # to make a pretty progress bar\n",
    "from torch.optim import Adam,SGD "
   ]
  },
  {
   "cell_type": "markdown",
   "metadata": {},
   "source": [
    "### Data transformation pipe"
   ]
  },
  {
   "cell_type": "code",
   "execution_count": null,
   "metadata": {
    "collapsed": true
   },
   "outputs": [],
   "source": [
    "transform = transforms.Compose([transforms.ToTensor(),transforms.Normalize([.5,.5,.5],[.5,.5,.5])])"
   ]
  },
  {
   "cell_type": "code",
   "execution_count": null,
   "metadata": {
    "collapsed": true
   },
   "outputs": [],
   "source": [
    "DL = False # Set this to True first time you run this\n",
    "train_raw = MNIST(\"/data\",train=True,transform=transform,download=DL)\n",
    "val_raw = MNIST(\"/data\",train=False,transform=transform,download=DL)"
   ]
  },
  {
   "cell_type": "code",
   "execution_count": null,
   "metadata": {
    "collapsed": true
   },
   "outputs": [],
   "source": [
    "train_loader = DataLoader(train_raw,batch_size=16,shuffle=True,num_workers=2)\n",
    "val_loader = DataLoader(val_raw,batch_size=16,shuffle=True,num_workers=2)"
   ]
  },
  {
   "cell_type": "code",
   "execution_count": null,
   "metadata": {
    "collapsed": true
   },
   "outputs": [],
   "source": [
    "class dnn_mnist(nn.Module):\n",
    "    def __init__(self,nb_feat):\n",
    "        super(dnn_mnist,self).__init__()\n",
    "        self.nb_feat = nb_feat\n",
    "        self.fc1 = nn.Linear(784,self.nb_feat)\n",
    "        self.fc2 = nn.Linear(self.nb_feat,10)\n",
    "        \n",
    "    def forward(self,x):\n",
    "        # Reshape\n",
    "        x = x.view(-1,784)\n",
    "        # 1st layer & activation\n",
    "        h = F.relu(self.fc1(x))\n",
    "        # 2nd layer & activation\n",
    "        x = F.softmax(self.fc2(h))\n",
    "        return x,h\n",
    "        "
   ]
  },
  {
   "cell_type": "code",
   "execution_count": 15,
   "metadata": {
    "collapsed": true
   },
   "outputs": [],
   "source": [
    "class center_loss(nn.Module):\n",
    "    def __init__(self,nb_feat,nb_cls):\n",
    "        super(center_loss,self).__init__()\n",
    "        self.nb_feat = nb_feat\n",
    "        self.nb_cls = nb_cls\n",
    "        # self.centers dimension self.nb_feat * self.nb_cls\n",
    "        self.centers = nn.Parameter(torch.randn(self.nb_feat,self.nb_cls))\n",
    "    \n",
    "    def forward(self,x,lbl):\n",
    "        \"\"\"\n",
    "        In this calculation, lbl means the one hot encoding label\n",
    "        x: bs * self.nb_feat\n",
    "        lbl: bs * self.nb_cls\n",
    "        \"\"\"\n",
    "        # print(x.t().size(),lbl.mm(self.centers.t()).size())\n",
    "        return torch.mean(torch.pow(x-lbl.mm(self.centers.t()),2))"
   ]
  },
  {
   "cell_type": "code",
   "execution_count": 57,
   "metadata": {
    "collapsed": true
   },
   "outputs": [],
   "source": [
    "dnn = dnn_mnist(100)\n",
    "clmd = center_loss(100,10)"
   ]
  },
  {
   "cell_type": "code",
   "execution_count": 58,
   "metadata": {},
   "outputs": [
    {
     "name": "stdout",
     "output_type": "stream",
     "text": [
      "torch.Size([10, 100])\n",
      "torch.Size([10])\n",
      "============================================================\n",
      "torch.Size([100, 10])\n",
      "============================================================\n",
      "torch.Size([100, 784])\n",
      "torch.Size([100])\n",
      "============================================================\n"
     ]
    }
   ],
   "source": [
    "params_dnn = list(dnn.parameters())\n",
    "params_theta = params_dnn[:2]\n",
    "params_w = params_dnn[2:]\n",
    "params_closs = list(clmd.parameters())\n",
    "len(params_w),len(params_closs),len(params_theta)\n",
    "for param in [params_w,params_closs,params_theta,]:\n",
    "    for mx in param:\n",
    "        print(mx.size())\n",
    "    print(\"=\"*60)"
   ]
  },
  {
   "cell_type": "markdown",
   "metadata": {},
   "source": [
    "#### Check if using GPU"
   ]
  },
  {
   "cell_type": "code",
   "execution_count": null,
   "metadata": {
    "collapsed": true
   },
   "outputs": [],
   "source": [
    "# torch.cuda.is_available() will return True or False on if this machine possess GPU/ is its CUDA ready\n",
    "CUDA = torch.cuda.is_available()\n",
    "if CUDA: \n",
    "    dnn.cuda()\n",
    "    clmd.cuda()"
   ]
  },
  {
   "cell_type": "markdown",
   "metadata": {},
   "source": [
    "#### Set Cross Entropy Loss Function"
   ]
  },
  {
   "cell_type": "code",
   "execution_count": null,
   "metadata": {
    "collapsed": true
   },
   "outputs": [],
   "source": [
    "celoss=nn.CrossEntropyLoss()"
   ]
  },
  {
   "cell_type": "markdown",
   "metadata": {},
   "source": [
    "#### Set Hyper-parameters: $\\large \\lambda$ , learning rate $\\large \\mu_{t}$ and $\\large \\alpha$"
   ]
  },
  {
   "cell_type": "code",
   "execution_count": null,
   "metadata": {
    "collapsed": true
   },
   "outputs": [],
   "source": [
    "Lambda = 1e-2\n",
    "\n",
    "mu_t = 1e-3    # learning rate for dnn\n",
    "alpha = 5e-1    # learning rate for centers"
   ]
  },
  {
   "cell_type": "code",
   "execution_count": null,
   "metadata": {
    "collapsed": true
   },
   "outputs": [],
   "source": [
    "# Use 3 optimizer on 3 parts of the parameters\n",
    "opt_W = Adam(params_w, lr = mu_t)\n",
    "opt_c = Adam(params_closs, lr = alpha)\n",
    "opt_X = Adam(params_theta, lr = mu_t)\n",
    "\n",
    "# Number of iterations to refresh messege\n",
    "window=20\n",
    "# A list for register scores\n",
    "acc_stat1 = []"
   ]
  },
  {
   "cell_type": "code",
   "execution_count": 56,
   "metadata": {},
   "outputs": [
    {
     "name": "stderr",
     "output_type": "stream",
     "text": [
      "ep0_bt3739\t Lt:\t1.56\\[tLc,Ls]:\t[1.87,1.54]\tacc:\t0.925: 100%|██████████| 3750/3750 [00:31<00:00, 118.38it/s]\n"
     ]
    },
    {
     "name": "stdout",
     "output_type": "stream",
     "text": [
      "Validation [acc,loss]\t[0.924,\t1.55]\n"
     ]
    }
   ],
   "source": [
    "for epoch in range(1):\n",
    "    train_gen,val_gen = iter(train_loader),iter(val_loader)\n",
    "    r_loss_t,r_loss_s,r_loss_c,r_acc=0,0,0,0\n",
    "    \n",
    "    t=trange(len(train_loader))\n",
    "    for i in t:\n",
    "        x,y=train_gen.__next__()\n",
    "        x,y=Variable(x),Variable(y)\n",
    "        if CUDA:\n",
    "            x.cuda()\n",
    "            y.cuda()\n",
    "            \n",
    "        y_oh = torch.FloatTensor(y.size()[0],10)\n",
    "        y_oh.zero_()\n",
    "        y_oh = Variable(y_oh.scatter_(1,y.data.view(y.size()[0],1),1))\n",
    "        \n",
    "        y_,h = dnn(x)\n",
    "        \n",
    "        # Cross entropy loss\n",
    "        Ls = celoss(y_,y)\n",
    "        # Center loss\n",
    "        Lc = clmd(h,y_oh)\n",
    "        Lt = Ls + Lambda * Lc\n",
    "        y_max,y_idx = torch.max(y_,1)\n",
    "        acc = torch.mean(torch.eq(y_idx,y).type(torch.FloatTensor))\n",
    "\n",
    "        # update W\n",
    "        opt_W.zero_grad()\n",
    "        Ls.backward(retain_variables=True)\n",
    "        opt_W.step()\n",
    "        \n",
    "        # update center\n",
    "        opt_c.zero_grad()\n",
    "        Lc.backward(retain_variables=True)\n",
    "        opt_c.step()\n",
    "        \n",
    "        # update theta\n",
    "        opt_X.zero_grad()\n",
    "        Lt.backward(retain_variables=True)\n",
    "        opt_X.step()\n",
    "        \n",
    "        # Accumulate running loss\n",
    "        r_loss_t += Lt.data[0]\n",
    "        r_loss_s += Ls.data[0]\n",
    "        r_loss_c += Lc.data[0]\n",
    "        r_acc += acc.data[0]\n",
    "        \n",
    "        if i%window==(window-1): # refresh messege on progress bar every {window} of batch\n",
    "            t.set_description(\"ep%s_bt%s\\t Lt:\\t%.2f\\[tLc,Ls]:\\t[%.2f,%.2f]\\tacc:\\t%.3f\"%(epoch,\n",
    "                                             i,\n",
    "                                             r_loss_t/window,\n",
    "                                             r_loss_c/window,\n",
    "                                             r_loss_s/window,\n",
    "                                             r_acc/window,\n",
    "                                             ))\n",
    "            \n",
    "            # This list is for plotting charts\n",
    "            acc_stat1.append(r_acc/window)\n",
    "            r_loss_t,r_loss_s,r_loss_c,r_acc=0,0,0,0\n",
    "    val_acc,val_l=0,0\n",
    "    for i in range(len(val_loader)):\n",
    "        x,y=val_gen.__next__()\n",
    "        x,y=Variable(x),Variable(y)\n",
    "        if CUDA:\n",
    "            x.cuda()\n",
    "            y.cuda()\n",
    "        \n",
    "        y_,h = dnn(x)\n",
    "        Ls = celoss(y_,y)\n",
    "        y_max,y_idx = torch.max(y_,1)\n",
    "        acc = torch.mean(torch.eq(y_idx,y).type(torch.FloatTensor))\n",
    "        val_acc += acc.data[0]\n",
    "        val_l += Ls.data[0]\n",
    "    val_acc /= len(val_loader)\n",
    "    val_l /= len(val_loader)\n",
    "    print(\"Validation [acc,loss]\\t[%.3f,\\t%.2f]\"%(val_acc,val_l))"
   ]
  },
  {
   "cell_type": "markdown",
   "metadata": {},
   "source": [
    "### Now test on if we don't use Center Loss"
   ]
  },
  {
   "cell_type": "code",
   "execution_count": 59,
   "metadata": {},
   "outputs": [
    {
     "name": "stderr",
     "output_type": "stream",
     "text": [
      "ep0_bt3739\t[Ls]:\t[1.55]\tacc:\t0.919: 100%|██████████| 3750/3750 [00:21<00:00, 173.97it/s]\n"
     ]
    },
    {
     "name": "stdout",
     "output_type": "stream",
     "text": [
      "Validation [acc,loss]\t[0.919,\t1.55]\n"
     ]
    }
   ],
   "source": [
    "CUDA = torch.cuda.is_available()\n",
    "celoss=nn.CrossEntropyLoss()\n",
    "\n",
    "Lambda = 1e-2\n",
    "\n",
    "mu_t = 1e-3    # learning rate for dnn\n",
    "alpha = 5e-1    # learning rate for centers\n",
    "\n",
    "opt_X = Adam(params_dnn, lr = mu_t)\n",
    "\n",
    "window=20\n",
    "\n",
    "if CUDA: \n",
    "    dnn.cuda()\n",
    "    clmd.cuda()\n",
    "for epoch in range(1):\n",
    "    train_gen,val_gen = iter(train_loader),iter(val_loader)\n",
    "    r_loss_s,r_acc=0,0\n",
    "    acc_stat2 = []\n",
    "    t=trange(len(train_loader))\n",
    "    for i in t:\n",
    "        x,y=train_gen.__next__()\n",
    "        x,y=Variable(x),Variable(y)\n",
    "        if CUDA:\n",
    "            x.cuda()\n",
    "            y.cuda()\n",
    "            \n",
    "        y_oh = torch.FloatTensor(y.size()[0],10)\n",
    "        y_oh.zero_()\n",
    "        y_oh = Variable(y_oh.scatter_(1,y.data.view(y.size()[0],1),1))\n",
    "\n",
    "        y_,h = dnn(x)\n",
    "        \n",
    "        # Cross entropy loss\n",
    "        Ls = celoss(y_,y)\n",
    "\n",
    "        y_max,y_idx = torch.max(y_,1)\n",
    "        acc = torch.mean(torch.eq(y_idx,y).type(torch.FloatTensor))\n",
    "\n",
    "        # update theta\n",
    "        opt_X.zero_grad()\n",
    "        Ls.backward()\n",
    "        opt_X.step()\n",
    "        \n",
    "        r_loss_s += Ls.data[0]\n",
    "        r_acc += acc.data[0]\n",
    "        \n",
    "        if i%window==(window-1):\n",
    "            t.set_description(\"ep%s_bt%s\\t[Ls]:\\t[%.2f]\\tacc:\\t%.3f\"%(epoch,i,\n",
    "                                             r_loss_s/window,\n",
    "                                             r_acc/window,))\n",
    "            acc_stat2.append(r_acc/window)\n",
    "            r_acc,r_loss_s=0,0\n",
    "    val_acc,val_l=0,0\n",
    "    for i in range(len(val_loader)):\n",
    "        x,y=val_gen.__next__()\n",
    "        x,y=Variable(x),Variable(y)\n",
    "        if CUDA:\n",
    "            x.cuda()\n",
    "            y.cuda()\n",
    "        \n",
    "        y_,h = dnn(x)\n",
    "        Ls = celoss(y_,y)\n",
    "        y_max,y_idx = torch.max(y_,1)\n",
    "        acc = torch.mean(torch.eq(y_idx,y).type(torch.FloatTensor))\n",
    "        val_acc += acc.data[0]\n",
    "        val_l += Ls.data[0]\n",
    "    val_acc /= len(val_loader)\n",
    "    val_l /= len(val_loader)\n",
    "    print(\"Validation [acc,loss]\\t[%.3f,\\t%.2f]\"%(val_acc,val_l))"
   ]
  },
  {
   "cell_type": "code",
   "execution_count": 30,
   "metadata": {
    "collapsed": true
   },
   "outputs": [],
   "source": [
    "from matplotlib import pyplot as plt\n",
    "%matplotlib inline"
   ]
  },
  {
   "cell_type": "code",
   "execution_count": 60,
   "metadata": {},
   "outputs": [
    {
     "data": {
      "text/plain": [
       "[<matplotlib.lines.Line2D at 0x11d5a14a8>,\n",
       " <matplotlib.lines.Line2D at 0x11d5a1668>]"
      ]
     },
     "execution_count": 60,
     "metadata": {},
     "output_type": "execute_result"
    },
    {
     "name": "stderr",
     "output_type": "stream",
     "text": [
      "/Users/zhangxiaochen/anaconda3/lib/python3.6/site-packages/matplotlib/font_manager.py:1297: UserWarning: findfont: Font family ['msyh'] not found. Falling back to DejaVu Sans\n",
      "  (prop.get_family(), self.defaultFamily[fontext]))\n"
     ]
    },
    {
     "data": {
      "image/png": "[encoded data removed]",
      "text/plain": [
       "<matplotlib.figure.Figure at 0x11d4591d0>"
      ]
     },
     "metadata": {},
     "output_type": "display_data"
    }
   ],
   "source": [
    "plt.plot(range(len(acc_stat1)),acc_stat1,range(len(acc_stat1)),acc_stat2)"
   ]
  },
  {
   "cell_type": "code",
   "execution_count": null,
   "metadata": {
    "collapsed": true
   },
   "outputs": [],
   "source": []
  }
 ],
 "metadata": {
  "kernelspec": {
   "display_name": "Python 3",
   "language": "python",
   "name": "python3"
  },
  "language_info": {
   "codemirror_mode": {
    "name": "ipython",
    "version": 3
   },
   "file_extension": ".py",
   "mimetype": "text/x-python",
   "name": "python",
   "nbconvert_exporter": "python",
   "pygments_lexer": "ipython3",
   "version": "3.6.1"
  }
 },
 "nbformat": 4,
 "nbformat_minor": 2
}
