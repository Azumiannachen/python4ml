{
 "cells": [
  {
   "cell_type": "markdown",
   "metadata": {},
   "source": [
    "# Programs are like functions"
   ]
  },
  {
   "cell_type": "markdown",
   "metadata": {},
   "source": [
    "A note: in this interactive iPython notebook, you can run Linux commands within your Linux environment simply by affixing ! in front of the command.\n",
    "An example: press ctrl/cmd + enter on the cell below to see the output of running a linux command (keep in mind, this requires that you are running this notebook in a linux environment)."
   ]
  },
  {
   "cell_type": "code",
   "execution_count": 36,
   "metadata": {},
   "outputs": [
    {
     "name": "stdout",
     "output_type": "stream",
     "text": [
      "Hello World!\r\n"
     ]
    }
   ],
   "source": [
    "!echo \"Hello World!\""
   ]
  },
  {
   "cell_type": "markdown",
   "metadata": {},
   "source": [
    "## Programs can have parameters"
   ]
  },
  {
   "cell_type": "markdown",
   "metadata": {},
   "source": [
    "Now that you know how to write programs you are familiar with functions. This \"special\" chapter is gonna give you some advanced notions about programs in linux environment.\n",
    "\n",
    "In linux environment you can really see programs as functions. Just like functions they can have parameters and outputs.\n",
    "(They also have input, which is slightly different than parameters, we will see that a bit later).\n",
    "\n",
    "To run a program in linux it is very simple: just open a terminal, go to the repertory where your program is installed, then type the name of the program followed by its parameters.\n",
    "\n",
    "my_program param1 param2\n",
    "\n",
    "Unlike functions in python you don't type parentheses '()' or commas ',' between the parameters."
   ]
  },
  {
   "cell_type": "markdown",
   "metadata": {},
   "source": [
    "## Customize what your program is doing"
   ]
  },
  {
   "cell_type": "markdown",
   "metadata": {},
   "source": [
    "But what is the point of giving parameters to program execution ? In windows we just click the icon then the program runs. Is linux more complicated ?\n",
    "\n",
    "Answer is no, if the program can run without parameters it will run.\n",
    "Moreover I have good news for you, you already used a program with parameters many times.\n",
    "This program has a familiar name: 'ls'\n",
    "\n",
    "Yes, \"ls\" is a program just like all the other linux command.\n",
    "Just like all other linux built-in programs it is located in /bin/\n",
    "Don't believe me, just try to find it yourself.\n",
    "\n",
    "You also already know the parameters ls expects: it can be \"the repertory\" you want to list, or \"options\" for the listing.\n",
    "The documentation of \"ls\" command says:"
   ]
  },
  {
   "cell_type": "raw",
   "metadata": {
    "collapsed": true
   },
   "source": [
    "NAME\n",
    "       ls - list directory contents\n",
    "\n",
    "SYNOPSIS\n",
    "       ls [OPTION]... [FILE]..."
   ]
  },
  {
   "cell_type": "markdown",
   "metadata": {},
   "source": [
    "So \"ls\" can run perfectly without parameters, but you can customize what it does by giving it options and parameters.\n",
    "\n",
    "An other example that you probably know: jupyter. You are currently running a jupyter notebook. The command line you typed might have been this:"
   ]
  },
  {
   "cell_type": "raw",
   "metadata": {
    "collapsed": true
   },
   "source": [
    "jupyter notebook Programs_in_linux_environment.ipynb"
   ]
  },
  {
   "cell_type": "markdown",
   "metadata": {},
   "source": [
    "This is an execution of the program called \"jupyter\" it has two parameters, the first parameter 'notebook' tells jupyter to run a notebook, the second parameter tells it \"which file contains your notebook\"."
   ]
  },
  {
   "cell_type": "markdown",
   "metadata": {},
   "source": [
    "## Read the F** manual"
   ]
  },
  {
   "cell_type": "markdown",
   "metadata": {},
   "source": [
    "As you can see the parameters for a program are the way to tell your program what it needs for its execution because sometimes it makes sense.\n",
    "\n",
    "For instance you can pass a parameter \"notebook\" to \"jupyter\" because that makes sense for jupyter. However if you give the same parameter \"notebook\" to the command \"ls\", it will thing you are talking about some directory name.\n",
    "\n",
    "The point is there is no black magic ongoing here (I will show you black magic as a bonus at the end of this chapter). The program needs to be \"expecting\" a parameter and \"know what to do about this\". \n",
    "If you are a developper writing down some program you will need to write in your code all the behaviour of your program for any parameter it is able to process.\n",
    "\n",
    "What if you are using someone else's program ?\n",
    "This is what documentation is meant for. Every program distributed for other people to use it should have a documentation. In linux we talk about \"the manual\".\n",
    "\n",
    "Every linux command has a manual entry describing what it is doing and listing all the possible parameters you may give to that command.\n",
    "\n",
    "Any decent linux environment has a command called \"man\". It has nothing to do with anything manly. \"man\" is just short for manual.\n",
    "\n",
    "Go on, you may try it with ls ! Just type :"
   ]
  },
  {
   "cell_type": "code",
   "execution_count": 4,
   "metadata": {},
   "outputs": [],
   "source": [
    "man ls"
   ]
  },
  {
   "cell_type": "markdown",
   "metadata": {},
   "source": [
    "There is a short description about what the command do. And a description about how to use it like this:\n",
    " ls [OPTION]... [FILE]...\n",
    " \n",
    "This describes how you should type the command. First type \"ls\" then you give (or not) OPTIONs then you give (or not) FILEs.\n",
    "The \"...\" means 0 1 or many. Meaning you can provide zero one or more options as first parameter.\n",
    "\n",
    "Options usually start with a dash \"-\" that is how you recognize they are options.\n",
    "Let's say inside parameters there is a distinction between an option and a parameter.\n",
    "\n",
    "If you scroll down you will see a list of any possible option that you might want to give to the ls command, and if relevant you will also have \"arguments\" for option.\n",
    "Example:"
   ]
  },
  {
   "cell_type": "raw",
   "metadata": {},
   "source": [
    "-I, --ignore=PATTERN\n",
    "              do not list implied entries matching shell PATTERN"
   ]
  },
  {
   "cell_type": "code",
   "execution_count": 41,
   "metadata": {},
   "outputs": [
    {
     "name": "stdout",
     "output_type": "stream",
     "text": [
      "_config.yml\t    lesson1.ipynb\t mnist_basic.ipynb\n",
      "docs\t\t    lesson2.ipynb\t pre_checklist.md\n",
      "explore_data.ipynb  lesson3.ipynb\t Programs_in_linux_environment.ipynb\n",
      "image.png\t    lesson4.ipynb\t README.md\n",
      "INSTALL.md\t    linux_lesson1.ipynb\n",
      "_config.yml\t    lesson1.ipynb\t mnist_basic.ipynb\n",
      "docs\t\t    lesson2.ipynb\t pre_checklist.md\n",
      "explore_data.ipynb  lesson3.ipynb\t Programs_in_linux_environment.ipynb\n",
      "image.png\t    lesson4.ipynb\t README.md\n",
      "INSTALL.md\t    linux_lesson1.ipynb  sql_practice.ipynb\n"
     ]
    }
   ],
   "source": [
    "!ls -I \"sql_practice.ipynb\"\n",
    "#notice the now-hidden sql file\n",
    "\n",
    "!ls"
   ]
  },
  {
   "cell_type": "markdown",
   "metadata": {},
   "source": [
    "              \n",
    "Means that the option -I can also be called --ignore, takes an argument PATTERN which tels ls not to list the files whose name contains the given PATTERN.\n",
    "\n",
    "Note that PATTERN is not between brackets [], which means that you have to give a value to that parameter.\n",
    "\n",
    "I really encourage you to check the manual every time you see a command you never seen before. All the in-built commands in linux have a manual entry. And sometimes you may find options allowing you to do things that would much more complicated to do otherwise."
   ]
  },
  {
   "cell_type": "markdown",
   "metadata": {},
   "source": [
    "# Linux environment"
   ]
  },
  {
   "cell_type": "markdown",
   "metadata": {},
   "source": [
    "## Environment variables"
   ]
  },
  {
   "cell_type": "markdown",
   "metadata": {},
   "source": [
    "Have you noticed that when you write your own program in some folder, then open a new terminal, you cannot run your program by just typing its name. You need to go to the folder where your program is located before you can run it.\n",
    "\n",
    "But some programs look like exceptions, all the linux commands located in /bin are exceptions : you can run them from any directory.\n",
    "But there are others exceptions, jupyter may be one of them.\n",
    "\n",
    "Here is the secret: the reason why they are exceptions.\n",
    "In your terminal type:\n"
   ]
  },
  {
   "cell_type": "code",
   "execution_count": null,
   "metadata": {
    "collapsed": true
   },
   "outputs": [],
   "source": [
    "echo $PATH"
   ]
  },
  {
   "cell_type": "markdown",
   "metadata": {},
   "source": [
    "This command runs the program echo with the parameter $PATH, in short it means \"display the value of the variable PATH\".\n",
    "The output of this command should be a list of directories separated by ':'. I bet the jupyter program is in one of these directories. How come ?\n",
    "\n",
    "PATH is a special environment variable. \"environment variable\" is a fancy expression just to say that is is a variable defined in your terminal environment.\n",
    "\n",
    "You can create your own variables using the command just like this:"
   ]
  },
  {
   "cell_type": "code",
   "execution_count": 9,
   "metadata": {},
   "outputs": [],
   "source": [
    "!my_variable=\"test\""
   ]
  },
  {
   "cell_type": "markdown",
   "metadata": {},
   "source": [
    "Then you can print the value of your variable using echo"
   ]
  },
  {
   "cell_type": "code",
   "execution_count": 10,
   "metadata": {},
   "outputs": [
    {
     "name": "stdout",
     "output_type": "stream",
     "text": [
      "test\r\n"
     ]
    }
   ],
   "source": [
    "!echo $my_variable"
   ]
  },
  {
   "cell_type": "markdown",
   "metadata": {},
   "source": [
    "You need to add the '\\$' because writing down \"echo my_variables\" means something else:\n",
    " - *echo still means display*, but if you don't put a '$' in front your variable name it will write \"my_variable\" instead of your varriable value (here it is \"test\").\n",
    "\n",
    "PATH is just another environment variable, but it has a special property: \n",
    "- \"When you type a command your terminal does not know, it will search all the directories listed in PATH for a program with that name.\""
   ]
  },
  {
   "cell_type": "markdown",
   "metadata": {},
   "source": [
    "# Pipes"
   ]
  },
  {
   "cell_type": "markdown",
   "metadata": {},
   "source": [
    "Now we start dealing with serious stuff. Pipes are such a powerful feature in linux that it would be shame you never seen them in action.\n",
    "\n",
    "If I had to say in one sentence what pipes do I would say: they connect a program (or a command, now you know it is the same thing) output with the next program input.\n",
    "\n",
    "I said in the begining to avoid confusing parameters and input. Here you will know why.\n",
    "\n",
    "I did not tell you the whole truth about the shape of a command running a program: here are the details I hid from your innocent eyes:\n",
    "\n",
    "(input >>) my_program param1 param2 (>> output) (> return value)\n",
    "\n",
    "Let's check it step by step. You have an input stream, an output stream and a return value."
   ]
  },
  {
   "cell_type": "markdown",
   "metadata": {},
   "source": [
    "## output stream"
   ]
  },
  {
   "cell_type": "markdown",
   "metadata": {},
   "source": [
    "Actually you already know about the \"output\". You can see it as the \"logs\" of your program. It is also the place where the command ls writes the directory you are listing.\n",
    "\n",
    "By default the \"output\" of a program is redirected to the terminal, that is how you can see ls listing the files in the current directory.\n",
    "\n",
    "We call it a stream, because it is living as long as the program lives. Whenever the program wants to output something it will be \"added in the flow\"."
   ]
  },
  {
   "cell_type": "markdown",
   "metadata": {},
   "source": [
    "## return value"
   ]
  },
  {
   "cell_type": "markdown",
   "metadata": {},
   "source": [
    "The return value is a \"status\" of the program at the end of its execution. In normal execution if everything is fine by convention programs usually return 0 (but they don't have to).\n",
    "Once again you can check the manual to see what is the meaning of the RETURN value of the command you use.\n",
    "\n",
    "It is not often useful to get this return value, the casual use case is when you want to ensure that previous command executed without errors.\n",
    "\n",
    "The terminal stores the return value of last command execution in the environment variable $?.\n",
    "\n",
    "You can try ! Type:"
   ]
  },
  {
   "cell_type": "code",
   "execution_count": 12,
   "metadata": {},
   "outputs": [
    {
     "name": "stdout",
     "output_type": "stream",
     "text": [
      "_config.yml         lesson1.ipynb        mnist_basic.ipynb\r\n",
      "\u001b[0m\u001b[34;42mdocs\u001b[0m/               lesson2.ipynb        pre_checklist.md\r\n",
      "explore_data.ipynb  lesson3.ipynb        Programs_in_linux_environment.ipynb\r\n",
      "\u001b[01;35mimage.png\u001b[0m           lesson4.ipynb        README.md\r\n",
      "INSTALL.md          linux_lesson1.ipynb  sql_practice.ipynb\r\n"
     ]
    }
   ],
   "source": [
    "ls"
   ]
  },
  {
   "cell_type": "code",
   "execution_count": 42,
   "metadata": {},
   "outputs": [
    {
     "name": "stdout",
     "output_type": "stream",
     "text": [
      "0\r\n"
     ]
    }
   ],
   "source": [
    "!echo $? #should be 0"
   ]
  },
  {
   "cell_type": "code",
   "execution_count": 43,
   "metadata": {},
   "outputs": [
    {
     "name": "stdout",
     "output_type": "stream",
     "text": [
      "ls: cannot access 'some_repertory_or_file_that_does_not_exist': No such file or directory\r\n"
     ]
    }
   ],
   "source": [
    "!ls some_repertory_or_file_that_does_not_exist"
   ]
  },
  {
   "cell_type": "code",
   "execution_count": 46,
   "metadata": {},
   "outputs": [
    {
     "name": "stdout",
     "output_type": "stream",
     "text": [
      "0\r\n"
     ]
    }
   ],
   "source": [
    "!echo $? #should be something else other that 0"
   ]
  },
  {
   "cell_type": "markdown",
   "metadata": {},
   "source": [
    "## input stream "
   ]
  },
  {
   "cell_type": "markdown",
   "metadata": {},
   "source": [
    "Last but not least I wanna tell you about the input stream. Just like output stream, input stream lives as long as the program lives.\n",
    "There are many ways in python to read the input stream. \n",
    "A common use cas is when you prompt something to the user using the python built-in function \"input\".\n",
    "\n",
    "I will show you some black magic about that later on. But for now the point is the input stream is available for the program during its whole execution.\n",
    "\n",
    "However keep in mind that the program will not be interrupted by anything enterning the input stream.\n",
    "The program has to actively read the input stream if it is interested in what's in it (calling input method is an example of a program reading input stream).\n",
    "\n",
    "Now let's see a very powerful use case !"
   ]
  },
  {
   "cell_type": "markdown",
   "metadata": {},
   "source": [
    "## let's pipe !"
   ]
  },
  {
   "cell_type": "markdown",
   "metadata": {},
   "source": [
    "One the first thing most linux command do when they start is : \"reading the input stream\". In many cases they use the data in the input stream the exact same way they would read it if it were parameters.\n",
    "But often they interpret input stream and parameters a different way. \n",
    "\n",
    "These are not thing you can just \"guess\" if you don't know because they depend on what's inside the program. But normally the information you need is in the manual!\n",
    "\n",
    "Let's see some examples:\n"
   ]
  },
  {
   "cell_type": "code",
   "execution_count": 22,
   "metadata": {},
   "outputs": [
    {
     "data": {
      "text/plain": [
       "'/home/nodal/python4ml'"
      ]
     },
     "execution_count": 22,
     "metadata": {},
     "output_type": "execute_result"
    }
   ],
   "source": [
    "pwd | cat"
   ]
  },
  {
   "cell_type": "markdown",
   "metadata": {},
   "source": [
    "The thing you should be paying attention to is this sign: \"|\".\n",
    "\n",
    "The linux developers thought the vertical bar has the shape of a pipe, so they chose it to represent pipes.\n",
    "What pipes mean ?"
   ]
  },
  {
   "cell_type": "raw",
   "metadata": {},
   "source": [
    "\"command1 [parameters if needed] |pipe| command2 [parameters if needed]\""
   ]
  },
  {
   "cell_type": "markdown",
   "metadata": {},
   "source": [
    "Now that you know about output and input streams you can understand: \n",
    "\"the pipe connects the output stream of the command1 to the input stream of command2\"\n",
    "\n",
    "On that example above the pwd command will write the current directory on its output stream.\n",
    "Then cat starts check its parameters, and doesn't find any. \n",
    "Since it does not find parameters the manual says:\n",
    "    \"With no FILE, or when FILE is -, read standard input.\"\n",
    "    \n",
    "Which means it is just gonna print out what it sees on its input.\n",
    "\n",
    "Ok, that was a bad example, the cat here is just useless, I have the same overall output with just typing \"pwd\". But that was the easy example, let's see a more interesting one."
   ]
  },
  {
   "cell_type": "markdown",
   "metadata": {},
   "source": [
    "Imagine you want to search all your jupyter notebooks for any sentence containing the words : \"black magic\". You want to know if there is black magic somewhere there.\n",
    "Check that up :"
   ]
  },
  {
   "cell_type": "raw",
   "metadata": {},
   "source": [
    "!cat *.ipynb |grep \"black magic\""
   ]
  },
  {
   "cell_type": "markdown",
   "metadata": {},
   "source": [
    "Cool ? Is it ? \n",
    "First command: "
   ]
  },
  {
   "cell_type": "code",
   "execution_count": null,
   "metadata": {
    "collapsed": true
   },
   "outputs": [],
   "source": [
    "cat *.ipynb #means : \"generate an output which is the concatenated content of all files whose name ends with .ipynb\""
   ]
  },
  {
   "cell_type": "raw",
   "metadata": {},
   "source": [
    "| grep \"black magic\" #search for the \"black magic\" in input stream"
   ]
  },
  {
   "cell_type": "markdown",
   "metadata": {},
   "source": [
    "# Enter the black depths of linux"
   ]
  },
  {
   "cell_type": "markdown",
   "metadata": {},
   "source": [
    "If you are afraid of the consequences of practising black whichcraft, please leave this chapter. I am not responsible of the consequences of what you are gonna do with this knowledge."
   ]
  },
  {
   "cell_type": "markdown",
   "metadata": {},
   "source": [
    "## Programs vs process"
   ]
  },
  {
   "cell_type": "markdown",
   "metadata": {},
   "source": [
    "Do you know the difference between a program and a process ? That is a tricky question but the answer is easy to understand: \n",
    " - a programm is a code and a corresponding binary\n",
    " - a process is a program being executed\n",
    " \n",
    "You can run a program many times at the same time, you still gonna have \"one program\", but there will be as many process running your program as the number of times the program was started.\n",
    "\n",
    "The linux operating system creates processes all the time. For each process in your machine Linux attributes a unique process id.\n",
    "\n",
    "With a linux terminal, you can see the process running on your system using the command ps.\n",
    "Try with options.\n",
    "- ps -ef \n",
    "- ps ax\n",
    "\n",
    "\n",
    "It is the same but shaped differently. Check the man for more information.\n",
    "\n",
    "\n",
    "As you can see there is a whole jungle of process.\n",
    "Now are expert in pipes, you can filter that, for instance try to display or the jupyter process using"
   ]
  },
  {
   "cell_type": "raw",
   "metadata": {},
   "source": [
    "ps ax |grep jupyter"
   ]
  },
  {
   "cell_type": "markdown",
   "metadata": {},
   "source": [
    "## In Linux: everything is a file"
   ]
  },
  {
   "cell_type": "markdown",
   "metadata": {},
   "source": [
    "Let's go deeper in the black magic... You are gonna need to open two terminals.\n",
    "In the first terminal run a python command prompter.\n",
    "\n",
    "The python command prompter you just ran is a process like all the others. \n",
    "I want the process id.\n",
    "\n",
    "On the python command line run the two following commands:\n",
    "- import os\n",
    "- os.getpid()\n",
    "\n",
    "It should look like this:\n"
   ]
  },
  {
   "attachments": {
    "image.png": {
     "image/png": "[encoded data removed]"
    }
   },
   "cell_type": "markdown",
   "metadata": {},
   "source": [
    "![image.png](attachment:image.png)"
   ]
  },
  {
   "cell_type": "markdown",
   "metadata": {},
   "source": [
    "Ok, now have a look as your /proc filesystem:"
   ]
  },
  {
   "cell_type": "code",
   "execution_count": 7,
   "metadata": {},
   "outputs": [
    {
     "name": "stdout",
     "output_type": "stream",
     "text": [
      "\u001b[0m\u001b[01;34m1\u001b[0m/      \u001b[01;34m13911\u001b[0m/  \u001b[01;34m1653\u001b[0m/  \u001b[01;34m1890\u001b[0m/   \u001b[01;34m21941\u001b[0m/  \u001b[01;34m30\u001b[0m/   \u001b[01;34m923\u001b[0m/         kpageflags\r\n",
      "\u001b[01;34m10\u001b[0m/     \u001b[01;34m13912\u001b[0m/  \u001b[01;34m1654\u001b[0m/  \u001b[01;34m1896\u001b[0m/   \u001b[01;34m22\u001b[0m/     \u001b[01;34m31\u001b[0m/   \u001b[01;34m931\u001b[0m/         loadavg\r\n",
      "\u001b[01;34m101\u001b[0m/    \u001b[01;34m13915\u001b[0m/  \u001b[01;34m1655\u001b[0m/  \u001b[01;34m19\u001b[0m/     \u001b[01;34m22140\u001b[0m/  \u001b[01;34m32\u001b[0m/   \u001b[01;34m95\u001b[0m/          locks\r\n",
      "\u001b[01;34m1015\u001b[0m/   \u001b[01;34m14\u001b[0m/     \u001b[01;34m1656\u001b[0m/  \u001b[01;34m191\u001b[0m/    \u001b[01;34m2218\u001b[0m/   \u001b[01;34m34\u001b[0m/   \u001b[01;34m96\u001b[0m/          mdstat\r\n",
      "\u001b[01;34m1019\u001b[0m/   \u001b[01;34m1407\u001b[0m/   \u001b[01;34m1657\u001b[0m/  \u001b[01;34m192\u001b[0m/    \u001b[01;34m2221\u001b[0m/   \u001b[01;34m35\u001b[0m/   \u001b[01;34m975\u001b[0m/         meminfo\r\n",
      "\u001b[01;34m102\u001b[0m/    \u001b[01;34m14101\u001b[0m/  \u001b[01;34m1658\u001b[0m/  \u001b[01;34m1921\u001b[0m/   \u001b[01;34m2224\u001b[0m/   \u001b[01;34m36\u001b[0m/   \u001b[01;34m976\u001b[0m/         misc\r\n",
      "\u001b[01;34m103\u001b[0m/    \u001b[01;34m1418\u001b[0m/   \u001b[01;34m1659\u001b[0m/  \u001b[01;34m194\u001b[0m/    \u001b[01;34m22248\u001b[0m/  \u001b[01;34m37\u001b[0m/   \u001b[01;34m98\u001b[0m/          modules\r\n",
      "\u001b[01;34m104\u001b[0m/    \u001b[01;34m1430\u001b[0m/   \u001b[01;34m1660\u001b[0m/  \u001b[01;34m1941\u001b[0m/   \u001b[01;34m22249\u001b[0m/  \u001b[01;34m38\u001b[0m/   \u001b[01;34m99\u001b[0m/          \u001b[01;36mmounts\u001b[0m@\r\n",
      "\u001b[01;34m105\u001b[0m/    \u001b[01;34m14541\u001b[0m/  \u001b[01;34m1661\u001b[0m/  \u001b[01;34m1943\u001b[0m/   \u001b[01;34m2226\u001b[0m/   \u001b[01;34m39\u001b[0m/   \u001b[01;34m998\u001b[0m/         mtrr\r\n",
      "\u001b[01;34m106\u001b[0m/    \u001b[01;34m1455\u001b[0m/   \u001b[01;34m1686\u001b[0m/  \u001b[01;34m195\u001b[0m/    \u001b[01;34m2236\u001b[0m/   \u001b[01;34m4\u001b[0m/    \u001b[01;34m999\u001b[0m/         \u001b[01;36mnet\u001b[0m@\r\n",
      "\u001b[01;34m1072\u001b[0m/   \u001b[01;34m1458\u001b[0m/   \u001b[01;34m1709\u001b[0m/  \u001b[01;34m1964\u001b[0m/   \u001b[01;34m22394\u001b[0m/  \u001b[01;34m40\u001b[0m/   \u001b[01;34macpi\u001b[0m/        pagetypeinfo\r\n",
      "\u001b[01;34m10850\u001b[0m/  \u001b[01;34m1462\u001b[0m/   \u001b[01;34m1716\u001b[0m/  \u001b[01;34m19709\u001b[0m/  \u001b[01;34m2253\u001b[0m/   \u001b[01;34m403\u001b[0m/  \u001b[01;34masound\u001b[0m/      partitions\r\n",
      "\u001b[01;34m10861\u001b[0m/  \u001b[01;34m1476\u001b[0m/   \u001b[01;34m1725\u001b[0m/  \u001b[01;34m19801\u001b[0m/  \u001b[01;34m2266\u001b[0m/   \u001b[01;34m41\u001b[0m/   buddyinfo    sched_debug\r\n",
      "\u001b[01;34m10862\u001b[0m/  \u001b[01;34m1482\u001b[0m/   \u001b[01;34m1728\u001b[0m/  \u001b[01;34m2\u001b[0m/      \u001b[01;34m22723\u001b[0m/  \u001b[01;34m42\u001b[0m/   \u001b[01;34mbus\u001b[0m/         schedstat\r\n",
      "\u001b[01;34m11\u001b[0m/     \u001b[01;34m1486\u001b[0m/   \u001b[01;34m1730\u001b[0m/  \u001b[01;34m20\u001b[0m/     \u001b[01;34m2273\u001b[0m/   \u001b[01;34m43\u001b[0m/   cgroups      \u001b[01;34mscsi\u001b[0m/\r\n",
      "\u001b[01;34m1107\u001b[0m/   \u001b[01;34m1487\u001b[0m/   \u001b[01;34m1733\u001b[0m/  \u001b[01;34m200\u001b[0m/    \u001b[01;34m22737\u001b[0m/  \u001b[01;34m44\u001b[0m/   cmdline      \u001b[01;36mself\u001b[0m@\r\n",
      "\u001b[01;34m1108\u001b[0m/   \u001b[01;34m1491\u001b[0m/   \u001b[01;34m1734\u001b[0m/  \u001b[01;34m20167\u001b[0m/  \u001b[01;34m22738\u001b[0m/  \u001b[01;34m45\u001b[0m/   consoles     slabinfo\r\n",
      "\u001b[01;34m111\u001b[0m/    \u001b[01;34m1498\u001b[0m/   \u001b[01;34m1735\u001b[0m/  \u001b[01;34m20474\u001b[0m/  \u001b[01;34m2275\u001b[0m/   \u001b[01;34m46\u001b[0m/   cpuinfo      softirqs\r\n",
      "\u001b[01;34m1114\u001b[0m/   \u001b[01;34m15\u001b[0m/     \u001b[01;34m1745\u001b[0m/  \u001b[01;34m20551\u001b[0m/  \u001b[01;34m228\u001b[0m/    \u001b[01;34m47\u001b[0m/   crypto       stat\r\n",
      "\u001b[01;34m1148\u001b[0m/   \u001b[01;34m1503\u001b[0m/   \u001b[01;34m175\u001b[0m/   \u001b[01;34m2066\u001b[0m/   \u001b[01;34m22814\u001b[0m/  \u001b[01;34m51\u001b[0m/   devices      swaps\r\n",
      "\u001b[01;34m1155\u001b[0m/   \u001b[01;34m1514\u001b[0m/   \u001b[01;34m1752\u001b[0m/  \u001b[01;34m2081\u001b[0m/   \u001b[01;34m229\u001b[0m/    \u001b[01;34m52\u001b[0m/   diskstats    \u001b[01;34msys\u001b[0m/\r\n",
      "\u001b[01;34m12\u001b[0m/     \u001b[01;34m1524\u001b[0m/   \u001b[01;34m176\u001b[0m/   \u001b[01;34m20904\u001b[0m/  \u001b[01;34m22920\u001b[0m/  \u001b[01;34m53\u001b[0m/   dma          sysrq-trigger\r\n",
      "\u001b[01;34m1211\u001b[0m/   \u001b[01;34m1526\u001b[0m/   \u001b[01;34m1765\u001b[0m/  \u001b[01;34m21\u001b[0m/     \u001b[01;34m22962\u001b[0m/  \u001b[01;34m54\u001b[0m/   \u001b[01;34mdriver\u001b[0m/      \u001b[01;34msysvipc\u001b[0m/\r\n",
      "\u001b[01;34m12112\u001b[0m/  \u001b[01;34m1542\u001b[0m/   \u001b[01;34m177\u001b[0m/   \u001b[01;34m2100\u001b[0m/   \u001b[01;34m22984\u001b[0m/  \u001b[01;34m55\u001b[0m/   execdomains  \u001b[01;36mthread-self\u001b[0m@\r\n",
      "\u001b[01;34m1270\u001b[0m/   \u001b[01;34m1554\u001b[0m/   \u001b[01;34m1777\u001b[0m/  \u001b[01;34m21001\u001b[0m/  \u001b[01;34m22985\u001b[0m/  \u001b[01;34m6\u001b[0m/    fb           timer_list\r\n",
      "\u001b[01;34m1278\u001b[0m/   \u001b[01;34m1556\u001b[0m/   \u001b[01;34m178\u001b[0m/   \u001b[01;34m21009\u001b[0m/  \u001b[01;34m22986\u001b[0m/  \u001b[01;34m652\u001b[0m/  filesystems  timer_stats\r\n",
      "\u001b[01;34m1283\u001b[0m/   \u001b[01;34m1567\u001b[0m/   \u001b[01;34m1788\u001b[0m/  \u001b[01;34m2102\u001b[0m/   \u001b[01;34m231\u001b[0m/    \u001b[01;34m653\u001b[0m/  \u001b[01;34mfs\u001b[0m/          \u001b[01;34mtty\u001b[0m/\r\n",
      "\u001b[01;34m13\u001b[0m/     \u001b[01;34m1572\u001b[0m/   \u001b[01;34m179\u001b[0m/   \u001b[01;34m21137\u001b[0m/  \u001b[01;34m2326\u001b[0m/   \u001b[01;34m7\u001b[0m/    i8k          uptime\r\n",
      "\u001b[01;34m1316\u001b[0m/   \u001b[01;34m15804\u001b[0m/  \u001b[01;34m18\u001b[0m/    \u001b[01;34m21165\u001b[0m/  \u001b[01;34m24\u001b[0m/     \u001b[01;34m8\u001b[0m/    interrupts   version\r\n",
      "\u001b[01;34m132\u001b[0m/    \u001b[01;34m15831\u001b[0m/  \u001b[01;34m180\u001b[0m/   \u001b[01;34m21167\u001b[0m/  \u001b[01;34m25\u001b[0m/     \u001b[01;34m805\u001b[0m/  iomem        version_signature\r\n",
      "\u001b[01;34m1328\u001b[0m/   \u001b[01;34m15867\u001b[0m/  \u001b[01;34m183\u001b[0m/   \u001b[01;34m21168\u001b[0m/  \u001b[01;34m26\u001b[0m/     \u001b[01;34m881\u001b[0m/  ioports      vmallocinfo\r\n",
      "\u001b[01;34m1329\u001b[0m/   \u001b[01;34m15931\u001b[0m/  \u001b[01;34m1832\u001b[0m/  \u001b[01;34m21170\u001b[0m/  \u001b[01;34m262\u001b[0m/    \u001b[01;34m887\u001b[0m/  \u001b[01;34mirq\u001b[0m/         vmstat\r\n",
      "\u001b[01;34m1334\u001b[0m/   \u001b[01;34m15947\u001b[0m/  \u001b[01;34m1837\u001b[0m/  \u001b[01;34m21194\u001b[0m/  \u001b[01;34m2691\u001b[0m/   \u001b[01;34m889\u001b[0m/  kallsyms     zoneinfo\r\n",
      "\u001b[01;34m1336\u001b[0m/   \u001b[01;34m16\u001b[0m/     \u001b[01;34m184\u001b[0m/   \u001b[01;34m2123\u001b[0m/   \u001b[01;34m27\u001b[0m/     \u001b[01;34m893\u001b[0m/  kcore\r\n",
      "\u001b[01;34m13900\u001b[0m/  \u001b[01;34m16020\u001b[0m/  \u001b[01;34m1845\u001b[0m/  \u001b[01;34m21361\u001b[0m/  \u001b[01;34m28\u001b[0m/     \u001b[01;34m9\u001b[0m/    keys\r\n",
      "\u001b[01;34m13907\u001b[0m/  \u001b[01;34m16037\u001b[0m/  \u001b[01;34m185\u001b[0m/   \u001b[01;34m21543\u001b[0m/  \u001b[01;34m2814\u001b[0m/   \u001b[01;34m903\u001b[0m/  key-users\r\n",
      "\u001b[01;34m13908\u001b[0m/  \u001b[01;34m16039\u001b[0m/  \u001b[01;34m1853\u001b[0m/  \u001b[01;34m2157\u001b[0m/   \u001b[01;34m286\u001b[0m/    \u001b[01;34m905\u001b[0m/  kmsg\r\n",
      "\u001b[01;34m13909\u001b[0m/  \u001b[01;34m1610\u001b[0m/   \u001b[01;34m1857\u001b[0m/  \u001b[01;34m2159\u001b[0m/   \u001b[01;34m2895\u001b[0m/   \u001b[01;34m911\u001b[0m/  kpagecgroup\r\n",
      "\u001b[01;34m13910\u001b[0m/  \u001b[01;34m1649\u001b[0m/   \u001b[01;34m186\u001b[0m/   \u001b[01;34m2186\u001b[0m/   \u001b[01;34m2916\u001b[0m/   \u001b[01;34m922\u001b[0m/  kpagecount\r\n"
     ]
    }
   ],
   "source": [
    "ls /proc"
   ]
  },
  {
   "cell_type": "markdown",
   "metadata": {},
   "source": [
    "As you can see there are a lot of repertories whose name is a number. If you take a close look at this, these number are an exaustive list of all the ids of the process currently running in your environment.\n",
    "\n",
    "Let's go to the folder corresponding to you python console: "
   ]
  },
  {
   "cell_type": "raw",
   "metadata": {},
   "source": [
    "cd /proc/[your python console proc id]\n",
    "ls"
   ]
  },
  {
   "cell_type": "markdown",
   "metadata": {},
   "source": [
    "You have a lot of stuf going on there. But there is one repertory I wanna show you. Its name is \"fd\"."
   ]
  },
  {
   "cell_type": "markdown",
   "metadata": {},
   "source": [
    "cd /proc/[your python console proc id]/fd\n",
    "ls"
   ]
  },
  {
   "cell_type": "markdown",
   "metadata": {},
   "source": [
    "Normally you have at least three files there. They got simple and dirty names: \"0 1 2\"."
   ]
  },
  {
   "cell_type": "markdown",
   "metadata": {},
   "source": [
    "## Oh no ! Don't do this !"
   ]
  },
  {
   "cell_type": "markdown",
   "metadata": {},
   "source": [
    "Remember this chapter name: \"In Linux: everything is a file\".\n",
    "This is the truth. As I just shown you, process are directories (which is a special kind of file).\n",
    "And now I am gonna tell you an other secret: **\"input stream\" and \"output stream\" are also files !** \n",
    "\n",
    "And I have got one more revelation: you are watching these files right in front your bare eyes !\n",
    "- 0 : this is the standard input of your process\n",
    "- 1 : this is the standard output\n",
    "- 2 : this is the \"standard error\" it is just like \"standard ouput\" expect programmers use this stream to write error outputs"
   ]
  },
  {
   "cell_type": "markdown",
   "metadata": {},
   "source": [
    "And now if you are brave enough, I can show you how to hack this ! I am not responsible of the consequences..."
   ]
  },
  {
   "cell_type": "raw",
   "metadata": {},
   "source": [
    "echo \"Hello it's me !\" >> cd /proc/[your python console proc id]/fd/0"
   ]
  },
  {
   "cell_type": "markdown",
   "metadata": {},
   "source": [
    "The '>>' operator is something I haven't told you about, it is like pipe \"|\" execpt that instead of redirecting the output to an other command input, it redirects that same to the end of a file.\n",
    "\n",
    "\n",
    "Ok, now have a look at your python console.... Tada !!! Now you are a wizard ! ;)\n",
    "\n",
    "When playing with this you may notice some weird details. I let you make your discovering. Keep in mind that they are your punishment for doing black magic ;)"
   ]
  }
 ],
 "metadata": {
  "kernelspec": {
   "display_name": "Python 3",
   "language": "python",
   "name": "python3"
  },
  "language_info": {
   "codemirror_mode": {
    "name": "ipython",
    "version": 3
   },
   "file_extension": ".py",
   "mimetype": "text/x-python",
   "name": "python",
   "nbconvert_exporter": "python",
   "pygments_lexer": "ipython3",
   "version": "3.6.3"
  }
 },
 "nbformat": 4,
 "nbformat_minor": 2
}
